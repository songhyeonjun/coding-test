{
 "cells": [
  {
   "cell_type": "markdown",
   "id": "7196845d",
   "metadata": {},
   "source": [
    "## 문제 설명\n",
    "### 정수 n을 입력받아 n의 약수를 모두 더한 값을 리턴하는 함수, solution을 완성해주세요.\n",
    "\n",
    "### 제한 사항\n",
    "#### n은 0 이상 3000이하인 정수입니다.\n",
    "### 입출력 예\n",
    "#### n\treturn\n",
    "#### 12\t28\n",
    "#### 5\t6\n",
    "### 입출력 예 설명\n",
    "### 입출력 예 #1\n",
    "#### 12의 약수는 1, 2, 3, 4, 6, 12입니다. 이를 모두 더하면 28입니다.\n",
    "\n",
    "### 입출력 예 #2\n",
    "#### 5의 약수는 1, 5입니다. 이를 모두 더하면 6입니다."
   ]
  },
  {
   "cell_type": "code",
   "execution_count": null,
   "id": "5d15fa6c",
   "metadata": {},
   "outputs": [],
   "source": []
  },
  {
   "cell_type": "markdown",
   "id": "7051d544",
   "metadata": {},
   "source": [
    "## 내가푼 풀이"
   ]
  },
  {
   "cell_type": "code",
   "execution_count": 1,
   "id": "b192ff50",
   "metadata": {},
   "outputs": [
    {
     "name": "stdout",
     "output_type": "stream",
     "text": [
      "28\n"
     ]
    }
   ],
   "source": [
    "def solution(n):\n",
    "    answer = 0\n",
    "    for i in range(1, n+1) :\n",
    "        if n % i == 0 :\n",
    "        answer += i\n",
    "    \n",
    "    return answer\n",
    "\n",
    "print(solution(12))"
   ]
  },
  {
   "cell_type": "code",
   "execution_count": null,
   "id": "4250a566",
   "metadata": {},
   "outputs": [],
   "source": []
  },
  {
   "cell_type": "markdown",
   "id": "f7912e29",
   "metadata": {},
   "source": [
    "## 다른 사람 풀이"
   ]
  },
  {
   "cell_type": "markdown",
   "id": "7fb72175",
   "metadata": {},
   "source": [
    "### num / 2 의 수들만 검사하면 성능 약 2배 향상"
   ]
  },
  {
   "cell_type": "code",
   "execution_count": 3,
   "id": "2fc74263",
   "metadata": {},
   "outputs": [
    {
     "name": "stdout",
     "output_type": "stream",
     "text": [
      "28\n"
     ]
    }
   ],
   "source": [
    "def sumDivisor(num):\n",
    "    return num + sum([i for i in range(1, (num // 2) + 1) if num % i == 0])\n",
    "\n",
    "print(sumDivisor(12))"
   ]
  },
  {
   "cell_type": "markdown",
   "id": "8d0ae74d",
   "metadata": {},
   "source": [
    "### 한줄로 코딩"
   ]
  },
  {
   "cell_type": "code",
   "execution_count": 4,
   "id": "9c0e9aa7",
   "metadata": {},
   "outputs": [
    {
     "name": "stdout",
     "output_type": "stream",
     "text": [
      "28\n"
     ]
    }
   ],
   "source": [
    "def sumDivisor(num):\n",
    "    return sum([i for i in range(1,num+1) if num%i==0])\n",
    "\n",
    "# 아래는 테스트로 출력해 보기 위한 코드입니다.\n",
    "print(sumDivisor(12))"
   ]
  },
  {
   "cell_type": "code",
   "execution_count": null,
   "id": "e1edee41",
   "metadata": {},
   "outputs": [],
   "source": []
  }
 ],
 "metadata": {
  "kernelspec": {
   "display_name": "Python 3 (ipykernel)",
   "language": "python",
   "name": "python3"
  },
  "language_info": {
   "codemirror_mode": {
    "name": "ipython",
    "version": 3
   },
   "file_extension": ".py",
   "mimetype": "text/x-python",
   "name": "python",
   "nbconvert_exporter": "python",
   "pygments_lexer": "ipython3",
   "version": "3.9.12"
  }
 },
 "nbformat": 4,
 "nbformat_minor": 5
}
