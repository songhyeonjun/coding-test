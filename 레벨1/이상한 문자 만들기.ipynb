{
 "cells": [
  {
   "cell_type": "markdown",
   "id": "b8441f53",
   "metadata": {},
   "source": [
    "## 문제 설명\n",
    "#### 문자열 s는 한 개 이상의 단어로 구성되어 있습니다. 각 단어는 하나 이상의 공백문자로 구분되어 있습니다. \n",
    "#### 각 단어의 짝수번째 알파벳은 대문자로, 홀수번째 알파벳은 소문자로 바꾼 문자열을 리턴하는 함수, solution을 완성하세요.\n",
    "\n",
    "## 제한 사항\n",
    "#### 문자열 전체의 짝/홀수 인덱스가 아니라, 단어(공백을 기준)별로 짝/홀수 인덱스를 판단해야합니다.\n",
    "#### 첫 번째 글자는 0번째 인덱스로 보아 짝수번째 알파벳으로 처리해야 합니다.\n",
    "\n",
    "### 입출력 예\n",
    "#### s\treturn\n",
    "#### \"try hello world\"\t\"TrY HeLlO WoRlD\"\n",
    "### 입출력 예 설명\n",
    "#### \"try hello world\"는 세 단어 \"try\", \"hello\", \"world\"로 구성되어 있습니다. \n",
    "#### 각 단어의 짝수번째 문자를 대문자로, 홀수번째 문자를 소문자로 바꾸면 \n",
    "#### \"TrY\", \"HeLlO\", \"WoRlD\"입니다. 따라서 \"TrY HeLlO WoRlD\" 를 리턴합니다."
   ]
  },
  {
   "cell_type": "code",
   "execution_count": null,
   "id": "c8e84808",
   "metadata": {},
   "outputs": [],
   "source": []
  },
  {
   "cell_type": "markdown",
   "id": "167506db",
   "metadata": {},
   "source": [
    "## 내가 푼 풀이"
   ]
  },
  {
   "cell_type": "code",
   "execution_count": 1,
   "id": "806639df",
   "metadata": {},
   "outputs": [
    {
     "name": "stdout",
     "output_type": "stream",
     "text": [
      "TrY HeLlO WoRlD\n"
     ]
    }
   ],
   "source": [
    "def solution(s):\n",
    "    answer = ''\n",
    "    for i in s.split(\" \") : # 하나 이상의 공백\n",
    "        for j in range(len(i)) :\n",
    "            if j % 2 == 0 :\n",
    "                answer += i[j].upper()\n",
    "            else : \n",
    "                answer += i[j].lower() # 문자열 전체가 대문자인 경우\n",
    "        answer += \" \"\n",
    "        \n",
    "    return answer[:-1] # 마지막 공백때문\n",
    "\n",
    "print(solution(\"try hello world\"))"
   ]
  },
  {
   "cell_type": "code",
   "execution_count": null,
   "id": "b383e9a2",
   "metadata": {},
   "outputs": [],
   "source": []
  },
  {
   "cell_type": "markdown",
   "id": "de447e1e",
   "metadata": {},
   "source": [
    "## 다른 사람 풀이"
   ]
  },
  {
   "cell_type": "code",
   "execution_count": 3,
   "id": "195ae6a9",
   "metadata": {},
   "outputs": [
    {
     "name": "stdout",
     "output_type": "stream",
     "text": [
      "TrY HeLlO WoRlD\n"
     ]
    }
   ],
   "source": [
    "def toWeirdCase(s):\n",
    "    return \" \".join(map(lambda x: \"\".join([a.lower() if i % 2 else a.upper() for i, a in enumerate(x)]), s.split(\" \")))\n",
    "print(solution(\"try hello world\"))"
   ]
  },
  {
   "cell_type": "code",
   "execution_count": null,
   "id": "0abcb687",
   "metadata": {},
   "outputs": [],
   "source": []
  },
  {
   "cell_type": "code",
   "execution_count": 4,
   "id": "0527401c",
   "metadata": {},
   "outputs": [
    {
     "name": "stdout",
     "output_type": "stream",
     "text": [
      "결과 : TrY HeLlO WoRlD\n"
     ]
    }
   ],
   "source": [
    "def toWeirdCase(s):\n",
    "    a=[]\n",
    "    s=s.split(\" \")\n",
    "    for i in range(len(s)):\n",
    "        for j in range(len(s[i])):\n",
    "            if j%2==0:\n",
    "                a.append(s[i][j].upper())\n",
    "            else:\n",
    "                a.append(s[i][j].lower())\n",
    "        a.append(\" \")\n",
    "\n",
    "    c=\"\".join(a[:-1])\n",
    "    return c\n",
    "\n",
    "print(\"결과 : {}\".format(toWeirdCase(\"try hello world\")));"
   ]
  },
  {
   "cell_type": "code",
   "execution_count": null,
   "id": "969bbd0f",
   "metadata": {},
   "outputs": [],
   "source": []
  }
 ],
 "metadata": {
  "kernelspec": {
   "display_name": "Python 3 (ipykernel)",
   "language": "python",
   "name": "python3"
  },
  "language_info": {
   "codemirror_mode": {
    "name": "ipython",
    "version": 3
   },
   "file_extension": ".py",
   "mimetype": "text/x-python",
   "name": "python",
   "nbconvert_exporter": "python",
   "pygments_lexer": "ipython3",
   "version": "3.9.12"
  }
 },
 "nbformat": 4,
 "nbformat_minor": 5
}
