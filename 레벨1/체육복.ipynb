{
 "cells": [
  {
   "cell_type": "markdown",
   "id": "e3f9509c",
   "metadata": {},
   "source": [
    "## 문제 설명\n",
    "#### 점심시간에 도둑이 들어, 일부 학생이 체육복을 도난당했습니다. \n",
    "#### 다행히 여벌 체육복이 있는 학생이 이들에게 체육복을 빌려주려 합니다. \n",
    "#### 학생들의 번호는 체격 순으로 매겨져 있어, 바로 앞번호의 학생이나 바로 뒷번호의 학생에게만 체육복을 빌려줄 수 있습니다. \n",
    "#### 예를 들어, 4번 학생은 3번 학생이나 5번 학생에게만 체육복을 빌려줄 수 있습니다. \n",
    "#### 체육복이 없으면 수업을 들을 수 없기 때문에 체육복을 적절히 빌려 최대한 많은 학생이 체육수업을 들어야 합니다.\n",
    "\n",
    "#### 전체 학생의 수 n, 체육복을 도난당한 학생들의 번호가 담긴 배열 lost, \n",
    "#### 여벌의 체육복을 가져온 학생들의 번호가 담긴 배열 reserve가 매개변수로 주어질 때, \n",
    "#### 체육수업을 들을 수 있는 학생의 최댓값을 return 하도록 solution 함수를 작성해주세요.\n",
    "\n",
    "## 제한사항\n",
    "#### 전체 학생의 수는 2명 이상 30명 이하입니다.\n",
    "#### 체육복을 도난당한 학생의 수는 1명 이상 n명 이하이고 중복되는 번호는 없습니다.\n",
    "#### 여벌의 체육복을 가져온 학생의 수는 1명 이상 n명 이하이고 중복되는 번호는 없습니다.\n",
    "#### 여벌 체육복이 있는 학생만 다른 학생에게 체육복을 빌려줄 수 있습니다.\n",
    "#### 여벌 체육복을 가져온 학생이 체육복을 도난당했을 수 있습니다. 이때 이 학생은 체육복을 하나만 도난당했다고 가정하며, \n",
    "#### 남은 체육복이 하나이기에 다른 학생에게는 체육복을 빌려줄 수 없습니다.\n",
    "\n",
    "### 입출력 예\n",
    "#### n\tlost\treserve\treturn\n",
    "#### 5\t[2, 4]\t[1, 3, 5]\t5\n",
    "#### 5\t[2, 4]\t[3]\t4\n",
    "#### 3\t[3]\t[1]\t2\n",
    "\n",
    "## 입출력 예 설명\n",
    "\n",
    "### 예제 #1\n",
    "#### 1번 학생이 2번 학생에게 체육복을 빌려주고, 3번 학생이나 5번 학생이 4번 학생에게 체육복을 빌려주면 \n",
    "#### 학생 5명이 체육수업을 들을 수 있습니다.\n",
    "\n",
    "### 예제 #2\n",
    "#### 3번 학생이 2번 학생이나 4번 학생에게 체육복을 빌려주면 학생 4명이 체육수업을 들을 수 있습니다."
   ]
  },
  {
   "cell_type": "code",
   "execution_count": null,
   "id": "dc48f679",
   "metadata": {},
   "outputs": [],
   "source": []
  },
  {
   "cell_type": "markdown",
   "id": "d970d54b",
   "metadata": {},
   "source": [
    "## 풀이"
   ]
  },
  {
   "cell_type": "code",
   "execution_count": 2,
   "id": "9b9068c5",
   "metadata": {},
   "outputs": [
    {
     "name": "stdout",
     "output_type": "stream",
     "text": [
      "5\n",
      "4\n"
     ]
    }
   ],
   "source": [
    "def solution(n, lost, reserve):\n",
    "    set_reserve=set(reserve)-set(lost)\n",
    "    set_lost = set(lost)-set(reserve)\n",
    "    for i in set_reserve:\n",
    "        if i-1 in set_lost:\n",
    "            set_lost.remove(i-1)\n",
    "        elif i+1 in set_lost:\n",
    "            set_lost.remove(i+1)\n",
    "    return n-len(set_lost)\n",
    "\n",
    "print(solution(5,\t[2, 4],\t[1, 3, 5]))\n",
    "print(solution(5,\t[2, 4],\t[3]))"
   ]
  },
  {
   "cell_type": "code",
   "execution_count": null,
   "id": "3090fe7c",
   "metadata": {},
   "outputs": [],
   "source": []
  },
  {
   "cell_type": "code",
   "execution_count": 3,
   "id": "97134561",
   "metadata": {},
   "outputs": [
    {
     "name": "stdout",
     "output_type": "stream",
     "text": [
      "5\n",
      "4\n"
     ]
    }
   ],
   "source": [
    "def solution(n, lost, reserve):\n",
    "    _reserve = [r for r in reserve if r not in lost]\n",
    "    _lost = [l for l in lost if l not in reserve]\n",
    "    for r in _reserve:\n",
    "        f = r - 1\n",
    "        b = r + 1\n",
    "        if f in _lost:\n",
    "            _lost.remove(f)\n",
    "        elif b in _lost:\n",
    "            _lost.remove(b)\n",
    "    return n - len(_lost)\n",
    "\n",
    "print(solution(5,\t[2, 4],\t[1, 3, 5]))\n",
    "print(solution(5,\t[2, 4],\t[3]))"
   ]
  },
  {
   "cell_type": "code",
   "execution_count": null,
   "id": "8caec53a",
   "metadata": {},
   "outputs": [],
   "source": []
  },
  {
   "cell_type": "code",
   "execution_count": 4,
   "id": "c46468c1",
   "metadata": {},
   "outputs": [
    {
     "name": "stdout",
     "output_type": "stream",
     "text": [
      "5\n",
      "4\n"
     ]
    }
   ],
   "source": [
    "def solution(n, lost, reserve):\n",
    "    answer = 0\n",
    "    for i in range(1, n+1):\n",
    "        if i not in lost: #안 잃어버린 학생\n",
    "            answer += 1\n",
    "        else:\n",
    "            if i in reserve: #잃어버렸지만 여분도 있는 학생\n",
    "                answer += 1\n",
    "                reserve.remove(i)\n",
    "                lost.remove(i)\n",
    "\n",
    "    for i in lost: #잃어버리고 여분도 없어서 빌려야 하는 학생\n",
    "        if i-1 in reserve:\n",
    "            answer += 1\n",
    "            reserve.remove(i-1)\n",
    "\n",
    "        elif i+1 in reserve:\n",
    "            answer +=1\n",
    "            reserve.remove(i+1)\n",
    "\n",
    "    return answer\n",
    "print(solution(5,\t[2, 4],\t[1, 3, 5]))\n",
    "print(solution(5,\t[2, 4],\t[3]))"
   ]
  },
  {
   "cell_type": "code",
   "execution_count": null,
   "id": "004f045a",
   "metadata": {},
   "outputs": [],
   "source": []
  }
 ],
 "metadata": {
  "kernelspec": {
   "display_name": "Python 3 (ipykernel)",
   "language": "python",
   "name": "python3"
  },
  "language_info": {
   "codemirror_mode": {
    "name": "ipython",
    "version": 3
   },
   "file_extension": ".py",
   "mimetype": "text/x-python",
   "name": "python",
   "nbconvert_exporter": "python",
   "pygments_lexer": "ipython3",
   "version": "3.9.12"
  }
 },
 "nbformat": 4,
 "nbformat_minor": 5
}
