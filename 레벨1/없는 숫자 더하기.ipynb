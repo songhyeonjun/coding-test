{
 "cells": [
  {
   "cell_type": "markdown",
   "id": "72b9c04d",
   "metadata": {},
   "source": [
    "## 문제 설명\n",
    "### 0부터 9까지의 숫자 중 일부가 들어있는 정수 배열 numbers가 매개변수로 주어집니다. numbers에서 찾을 수 없는 0부터 9까지의 숫자를 모두 찾아 더한 수를 return 하도록 solution 함수를 완성해주세요.\n",
    "\n",
    "## 제한사항\n",
    "### 1 ≤ numbers의 길이 ≤ 9\n",
    "### 0 ≤ numbers의 모든 원소 ≤ 9\n",
    "### numbers의 모든 원소는 서로 다릅니다.\n",
    "\n",
    "### 입출력 예\n",
    "#### numbers\tresult\n",
    "#### [1,2,3,4,6,7,8,0]\t14\n",
    "#### [5,8,4,0,6,7,9]\t6\n",
    "\n",
    "### 입출력 예 설명\n",
    "### 입출력 예 #1\n",
    "\n",
    "#### 5, 9가 numbers에 없으므로, 5 + 9 = 14를 return 해야 합니다.\n",
    "\n",
    "### 입출력 예 #2\n",
    "\n",
    "#### 1, 2, 3이 numbers에 없으므로, 1 + 2 + 3 = 6을 return 해야 합니다."
   ]
  },
  {
   "cell_type": "code",
   "execution_count": null,
   "id": "15e31f70",
   "metadata": {},
   "outputs": [],
   "source": []
  },
  {
   "cell_type": "markdown",
   "id": "f440b124",
   "metadata": {},
   "source": [
    "## 내가 푼 풀이"
   ]
  },
  {
   "cell_type": "code",
   "execution_count": 1,
   "id": "c35f4d48",
   "metadata": {},
   "outputs": [
    {
     "name": "stdout",
     "output_type": "stream",
     "text": [
      "17\n"
     ]
    }
   ],
   "source": [
    "def solution(numbers):\n",
    "    answer = [0,1,2,3,4,5,6,7,8,9]\n",
    "    for i in numbers :\n",
    "        answer.remove(i)  \n",
    "    return sum(answer)\n",
    "\n",
    "print(solution([1,2,3,4,5,6,7]))"
   ]
  },
  {
   "cell_type": "code",
   "execution_count": null,
   "id": "4daef1cb",
   "metadata": {},
   "outputs": [],
   "source": []
  },
  {
   "cell_type": "markdown",
   "id": "00df4a02",
   "metadata": {},
   "source": [
    "## 다른 사람 풀이"
   ]
  },
  {
   "cell_type": "code",
   "execution_count": 3,
   "id": "82cad82b",
   "metadata": {},
   "outputs": [
    {
     "name": "stdout",
     "output_type": "stream",
     "text": [
      "30\n"
     ]
    }
   ],
   "source": [
    "def solution(numbers):\n",
    "    return 45 - sum(numbers)\n",
    "\n",
    "print(solution([1,2,3,4,5]))"
   ]
  },
  {
   "cell_type": "code",
   "execution_count": null,
   "id": "15f2f81a",
   "metadata": {},
   "outputs": [],
   "source": []
  },
  {
   "cell_type": "code",
   "execution_count": 5,
   "id": "c222cce9",
   "metadata": {},
   "outputs": [
    {
     "name": "stdout",
     "output_type": "stream",
     "text": [
      "22\n"
     ]
    }
   ],
   "source": [
    "def solution(numbers):\n",
    "    answer=0\n",
    "    for i in range(1,10):\n",
    "        if i not in numbers:\n",
    "            answer += i\n",
    "    return answer\n",
    "\n",
    "print(solution([1,2,3,4,5,8,0]))"
   ]
  },
  {
   "cell_type": "code",
   "execution_count": null,
   "id": "32015780",
   "metadata": {},
   "outputs": [],
   "source": []
  }
 ],
 "metadata": {
  "kernelspec": {
   "display_name": "Python 3 (ipykernel)",
   "language": "python",
   "name": "python3"
  },
  "language_info": {
   "codemirror_mode": {
    "name": "ipython",
    "version": 3
   },
   "file_extension": ".py",
   "mimetype": "text/x-python",
   "name": "python",
   "nbconvert_exporter": "python",
   "pygments_lexer": "ipython3",
   "version": "3.9.12"
  }
 },
 "nbformat": 4,
 "nbformat_minor": 5
}
