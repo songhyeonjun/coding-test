{
 "cells": [
  {
   "cell_type": "markdown",
   "id": "068d3eec",
   "metadata": {},
   "source": [
    "## 문제 설명\n",
    "### 두 수를 입력받아 두 수의 최대공약수와 최소공배수를 반환하는 함수, solution을 완성해 보세요.\n",
    "### 배열의 맨 앞에 최대공약수, 그다음 최소공배수를 넣어 반환하면 됩니다. \n",
    "### 예를 들어 두 수 3, 12의 최대공약수는 3, 최소공배수는 12이므로 solution(3, 12)는 [3, 12]를 반환해야 합니다.\n",
    "\n",
    "## 제한 사항\n",
    "### 두 수는 1이상 1000000이하의 자연수입니다.\n",
    "### 입출력 예\n",
    "#### n\tm\treturn\n",
    "#### 3\t12\t[3, 12]\n",
    "#### 2\t5\t[1, 10]\n",
    "\n",
    "### 입출력 예 설명\n",
    "### 입출력 예 #1\n",
    "### 위의 설명과 같습니다.\n",
    "\n",
    "### 입출력 예 #2\n",
    "#### 자연수 2와 5의 최대공약수는 1, 최소공배수는 10이므로 [1, 10]을 리턴해야 합니다."
   ]
  },
  {
   "cell_type": "code",
   "execution_count": null,
   "id": "b782968b",
   "metadata": {},
   "outputs": [],
   "source": []
  },
  {
   "cell_type": "markdown",
   "id": "50096577",
   "metadata": {},
   "source": [
    "## 내가 푼 풀이"
   ]
  },
  {
   "cell_type": "code",
   "execution_count": 2,
   "id": "5659e023",
   "metadata": {},
   "outputs": [
    {
     "name": "stdout",
     "output_type": "stream",
     "text": [
      "[3, 12]\n",
      "[1, 10]\n"
     ]
    }
   ],
   "source": [
    "def solution(n, m):\n",
    "    answer = []\n",
    "    for i in range(min(n, m),0,-1):\n",
    "        if n%i ==0 and m%i==0:\n",
    "            answer.append(i)\n",
    "            break\n",
    "    for i in range(max(n, m), (n * m) + 1):\n",
    "        if i%n==0 and i%m==0:\n",
    "            answer.append(i)\n",
    "            break\n",
    "    return answer\n",
    "\n",
    "print(solution(3, 12))\n",
    "print(solution(2, 5))"
   ]
  },
  {
   "cell_type": "code",
   "execution_count": null,
   "id": "09117e00",
   "metadata": {},
   "outputs": [],
   "source": []
  },
  {
   "cell_type": "markdown",
   "id": "d23b6515",
   "metadata": {},
   "source": [
    "## 다른 사람 풀이"
   ]
  },
  {
   "cell_type": "code",
   "execution_count": 3,
   "id": "e9adefac",
   "metadata": {},
   "outputs": [
    {
     "name": "stdout",
     "output_type": "stream",
     "text": [
      "[3, 12]\n"
     ]
    }
   ],
   "source": [
    "def gcdlcm(a, b):\n",
    "    c, d = max(a, b), min(a, b)\n",
    "    t = 1\n",
    "    while t > 0:\n",
    "        t = c % d\n",
    "        c, d = d, t\n",
    "    answer = [c, int(a*b/c)]\n",
    "\n",
    "    return answer\n",
    "\n",
    "# 아래는 테스트로 출력해 보기 위한 코드입니다.\n",
    "print(gcdlcm(3,12))"
   ]
  },
  {
   "cell_type": "code",
   "execution_count": null,
   "id": "afc19a79",
   "metadata": {},
   "outputs": [],
   "source": []
  },
  {
   "cell_type": "code",
   "execution_count": 4,
   "id": "beb47e74",
   "metadata": {},
   "outputs": [
    {
     "name": "stdout",
     "output_type": "stream",
     "text": [
      "[3, 12]\n",
      "[1, 10]\n"
     ]
    }
   ],
   "source": [
    "def solution(n, m):\n",
    "    gcd = lambda a,b : b if not a%b else gcd(b, a%b)\n",
    "    lcm = lambda a,b : a*b//gcd(a,b)\n",
    "    return [gcd(n, m), lcm(n, m)]\n",
    "\n",
    "print(solution(3, 12))\n",
    "print(solution(2, 5))"
   ]
  }
 ],
 "metadata": {
  "kernelspec": {
   "display_name": "Python 3 (ipykernel)",
   "language": "python",
   "name": "python3"
  },
  "language_info": {
   "codemirror_mode": {
    "name": "ipython",
    "version": 3
   },
   "file_extension": ".py",
   "mimetype": "text/x-python",
   "name": "python",
   "nbconvert_exporter": "python",
   "pygments_lexer": "ipython3",
   "version": "3.9.12"
  }
 },
 "nbformat": 4,
 "nbformat_minor": 5
}
