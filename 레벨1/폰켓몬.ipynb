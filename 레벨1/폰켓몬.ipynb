{
 "cells": [
  {
   "cell_type": "markdown",
   "id": "f90174a1",
   "metadata": {},
   "source": [
    "## 문제 설명\n",
    "#### 당신은 폰켓몬을 잡기 위한 오랜 여행 끝에, 홍 박사님의 연구실에 도착했습니다. \n",
    "#### 홍 박사님은 당신에게 자신의 연구실에 있는 총 N 마리의 폰켓몬 중에서 N/2마리를 가져가도 좋다고 했습니다.\n",
    "#### 홍 박사님 연구실의 폰켓몬은 종류에 따라 번호를 붙여 구분합니다. 따라서 같은 종류의 폰켓몬은 같은 번호를 가지고 있습니다. \n",
    "#### 예를 들어 연구실에 총 4마리의 폰켓몬이 있고, 각 폰켓몬의 종류 번호가 [3번, 1번, 2번, 3번]이라면 이는 3번 폰켓몬 두 마리, \n",
    "#### 1번 폰켓몬 한 마리, 2번 폰켓몬 한 마리가 있음을 나타냅니다. \n",
    "#### 이때, 4마리의 폰켓몬 중 2마리를 고르는 방법은 다음과 같이 6가지가 있습니다.\n",
    "\n",
    "#### 첫 번째(3번), 두 번째(1번) 폰켓몬을 선택\n",
    "#### 첫 번째(3번), 세 번째(2번) 폰켓몬을 선택\n",
    "#### 첫 번째(3번), 네 번째(3번) 폰켓몬을 선택\n",
    "#### 두 번째(1번), 세 번째(2번) 폰켓몬을 선택\n",
    "#### 두 번째(1번), 네 번째(3번) 폰켓몬을 선택\n",
    "#### 세 번째(2번), 네 번째(3번) 폰켓몬을 선택\n",
    "#### 이때, 첫 번째(3번) 폰켓몬과 네 번째(3번) 폰켓몬을 선택하는 방법은 한 종류(3번 폰켓몬 두 마리)의 폰켓몬만 가질 수 있지만, \n",
    "#### 다른 방법들은 모두 두 종류의 폰켓몬을 가질 수 있습니다. 따라서 위 예시에서 가질 수 있는 폰켓몬 종류 수의 최댓값은 2가 됩니다.\n",
    "#### 당신은 최대한 다양한 종류의 폰켓몬을 가지길 원하기 때문에, 최대한 많은 종류의 폰켓몬을 포함해서 N/2마리를 선택하려 합니다. \n",
    "#### N마리 폰켓몬의 종류 번호가 담긴 배열 nums가 매개변수로 주어질 때, N/2마리의 폰켓몬을 선택하는 방법 중, \n",
    "#### 가장 많은 종류의 폰켓몬을 선택하는 방법을 찾아, 그때의 폰켓몬 종류 번호의 개수를 return 하도록 solution 함수를 완성해주세요.\n",
    "\n",
    "## 제한사항\n",
    "#### nums는 폰켓몬의 종류 번호가 담긴 1차원 배열입니다.\n",
    "#### nums의 길이(N)는 1 이상 10,000 이하의 자연수이며, 항상 짝수로 주어집니다.\n",
    "#### 폰켓몬의 종류 번호는 1 이상 200,000 이하의 자연수로 나타냅니다.\n",
    "#### 가장 많은 종류의 폰켓몬을 선택하는 방법이 여러 가지인 경우에도, 선택할 수 있는 폰켓몬 종류 개수의 최댓값 하나만 return 하면 됩니다.\n",
    "### 입출력 예\n",
    "#### nums\tresult\n",
    "#### [3,1,2,3]\t2\n",
    "#### [3,3,3,2,2,4]\t3\n",
    "#### [3,3,3,2,2,2]\t2\n",
    "## 입출력 예 설명\n",
    "\n",
    "### 입출력 예 #1\n",
    "#### 문제의 예시와 같습니다.\n",
    "\n",
    "### 입출력 예 #2\n",
    "#### 6마리의 폰켓몬이 있으므로, 3마리의 폰켓몬을 골라야 합니다.\n",
    "#### 가장 많은 종류의 폰켓몬을 고르기 위해서는 3번 폰켓몬 한 마리, 2번 폰켓몬 한 마리, 4번 폰켓몬 한 마리를 고르면 되며, \n",
    "#### 따라서 3을 return 합니다.\n",
    "\n",
    "### 입출력 예 #3\n",
    "#### 6마리의 폰켓몬이 있으므로, 3마리의 폰켓몬을 골라야 합니다.\n",
    "#### 가장 많은 종류의 폰켓몬을 고르기 위해서는 3번 폰켓몬 한 마리와 2번 폰켓몬 두 마리를 고르거나, \n",
    "#### 혹은 3번 폰켓몬 두 마리와 2번 폰켓몬 한 마리를 고르면 됩니다. 따라서 최대 고를 수 있는 폰켓몬 종류의 수는 2입니다."
   ]
  },
  {
   "cell_type": "code",
   "execution_count": null,
   "id": "f21340b5",
   "metadata": {},
   "outputs": [],
   "source": []
  },
  {
   "cell_type": "markdown",
   "id": "cf661ad9",
   "metadata": {},
   "source": [
    "## 내가 푼 풀이"
   ]
  },
  {
   "cell_type": "code",
   "execution_count": 1,
   "id": "45b5a517",
   "metadata": {},
   "outputs": [
    {
     "name": "stdout",
     "output_type": "stream",
     "text": [
      "2\n",
      "2.0\n",
      "3\n"
     ]
    }
   ],
   "source": [
    "def solution(nums):\n",
    "    if len(list(set(nums))) > len(nums) / 2 :\n",
    "        return len(nums) / 2\n",
    "    else :\n",
    "        return len(list(set(nums)))\n",
    "print(solution([3,3,3,2,2,2]))\n",
    "print(solution([3,1,2,3]))\n",
    "print(solution([3,3,3,2,2,4]))"
   ]
  },
  {
   "cell_type": "code",
   "execution_count": null,
   "id": "92a42b24",
   "metadata": {},
   "outputs": [],
   "source": []
  },
  {
   "cell_type": "markdown",
   "id": "e4ce86cc",
   "metadata": {},
   "source": [
    "## 다른 사람 풀이"
   ]
  },
  {
   "cell_type": "code",
   "execution_count": 2,
   "id": "9adfd213",
   "metadata": {},
   "outputs": [
    {
     "name": "stdout",
     "output_type": "stream",
     "text": [
      "2\n",
      "2.0\n",
      "3.0\n"
     ]
    }
   ],
   "source": [
    "def solution(ls):\n",
    "    return min(len(ls)/2, len(set(ls)))\n",
    "print(solution([3,3,3,2,2,2]))\n",
    "print(solution([3,1,2,3]))\n",
    "print(solution([3,3,3,2,2,4]))"
   ]
  },
  {
   "cell_type": "code",
   "execution_count": null,
   "id": "2abbde29",
   "metadata": {},
   "outputs": [],
   "source": []
  },
  {
   "cell_type": "code",
   "execution_count": 3,
   "id": "d6b22370",
   "metadata": {},
   "outputs": [
    {
     "name": "stdout",
     "output_type": "stream",
     "text": [
      "2\n",
      "2.0\n",
      "3.0\n"
     ]
    }
   ],
   "source": [
    "def solution(nums):\n",
    "    answer = 0\n",
    "    myList = set(nums)\n",
    "    if len(nums)/2 > len(myList):\n",
    "        answer = len(myList)\n",
    "    else:\n",
    "        answer = len(nums)/2\n",
    "    return answer\n",
    "print(solution([3,3,3,2,2,2]))\n",
    "print(solution([3,1,2,3]))\n",
    "print(solution([3,3,3,2,2,4]))"
   ]
  },
  {
   "cell_type": "code",
   "execution_count": null,
   "id": "d3888f1b",
   "metadata": {},
   "outputs": [],
   "source": []
  }
 ],
 "metadata": {
  "kernelspec": {
   "display_name": "Python 3 (ipykernel)",
   "language": "python",
   "name": "python3"
  },
  "language_info": {
   "codemirror_mode": {
    "name": "ipython",
    "version": 3
   },
   "file_extension": ".py",
   "mimetype": "text/x-python",
   "name": "python",
   "nbconvert_exporter": "python",
   "pygments_lexer": "ipython3",
   "version": "3.9.12"
  }
 },
 "nbformat": 4,
 "nbformat_minor": 5
}
