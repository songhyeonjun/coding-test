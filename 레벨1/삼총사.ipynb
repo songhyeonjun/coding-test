{
 "cells": [
  {
   "cell_type": "markdown",
   "id": "fbb157fa",
   "metadata": {},
   "source": [
    "## 문제 설명\n",
    "#### 한국중학교에 다니는 학생들은 각자 정수 번호를 갖고 있습니다. \n",
    "#### 이 학교 학생 3명의 정수 번호를 더했을 때 0이 되면 3명의 학생은 삼총사라고 합니다. \n",
    "#### 예를 들어, 5명의 학생이 있고, 각각의 정수 번호가 순서대로 -2, 3, 0, 2, -5일 때, \n",
    "#### 첫 번째, 세 번째, 네 번째 학생의 정수 번호를 더하면 0이므로 세 학생은 삼총사입니다. \n",
    "#### 또한, 두 번째, 네 번째, 다섯 번째 학생의 정수 번호를 더해도 0이므로 세 학생도 삼총사입니다. \n",
    "#### 따라서 이 경우 한국중학교에서는 두 가지 방법으로 삼총사를 만들 수 있습니다.\n",
    "\n",
    "### 한국중학교 학생들의 번호를 나타내는 정수 배열 number가 매개변수로 주어질 때, \n",
    "### 학생들 중 삼총사를 만들 수 있는 방법의 수를 return 하도록 solution 함수를 완성하세요.\n",
    "\n",
    "## 제한사항\n",
    "#### 3 ≤ number의 길이 ≤ 13\n",
    "#### -1,000 ≤ number의 각 원소 ≤ 1,000\n",
    "#### 서로 다른 학생의 정수 번호가 같을 수 있습니다.\n",
    "### 입출력 예\n",
    "#### number\tresult\n",
    "#### [-2, 3, 0, 2, -5]\t2\n",
    "#### [-3, -2, -1, 0, 1, 2, 3]\t5\n",
    "#### [-1, 1, -1, 1]\t0\n",
    "\n",
    "## 입출력 예 설명\n",
    "### 입출력 예 #1\n",
    "\n",
    "#### 문제 예시와 같습니다.\n",
    "### 입출력 예 #2\n",
    "\n",
    "#### 학생들의 정수 번호 쌍 (-3, 0, 3), (-2, 0, 2), (-1, 0, 1), (-2, -1, 3), (-3, 1, 2) 이 삼총사가 될 수 있으므로, 5를 return 합니다.\n",
    "### 입출력 예 #3\n",
    "\n",
    "### 삼총사가 될 수 있는 방법이 없습니다."
   ]
  },
  {
   "cell_type": "code",
   "execution_count": null,
   "id": "22fd507a",
   "metadata": {},
   "outputs": [],
   "source": []
  },
  {
   "cell_type": "markdown",
   "id": "5a1dbc1a",
   "metadata": {},
   "source": [
    "## 내가 푼 풀이"
   ]
  },
  {
   "cell_type": "code",
   "execution_count": 1,
   "id": "75689378",
   "metadata": {},
   "outputs": [
    {
     "name": "stdout",
     "output_type": "stream",
     "text": [
      "5\n"
     ]
    }
   ],
   "source": [
    "def solution(number):\n",
    "    answer = 0\n",
    "    for i in range(len(number)) :\n",
    "        for j in range(i+1, len(number)) :\n",
    "            for n in range(j+1, len(number)) :\n",
    "                if number[i] + number[j] + number[n] == 0 :\n",
    "                    answer += 1\n",
    "    return answer\n",
    "\n",
    "print(solution([-3, -2, -1, 0, 1, 2, 3]))"
   ]
  },
  {
   "cell_type": "code",
   "execution_count": null,
   "id": "d1648981",
   "metadata": {},
   "outputs": [],
   "source": []
  },
  {
   "cell_type": "markdown",
   "id": "4ff5ca40",
   "metadata": {},
   "source": [
    "## 다른 사람 풀이"
   ]
  },
  {
   "cell_type": "code",
   "execution_count": 2,
   "id": "13c5df12",
   "metadata": {},
   "outputs": [
    {
     "name": "stdout",
     "output_type": "stream",
     "text": [
      "5\n"
     ]
    }
   ],
   "source": [
    "def solution (number) :\n",
    "    from itertools import combinations\n",
    "    cnt = 0\n",
    "    for i in combinations(number,3) :\n",
    "        if sum(i) == 0 :\n",
    "            cnt += 1\n",
    "    return cnt\n",
    "print(solution([-3, -2, -1, 0, 1, 2, 3]))"
   ]
  },
  {
   "cell_type": "code",
   "execution_count": null,
   "id": "1ce2517c",
   "metadata": {},
   "outputs": [],
   "source": []
  }
 ],
 "metadata": {
  "kernelspec": {
   "display_name": "Python 3 (ipykernel)",
   "language": "python",
   "name": "python3"
  },
  "language_info": {
   "codemirror_mode": {
    "name": "ipython",
    "version": 3
   },
   "file_extension": ".py",
   "mimetype": "text/x-python",
   "name": "python",
   "nbconvert_exporter": "python",
   "pygments_lexer": "ipython3",
   "version": "3.9.12"
  }
 },
 "nbformat": 4,
 "nbformat_minor": 5
}
