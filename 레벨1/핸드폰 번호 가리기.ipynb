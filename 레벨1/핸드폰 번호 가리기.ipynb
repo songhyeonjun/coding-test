{
 "cells": [
  {
   "cell_type": "markdown",
   "id": "560f8542",
   "metadata": {},
   "source": [
    "## 문제 설명\n",
    "### 프로그래머스 모바일은 개인정보 보호를 위해 고지서를 보낼 때 고객들의 전화번호의 일부를 가립니다.\n",
    "### 전화번호가 문자열 phone_number로 주어졌을 때, 전화번호의 뒷 4자리를 제외한 나머지 숫자를 전부 *으로 가린 문자열을 리턴하는 함수, solution을 완성해주세요.\n",
    "\n",
    "### 제한 조건\n",
    "#### phone_number는 길이 4 이상, 20이하인 문자열입니다.\n",
    "### 입출력 예\n",
    "#### phone_number\treturn\n",
    "#### \"01033334444\"\t\"*******4444\"\n",
    "#### \"027778888\"\t\"*****8888\""
   ]
  },
  {
   "cell_type": "code",
   "execution_count": null,
   "id": "76bc2edd",
   "metadata": {},
   "outputs": [],
   "source": []
  },
  {
   "cell_type": "markdown",
   "id": "a8a39c48",
   "metadata": {},
   "source": [
    "## 내가 푼 풀이"
   ]
  },
  {
   "cell_type": "code",
   "execution_count": 1,
   "id": "d7be7fc5",
   "metadata": {},
   "outputs": [
    {
     "name": "stdout",
     "output_type": "stream",
     "text": [
      "*******5678\n"
     ]
    }
   ],
   "source": [
    "def solution(phone_number):\n",
    "    answer = ''\n",
    "    answer = phone_number.replace(phone_number[:-4], \n",
    "                                  '*' * len(phone_number[:-4]))\n",
    "    return answer\n",
    "\n",
    "print(solution('01012345678'))"
   ]
  },
  {
   "cell_type": "code",
   "execution_count": null,
   "id": "3aaf5c5a",
   "metadata": {},
   "outputs": [],
   "source": []
  },
  {
   "cell_type": "markdown",
   "id": "d484d35c",
   "metadata": {},
   "source": [
    "## 다른 사람 풀이"
   ]
  },
  {
   "cell_type": "code",
   "execution_count": 2,
   "id": "effae2c6",
   "metadata": {},
   "outputs": [
    {
     "name": "stdout",
     "output_type": "stream",
     "text": [
      "결과 : *******4444\n"
     ]
    }
   ],
   "source": [
    "def hide_numbers(s):\n",
    "    return \"*\"*(len(s)-4) + s[-4:]\n",
    "\n",
    "# 아래는 테스트로 출력해 보기 위한 코드입니다.\n",
    "print(\"결과 : \" + hide_numbers('01033334444'));"
   ]
  },
  {
   "cell_type": "code",
   "execution_count": null,
   "id": "fa1d2428",
   "metadata": {},
   "outputs": [],
   "source": []
  },
  {
   "cell_type": "markdown",
   "id": "b4a071f7",
   "metadata": {},
   "source": [
    "### 정규식 활용"
   ]
  },
  {
   "cell_type": "code",
   "execution_count": null,
   "id": "190be2ae",
   "metadata": {},
   "outputs": [],
   "source": [
    "import re \n",
    "\n",
    "def hide_numbers(s):\n",
    "    p = re.compile(r'\\d(?=\\d{4})')\n",
    "    return p.sub(\"*\", s, count = 0)\n",
    "\n",
    "# 아래는 테스트로 출력해 보기 위한 코드입니다.\n",
    "print(\"결과 : \" + hide_numbers('01033334444'));\n",
    "print(\"결과 : \" + hide_numbers('027778888'));"
   ]
  }
 ],
 "metadata": {
  "kernelspec": {
   "display_name": "Python 3 (ipykernel)",
   "language": "python",
   "name": "python3"
  },
  "language_info": {
   "codemirror_mode": {
    "name": "ipython",
    "version": 3
   },
   "file_extension": ".py",
   "mimetype": "text/x-python",
   "name": "python",
   "nbconvert_exporter": "python",
   "pygments_lexer": "ipython3",
   "version": "3.9.12"
  }
 },
 "nbformat": 4,
 "nbformat_minor": 5
}
