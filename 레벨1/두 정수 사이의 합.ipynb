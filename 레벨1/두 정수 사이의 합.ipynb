{
 "cells": [
  {
   "cell_type": "markdown",
   "id": "de284a6b",
   "metadata": {},
   "source": [
    "## 문제 설명\n",
    "### 두 정수 a, b가 주어졌을 때 a와 b 사이에 속한 모든 정수의 합을 리턴하는 함수, solution을 완성하세요.\n",
    "### 예를 들어 a = 3, b = 5인 경우, 3 + 4 + 5 = 12이므로 12를 리턴합니다.\n",
    "\n",
    "### 제한 조건\n",
    "#### a와 b가 같은 경우는 둘 중 아무 수나 리턴하세요.\n",
    "#### a와 b는 -10,000,000 이상 10,000,000 이하인 정수입니다.\n",
    "#### a와 b의 대소관계는 정해져있지 않습니다.\n",
    "### 입출력 예\n",
    "#### a\tb\treturn\n",
    "#### 3\t5\t12\n",
    "#### 3\t3\t3\n",
    "#### 5\t3\t12"
   ]
  },
  {
   "cell_type": "code",
   "execution_count": null,
   "id": "d7d534c4",
   "metadata": {},
   "outputs": [],
   "source": []
  },
  {
   "cell_type": "markdown",
   "id": "00c91337",
   "metadata": {},
   "source": [
    "## 내가 푼 풀이"
   ]
  },
  {
   "cell_type": "code",
   "execution_count": 1,
   "id": "b963d803",
   "metadata": {},
   "outputs": [
    {
     "name": "stdout",
     "output_type": "stream",
     "text": [
      "18\n"
     ]
    }
   ],
   "source": [
    "def solution(a, b):\n",
    "    answer = 0\n",
    "    if b > a :\n",
    "        for i in range(a, b+1) :\n",
    "            answer += i\n",
    "    else :\n",
    "        for i in range(b, a+1) :\n",
    "            answer += i\n",
    "    return answer\n",
    "\n",
    "print(solution(3, 6))"
   ]
  },
  {
   "cell_type": "code",
   "execution_count": null,
   "id": "1d1621d5",
   "metadata": {},
   "outputs": [],
   "source": []
  },
  {
   "cell_type": "markdown",
   "id": "141d1fa1",
   "metadata": {},
   "source": [
    "## 다른 사람 풀이"
   ]
  },
  {
   "cell_type": "code",
   "execution_count": 2,
   "id": "d3751100",
   "metadata": {},
   "outputs": [
    {
     "name": "stdout",
     "output_type": "stream",
     "text": [
      "12\n"
     ]
    }
   ],
   "source": [
    "def adder(a, b):\n",
    "    if a > b: a, b = b, a\n",
    "\n",
    "    return sum(range(a,b+1))\n",
    "\n",
    "print( adder(3, 5))"
   ]
  },
  {
   "cell_type": "code",
   "execution_count": null,
   "id": "bfcf1c14",
   "metadata": {},
   "outputs": [],
   "source": []
  },
  {
   "cell_type": "code",
   "execution_count": 3,
   "id": "4f6f6ba6",
   "metadata": {},
   "outputs": [
    {
     "name": "stdout",
     "output_type": "stream",
     "text": [
      "12\n"
     ]
    }
   ],
   "source": [
    "def adder(a, b):\n",
    "    # 함수를 완성하세요\n",
    "    return sum(range(min(a,b),max(a,b)+1))\n",
    "\n",
    "# 아래는 테스트로 출력해 보기 위한 코드입니다.\n",
    "print( adder(3, 5))"
   ]
  },
  {
   "cell_type": "code",
   "execution_count": null,
   "id": "06520a73",
   "metadata": {},
   "outputs": [],
   "source": []
  }
 ],
 "metadata": {
  "kernelspec": {
   "display_name": "Python 3 (ipykernel)",
   "language": "python",
   "name": "python3"
  },
  "language_info": {
   "codemirror_mode": {
    "name": "ipython",
    "version": 3
   },
   "file_extension": ".py",
   "mimetype": "text/x-python",
   "name": "python",
   "nbconvert_exporter": "python",
   "pygments_lexer": "ipython3",
   "version": "3.9.12"
  }
 },
 "nbformat": 4,
 "nbformat_minor": 5
}
