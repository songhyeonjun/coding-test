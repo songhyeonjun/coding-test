{
 "cells": [
  {
   "cell_type": "markdown",
   "id": "7b3e7941",
   "metadata": {},
   "source": [
    "## 문제 설명\n",
    "#### 1부터 입력받은 숫자 n 사이에 있는 소수의 개수를 반환하는 함수, solution을 만들어 보세요.\n",
    "\n",
    "#### 소수는 1과 자기 자신으로만 나누어지는 수를 의미합니다.\n",
    "#### (1은 소수가 아닙니다.)\n",
    "\n",
    "## 제한 조건\n",
    "#### n은 2이상 1000000이하의 자연수입니다.\n",
    "\n",
    "### 입출력 예\n",
    "#### n\tresult\n",
    "#### 10\t4\n",
    "#### 5\t3\n",
    "\n",
    "## 입출력 예 설명\n",
    "### 입출력 예 #1\n",
    "#### 1부터 10 사이의 소수는 [2,3,5,7] 4개가 존재하므로 4를 반환\n",
    "\n",
    "## 입출력 예 #2\n",
    "#### 1부터 5 사이의 소수는 [2,3,5] 3개가 존재하므로 3를 반환"
   ]
  },
  {
   "cell_type": "code",
   "execution_count": null,
   "id": "afc3b1ee",
   "metadata": {},
   "outputs": [],
   "source": []
  },
  {
   "cell_type": "markdown",
   "id": "39513f07",
   "metadata": {},
   "source": [
    "## 내가 푼 풀이"
   ]
  },
  {
   "cell_type": "markdown",
   "id": "f89e4dc7",
   "metadata": {},
   "source": [
    "### 시간 초과"
   ]
  },
  {
   "cell_type": "code",
   "execution_count": 1,
   "id": "6611123b",
   "metadata": {},
   "outputs": [
    {
     "name": "stdout",
     "output_type": "stream",
     "text": [
      "4\n"
     ]
    }
   ],
   "source": [
    "def solution(n):\n",
    "    answer = 0\n",
    "    for i in range(2, n+1):\n",
    "        a = []\n",
    "        for k in range(2,i+1):\n",
    "            if i%k == 0:\n",
    "                a.append(i)\n",
    "        if len(a) == 1 :\n",
    "            answer +=1\n",
    "    return answer\n",
    "print(solution(10))"
   ]
  },
  {
   "cell_type": "code",
   "execution_count": null,
   "id": "87418e2a",
   "metadata": {},
   "outputs": [],
   "source": []
  },
  {
   "cell_type": "markdown",
   "id": "f2f4e0aa",
   "metadata": {},
   "source": [
    "### 에라토스테네스 체 방식"
   ]
  },
  {
   "cell_type": "code",
   "execution_count": 2,
   "id": "9ec61c10",
   "metadata": {},
   "outputs": [
    {
     "name": "stdout",
     "output_type": "stream",
     "text": [
      "4\n"
     ]
    }
   ],
   "source": [
    "def solution(n):\n",
    "    answer = 0\n",
    "    ch = [0]*(n+1)\n",
    "    for i in range(2, n+1): # n까지\n",
    "        if ch[i] == 0:\n",
    "            answer += 1\n",
    "            for j in range(i, n+1, i): # 소수찾기\n",
    "                ch[j] = 1\n",
    "                \n",
    "    return answer\n",
    "\n",
    "print(solution(10))\n",
    "\n",
    "# 1. 먼저 검증할 숫자를 담을 배열을 만들어준다. [0] * (n+1)\n",
    "\n",
    "# 2. 배열의 값이 0인 경우는 소수라고 판단하고 카운팅\n",
    "\n",
    "# 3. 2중 for문에서는 소수라고 판단했던 수의 배수들을 전부 1로 체크"
   ]
  },
  {
   "cell_type": "code",
   "execution_count": null,
   "id": "892f946d",
   "metadata": {},
   "outputs": [],
   "source": []
  },
  {
   "cell_type": "markdown",
   "id": "7dbeec47",
   "metadata": {},
   "source": [
    "## 다른 사람 풀이"
   ]
  },
  {
   "cell_type": "code",
   "execution_count": 4,
   "id": "185b9f85",
   "metadata": {},
   "outputs": [
    {
     "name": "stdout",
     "output_type": "stream",
     "text": [
      "4\n"
     ]
    }
   ],
   "source": [
    "def solution(n):\n",
    "    num=set(range(2,n+1))\n",
    "\n",
    "    for i in range(2,n+1):\n",
    "        if i in num:\n",
    "            num-=set(range(2*i,n+1,i))\n",
    "    return len(num)\n",
    "print(solution(10))"
   ]
  },
  {
   "cell_type": "code",
   "execution_count": null,
   "id": "928e919d",
   "metadata": {},
   "outputs": [],
   "source": []
  }
 ],
 "metadata": {
  "kernelspec": {
   "display_name": "Python 3 (ipykernel)",
   "language": "python",
   "name": "python3"
  },
  "language_info": {
   "codemirror_mode": {
    "name": "ipython",
    "version": 3
   },
   "file_extension": ".py",
   "mimetype": "text/x-python",
   "name": "python",
   "nbconvert_exporter": "python",
   "pygments_lexer": "ipython3",
   "version": "3.9.12"
  }
 },
 "nbformat": 4,
 "nbformat_minor": 5
}
