{
 "cells": [
  {
   "cell_type": "markdown",
   "id": "87902115",
   "metadata": {},
   "source": [
    "## 문제 설명\n",
    "#### 명함 지갑을 만드는 회사에서 지갑의 크기를 정하려고 합니다. \n",
    "#### 다양한 모양과 크기의 명함들을 모두 수납할 수 있으면서, 작아서 들고 다니기 편한 지갑을 만들어야 합니다. \n",
    "#### 이러한 요건을 만족하는 지갑을 만들기 위해 디자인팀은 모든 명함의 가로 길이와 세로 길이를 조사했습니다.\n",
    "\n",
    "### 아래 표는 4가지 명함의 가로 길이와 세로 길이를 나타냅니다.\n",
    "\n",
    "#### 명함 번호\t가로 길이\t세로 길이\n",
    "#### 1\t60\t50\n",
    "#### 2\t30\t70\n",
    "#### 3\t60\t30\n",
    "#### 4\t80\t40\n",
    "#### 가장 긴 가로 길이와 세로 길이가 각각 80, 70이기 때문에 80(가로) x 70(세로) 크기의 지갑을 만들면 모든 명함들을 수납할 수 있습니다.\n",
    "#### 하지만 2번 명함을 가로로 눕혀 수납한다면 80(가로) x 50(세로) 크기의 지갑으로 모든 명함들을 수납할 수 있습니다. \n",
    "#### 이때의 지갑 크기는 4000(=80 x 50)입니다.\n",
    "\n",
    "#### 모든 명함의 가로 길이와 세로 길이를 나타내는 2차원 배열 sizes가 매개변수로 주어집니다. \n",
    "#### 모든 명함을 수납할 수 있는 가장 작은 지갑을 만들 때, 지갑의 크기를 return 하도록 solution 함수를 완성해주세요.\n",
    "\n",
    "## 제한사항\n",
    "#### sizes의 길이는 1 이상 10,000 이하입니다.\n",
    "#### sizes의 원소는 [w, h] 형식입니다.\n",
    "#### w는 명함의 가로 길이를 나타냅니다.\n",
    "#### h는 명함의 세로 길이를 나타냅니다.\n",
    "#### w와 h는 1 이상 1,000 이하인 자연수입니다.\n",
    "### 입출력 예\n",
    "#### sizes\tresult\n",
    "#### [[60, 50], [30, 70], [60, 30], [80, 40]]\t4000\n",
    "#### [[10, 7], [12, 3], [8, 15], [14, 7], [5, 15]]\t120\n",
    "#### [[14, 4], [19, 6], [6, 16], [18, 7], [7, 11]]\t133\n",
    "\n",
    "### 입출력 예 설명\n",
    "### 입출력 예 #1\n",
    "### 문제 예시와 같습니다.\n",
    "\n",
    "### 입출력 예 #2\n",
    "#### 명함들을 적절히 회전시켜 겹쳤을 때, 3번째 명함(가로: 8, 세로: 15)이 다른 모든 명함보다 크기가 큽니다. \n",
    "#### 따라서 지갑의 크기는 3번째 명함의 크기와 같으며, 120(=8 x 15)을 return 합니다.\n",
    "\n",
    "### 입출력 예 #3\n",
    "#### 명함들을 적절히 회전시켜 겹쳤을 때, 모든 명함을 포함하는 가장 작은 지갑의 크기는 133(=19 x 7)입니다."
   ]
  },
  {
   "cell_type": "code",
   "execution_count": null,
   "id": "6d07cb97",
   "metadata": {},
   "outputs": [],
   "source": []
  },
  {
   "cell_type": "markdown",
   "id": "83a3c619",
   "metadata": {},
   "source": [
    "## 내가 푼 풀이"
   ]
  },
  {
   "cell_type": "code",
   "execution_count": 1,
   "id": "9217649c",
   "metadata": {},
   "outputs": [
    {
     "name": "stdout",
     "output_type": "stream",
     "text": [
      "4000\n"
     ]
    }
   ],
   "source": [
    "def solution(sizes):\n",
    "    answer = 0\n",
    "    max_w = 0\n",
    "    max_h = 0\n",
    "    for i in sizes :\n",
    "        if i[0] < i[1] : # 가로와 세로를 비교해 큰값을 한쪽으로 옮기기\n",
    "            i[0], i[1] = i[1], i[0]\n",
    "        for j in range(len(i)) :\n",
    "            if i[0] > max_w : # 가로 길이 중 가장 큰 값을 선택\n",
    "                max_w = i[0]\n",
    "            if i[1] > max_h : # 세로 길이 중 가장 큰 값을 선택\n",
    "                max_h = i[1]\n",
    "    answer = max_w * max_h  \n",
    "    return answer\n",
    "\n",
    "print(solution([[60, 50], [30, 70], [60, 30], [80, 40]]))"
   ]
  },
  {
   "cell_type": "code",
   "execution_count": null,
   "id": "37620b0b",
   "metadata": {},
   "outputs": [],
   "source": []
  },
  {
   "cell_type": "markdown",
   "id": "4ae2fb23",
   "metadata": {},
   "source": [
    "## 다른 사람 풀이"
   ]
  },
  {
   "cell_type": "code",
   "execution_count": 2,
   "id": "b2803f22",
   "metadata": {},
   "outputs": [
    {
     "name": "stdout",
     "output_type": "stream",
     "text": [
      "4000\n"
     ]
    }
   ],
   "source": [
    "def solution(sizes):\n",
    "    return max(max(x) for x in sizes) * max(min(x) for x in sizes)\n",
    "print(solution([[60, 50], [30, 70], [60, 30], [80, 40]]))"
   ]
  },
  {
   "cell_type": "code",
   "execution_count": null,
   "id": "f5c325f6",
   "metadata": {},
   "outputs": [],
   "source": []
  },
  {
   "cell_type": "code",
   "execution_count": 4,
   "id": "9332ef99",
   "metadata": {},
   "outputs": [
    {
     "name": "stdout",
     "output_type": "stream",
     "text": [
      "60\n",
      "30\n",
      "60\n",
      "80\n",
      "4000\n"
     ]
    }
   ],
   "source": [
    "def solution(sizes):\n",
    "    row = 0\n",
    "    col = 0\n",
    "    for a, b in sizes:\n",
    "        if a < b:\n",
    "            a, b = b, a\n",
    "        row = max(row, a)\n",
    "        col = max(col, b)\n",
    "    return row * col\n",
    "print(solution([[60, 50], [30, 70], [60, 30], [80, 40]]))"
   ]
  },
  {
   "cell_type": "code",
   "execution_count": null,
   "id": "121455da",
   "metadata": {},
   "outputs": [],
   "source": []
  }
 ],
 "metadata": {
  "kernelspec": {
   "display_name": "Python 3 (ipykernel)",
   "language": "python",
   "name": "python3"
  },
  "language_info": {
   "codemirror_mode": {
    "name": "ipython",
    "version": 3
   },
   "file_extension": ".py",
   "mimetype": "text/x-python",
   "name": "python",
   "nbconvert_exporter": "python",
   "pygments_lexer": "ipython3",
   "version": "3.9.12"
  }
 },
 "nbformat": 4,
 "nbformat_minor": 5
}
