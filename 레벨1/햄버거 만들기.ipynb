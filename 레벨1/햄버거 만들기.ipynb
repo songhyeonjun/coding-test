{
 "cells": [
  {
   "cell_type": "markdown",
   "id": "8f2dec21",
   "metadata": {},
   "source": [
    "## 문제 설명\n",
    "#### 햄버거 가게에서 일을 하는 상수는 햄버거를 포장하는 일을 합니다. \n",
    "#### 함께 일을 하는 다른 직원들이 햄버거에 들어갈 재료를 조리해 주면 조리된 순서대로 상수의 앞에 아래서부터 위로 쌓이게 되고, \n",
    "#### 상수는 순서에 맞게 쌓여서 완성된 햄버거를 따로 옮겨 포장을 하게 됩니다. \n",
    "#### 상수가 일하는 가게는 정해진 순서(아래서부터, 빵 – 야채 – 고기 - 빵)로 쌓인 햄버거만 포장을 합니다. 상수는 손이 굉장히 빠르기 때문에\n",
    "#### 상수가 포장하는 동안 속 재료가 추가적으로 들어오는 일은 없으며, 재료의 높이는 무시하여 재료가 높이 쌓여서 일이 힘들어지는 경우는 없습니다.\n",
    "\n",
    "#### 예를 들어, 상수의 앞에 쌓이는 재료의 순서가 [야채, 빵, 빵, 야채, 고기, 빵, 야채, 고기, 빵]일 때, 상수는 여섯 번째 재료가 쌓였을 때, \n",
    "#### 세 번째 재료부터 여섯 번째 재료를 이용하여 햄버거를 포장하고, 아홉 번째 재료가 쌓였을 때, \n",
    "#### 두 번째 재료와 일곱 번째 재료부터 아홉 번째 재료를 이용하여 햄버거를 포장합니다. 즉, 2개의 햄버거를 포장하게 됩니다.\n",
    "\n",
    "#### 상수에게 전해지는 재료의 정보를 나타내는 정수 배열 ingredient가 주어졌을 때, 상수가 포장하는 햄버거의 개수를 return 하도록 solution 함수를 완성하시오.\n",
    "\n",
    "## 제한사항\n",
    "#### 1 ≤ ingredient의 길이 ≤ 1,000,000\n",
    "#### ingredient의 원소는 1, 2, 3 중 하나의 값이며, 순서대로 빵, 야채, 고기를 의미합니다.\n",
    "\n",
    "### 입출력 예\n",
    "#### ingredient\tresult\n",
    "#### [2, 1, 1, 2, 3, 1, 2, 3, 1]\t2\n",
    "#### [1, 3, 2, 1, 2, 1, 3, 1, 2]\t0\n",
    "\n",
    "## 입출력 예 설명\n",
    "### 입출력 예 #1\n",
    "#### 문제 예시와 같습니다.\n",
    "\n",
    "### 입출력 예 #2\n",
    "#### 상수가 포장할 수 있는 햄버거가 없습니다."
   ]
  },
  {
   "cell_type": "code",
   "execution_count": null,
   "id": "4220da57",
   "metadata": {},
   "outputs": [],
   "source": []
  },
  {
   "cell_type": "markdown",
   "id": "2f94ba65",
   "metadata": {},
   "source": [
    "## 내가 푼 풀이"
   ]
  },
  {
   "cell_type": "code",
   "execution_count": 1,
   "id": "6d7575eb",
   "metadata": {},
   "outputs": [
    {
     "name": "stdout",
     "output_type": "stream",
     "text": [
      "0\n",
      "2\n"
     ]
    }
   ],
   "source": [
    "def solution(ingredient):\n",
    "    answer = 0\n",
    "    stak = []\n",
    "    for i in ingredient :\n",
    "        stak.append(i) # 하나씩 쌓은 뒤\n",
    "        if stak[-4:] == [1, 2, 3, 1] : # 끝에 4개가 1,2,3,1인지 확인\n",
    "            answer += 1 #맞으면 +1\n",
    "            for i in range(4) : # 포장\n",
    "                stak.pop()\n",
    "            \n",
    "    return answer\n",
    "print(solution([1, 3, 2, 1, 2, 1, 3, 1, 2]))\n",
    "print(solution([2, 1, 1, 2, 3, 1, 2, 3, 1]))"
   ]
  },
  {
   "cell_type": "code",
   "execution_count": null,
   "id": "9783d4e6",
   "metadata": {},
   "outputs": [],
   "source": []
  },
  {
   "cell_type": "markdown",
   "id": "31fb86ea",
   "metadata": {},
   "source": [
    "## 다른 사람 풀이"
   ]
  },
  {
   "cell_type": "code",
   "execution_count": 2,
   "id": "2fc984ae",
   "metadata": {},
   "outputs": [
    {
     "name": "stdout",
     "output_type": "stream",
     "text": [
      "0\n",
      "2\n"
     ]
    }
   ],
   "source": [
    "def solution(ingredient):\n",
    "    s = []\n",
    "    answer = 0\n",
    "    for i in ingredient:\n",
    "        s.append(i)\n",
    "        while s[-4:] == [1, 2, 3, 1]:\n",
    "            s.pop()\n",
    "            s.pop()\n",
    "            s.pop()\n",
    "            s.pop()\n",
    "            answer += 1\n",
    "\n",
    "    return answer\n",
    "print(solution([1, 3, 2, 1, 2, 1, 3, 1, 2]))\n",
    "print(solution([2, 1, 1, 2, 3, 1, 2, 3, 1]))"
   ]
  },
  {
   "cell_type": "code",
   "execution_count": null,
   "id": "cf1dbd42",
   "metadata": {},
   "outputs": [],
   "source": []
  },
  {
   "cell_type": "code",
   "execution_count": 4,
   "id": "4170ceeb",
   "metadata": {},
   "outputs": [
    {
     "name": "stdout",
     "output_type": "stream",
     "text": [
      "0\n",
      "2\n"
     ]
    }
   ],
   "source": [
    "def solution(ingredient):\n",
    "    ingredient = \"\".join(list(map(str, ingredient)))\n",
    "    if len(ingredient) < 4:\n",
    "        return 0\n",
    "\n",
    "    stack = ingredient[:3]\n",
    "    count = 0\n",
    "    for v in ingredient[3:]:\n",
    "        stack += v\n",
    "        if stack[-4:] == \"1231\":\n",
    "            stack = stack[:-4]\n",
    "            count += 1\n",
    "    return count \n",
    "\n",
    "print(solution([1, 3, 2, 1, 2, 1, 3, 1, 2]))\n",
    "print(solution([2, 1, 1, 2, 3, 1, 2, 3, 1]))"
   ]
  },
  {
   "cell_type": "code",
   "execution_count": null,
   "id": "d2efb0dc",
   "metadata": {},
   "outputs": [],
   "source": []
  }
 ],
 "metadata": {
  "kernelspec": {
   "display_name": "Python 3 (ipykernel)",
   "language": "python",
   "name": "python3"
  },
  "language_info": {
   "codemirror_mode": {
    "name": "ipython",
    "version": 3
   },
   "file_extension": ".py",
   "mimetype": "text/x-python",
   "name": "python",
   "nbconvert_exporter": "python",
   "pygments_lexer": "ipython3",
   "version": "3.9.12"
  }
 },
 "nbformat": 4,
 "nbformat_minor": 5
}
