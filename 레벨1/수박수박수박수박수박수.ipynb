{
 "cells": [
  {
   "cell_type": "markdown",
   "id": "1cbe9095",
   "metadata": {},
   "source": [
    "## 문제 설명\n",
    "### 길이가 n이고, \"수박수박수박수....\"와 같은 패턴을 유지하는 문자열을 리턴하는 함수, solution을 완성하세요. 예를들어 n이 4이면 \"수박수박\"을 리턴하고 3이라면 \"수박수\"를 리턴하면 됩니다.\n",
    "\n",
    "## 제한 조건\n",
    "### n은 길이 10,000이하인 자연수입니다.\n",
    "### 입출력 예\n",
    "#### n\treturn\n",
    "#### 3\t\"수박수\"\n",
    "#### 4\t\"수박수박\""
   ]
  },
  {
   "cell_type": "code",
   "execution_count": null,
   "id": "898fb1b7",
   "metadata": {},
   "outputs": [],
   "source": []
  },
  {
   "cell_type": "markdown",
   "id": "2b6cced8",
   "metadata": {},
   "source": [
    "## 내가 푼 풀이"
   ]
  },
  {
   "cell_type": "code",
   "execution_count": 1,
   "id": "5afb2245",
   "metadata": {},
   "outputs": [
    {
     "name": "stdout",
     "output_type": "stream",
     "text": [
      "수박수\n"
     ]
    }
   ],
   "source": [
    "def solution(n):\n",
    "    answer = ''\n",
    "    a = '수'\n",
    "    b = '박'    \n",
    "    for i in range(n) :\n",
    "        if (i+1) % 2 == 1 :\n",
    "            answer += a\n",
    "        else :\n",
    "            answer += b\n",
    "    \n",
    "    return answer\n",
    "\n",
    "print(solution(3))"
   ]
  },
  {
   "cell_type": "code",
   "execution_count": null,
   "id": "c3fea7d1",
   "metadata": {},
   "outputs": [],
   "source": []
  },
  {
   "cell_type": "markdown",
   "id": "c1c2175f",
   "metadata": {},
   "source": [
    "## 다른 사람 풀이"
   ]
  },
  {
   "cell_type": "code",
   "execution_count": 3,
   "id": "bc8b0863",
   "metadata": {},
   "outputs": [
    {
     "name": "stdout",
     "output_type": "stream",
     "text": [
      "n이 1인 경우: 수\n",
      "n이 4인 경우: 수박수박\n"
     ]
    }
   ],
   "source": [
    "def water_melon(n):\n",
    "    s = \"수박\" * n\n",
    "    return s[:n]\n",
    "\n",
    "\n",
    "# 실행을 위한 테스트코드입니다.\n",
    "print(\"n이 1인 경우: \" + water_melon(1));\n",
    "print(\"n이 4인 경우: \" + water_melon(4));"
   ]
  },
  {
   "cell_type": "code",
   "execution_count": null,
   "id": "6fffb2b4",
   "metadata": {},
   "outputs": [],
   "source": []
  },
  {
   "cell_type": "code",
   "execution_count": 4,
   "id": "3e1294f9",
   "metadata": {},
   "outputs": [
    {
     "name": "stdout",
     "output_type": "stream",
     "text": [
      "n이 3인 경우: 수박수\n",
      "n이 4인 경우: 수박수박\n"
     ]
    }
   ],
   "source": [
    "def water_melon(n):\n",
    "    return \"수박\"*(n//2) + \"수\"*(n%2)\n",
    "\n",
    "\n",
    "# 실행을 위한 테스트코드입니다.\n",
    "print(\"n이 3인 경우: \" + water_melon(3));\n",
    "print(\"n이 4인 경우: \" + water_melon(4));"
   ]
  },
  {
   "cell_type": "code",
   "execution_count": null,
   "id": "efd5255d",
   "metadata": {},
   "outputs": [],
   "source": []
  }
 ],
 "metadata": {
  "kernelspec": {
   "display_name": "Python 3 (ipykernel)",
   "language": "python",
   "name": "python3"
  },
  "language_info": {
   "codemirror_mode": {
    "name": "ipython",
    "version": 3
   },
   "file_extension": ".py",
   "mimetype": "text/x-python",
   "name": "python",
   "nbconvert_exporter": "python",
   "pygments_lexer": "ipython3",
   "version": "3.9.12"
  }
 },
 "nbformat": 4,
 "nbformat_minor": 5
}
