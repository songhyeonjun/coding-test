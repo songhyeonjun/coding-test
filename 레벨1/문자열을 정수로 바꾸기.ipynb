{
 "cells": [
  {
   "cell_type": "markdown",
   "id": "1b726c5c",
   "metadata": {},
   "source": [
    "## 문제 설명\n",
    "### 문자열 s를 숫자로 변환한 결과를 반환하는 함수, solution을 완성하세요.\n",
    "\n",
    "## 제한 조건\n",
    "### s의 길이는 1 이상 5이하입니다.\n",
    "### s의 맨앞에는 부호(+, -)가 올 수 있습니다.\n",
    "### s는 부호와 숫자로만 이루어져있습니다.\n",
    "### s는 \"0\"으로 시작하지 않습니다.\n",
    "### 입출력 예\n",
    "#### 예를들어 str이 \"1234\"이면 1234를 반환하고, \"-1234\"이면 -1234를 반환하면 됩니다.\n",
    "#### str은 부호(+,-)와 숫자로만 구성되어 있고, 잘못된 값이 입력되는 경우는 없습니다"
   ]
  },
  {
   "cell_type": "code",
   "execution_count": null,
   "id": "1c1d3c2c",
   "metadata": {},
   "outputs": [],
   "source": []
  },
  {
   "cell_type": "markdown",
   "id": "f4672401",
   "metadata": {},
   "source": [
    "## 내가 푼 풀이"
   ]
  },
  {
   "cell_type": "code",
   "execution_count": 2,
   "id": "761cbea3",
   "metadata": {},
   "outputs": [
    {
     "name": "stdout",
     "output_type": "stream",
     "text": [
      "1234\n"
     ]
    }
   ],
   "source": [
    "def solution(s):\n",
    "    return int(s)\n",
    "\n",
    "print(solution('1234'))"
   ]
  },
  {
   "cell_type": "code",
   "execution_count": null,
   "id": "aae07c65",
   "metadata": {},
   "outputs": [],
   "source": []
  },
  {
   "cell_type": "markdown",
   "id": "312b5032",
   "metadata": {},
   "source": [
    "## 다른 사람풀이"
   ]
  },
  {
   "cell_type": "code",
   "execution_count": 3,
   "id": "b7ae7f0c",
   "metadata": {},
   "outputs": [
    {
     "name": "stdout",
     "output_type": "stream",
     "text": [
      "-1234\n"
     ]
    }
   ],
   "source": [
    "def strToInt(str):\n",
    "    result = 0\n",
    "\n",
    "    for idx, number in enumerate(str[::-1]): \n",
    "        if number == '-':\n",
    "            result *= -1\n",
    "        else:\n",
    "            result += int(number) * (10 ** idx) \n",
    "    return result\n",
    "\n",
    "\n",
    "# 아래는 테스트로 출력해 보기 위한 코드입니다.\n",
    "print(strToInt(\"-1234\"));"
   ]
  },
  {
   "cell_type": "markdown",
   "id": "76494dcc",
   "metadata": {},
   "source": [
    "#### str[::-1]은 주어진 스트링을 거꾸로 만든다.\n",
    "#### enumerate 함수를 이용하여 한 글자당 인덱스를 배정해서 각 자리에 10의 지수만큼 곱해서 더해준다.\n",
    "#### ex) \"-1234\"는 str[::-1]에 의해 \"4321-\"가 되고 4 * (10 ** 0) + 3 * (10 ** 1) + 2 * (10 **2) + 1 * (10 ** 3)를 한 이후에 \"-\" 는 이 숫자를 마이너스로 만들어 버린다."
   ]
  },
  {
   "cell_type": "code",
   "execution_count": null,
   "id": "2c458771",
   "metadata": {},
   "outputs": [],
   "source": []
  },
  {
   "cell_type": "code",
   "execution_count": 4,
   "id": "c15e0923",
   "metadata": {},
   "outputs": [
    {
     "name": "stdout",
     "output_type": "stream",
     "text": [
      "-1234\n"
     ]
    }
   ],
   "source": [
    "def strToInt(str):\n",
    "    result = 0\n",
    "    size=len(str)\n",
    "    temp = 0\n",
    "    if str [0] == '-' :\n",
    "        sign = -1\n",
    "    else :\n",
    "        sign = 1\n",
    "    for i in range(0, size) :\n",
    "        if str[i] == '1' :\n",
    "            temp = 1\n",
    "        elif str[i] == '2' :\n",
    "            temp = 2\n",
    "        elif str[i] == '3' :\n",
    "            temp = 3\n",
    "        elif str[i] == '4' :\n",
    "            temp = 4\n",
    "        elif str[i] == '5' :\n",
    "            temp = 5\n",
    "        elif str[i] == '6' :\n",
    "            temp = 6\n",
    "        elif str[i] == '7' :\n",
    "            temp = 7\n",
    "        elif str[i] == '8' :\n",
    "            temp = 8\n",
    "        elif str[i] == '9' :\n",
    "            temp = 9\n",
    "        else :\n",
    "            temp = 0\n",
    "        for i in range(size-i-1) :\n",
    "            temp = temp * 10\n",
    "        result = result + temp\n",
    "    result = result * sign\n",
    "    return result\n",
    "\n",
    "print(strToInt(\"-1234\"));"
   ]
  },
  {
   "cell_type": "code",
   "execution_count": null,
   "id": "07185477",
   "metadata": {},
   "outputs": [],
   "source": []
  }
 ],
 "metadata": {
  "kernelspec": {
   "display_name": "Python 3 (ipykernel)",
   "language": "python",
   "name": "python3"
  },
  "language_info": {
   "codemirror_mode": {
    "name": "ipython",
    "version": 3
   },
   "file_extension": ".py",
   "mimetype": "text/x-python",
   "name": "python",
   "nbconvert_exporter": "python",
   "pygments_lexer": "ipython3",
   "version": "3.9.12"
  }
 },
 "nbformat": 4,
 "nbformat_minor": 5
}
