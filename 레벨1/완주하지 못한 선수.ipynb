{
 "cells": [
  {
   "cell_type": "markdown",
   "id": "daa7e492",
   "metadata": {},
   "source": [
    "## 문제 설명\n",
    "#### 수많은 마라톤 선수들이 마라톤에 참여하였습니다. \n",
    "#### 단 한 명의 선수를 제외하고는 모든 선수가 마라톤을 완주하였습니다.\n",
    "\n",
    "##### 마라톤에 참여한 선수들의 이름이 담긴 배열 participant와 완주한 선수들의 이름이 담긴 배열 completion이 주어질 때, \n",
    "#### 완주하지 못한 선수의 이름을 return 하도록 solution 함수를 작성해주세요.\n",
    "\n",
    "## 제한사항\n",
    "#### 마라톤 경기에 참여한 선수의 수는 1명 이상 100,000명 이하입니다.\n",
    "#### completion의 길이는 participant의 길이보다 1 작습니다.\n",
    "#### 참가자의 이름은 1개 이상 20개 이하의 알파벳 소문자로 이루어져 있습니다.\n",
    "#### 참가자 중에는 동명이인이 있을 수 있습니다.\n",
    "\n",
    "## 입출력 예\n",
    "#### participant\tcompletion\treturn\n",
    "#### [\"leo\", \"kiki\", \"eden\"]\t[\"eden\", \"kiki\"]\t\"leo\"\n",
    "#### [\"marina\", \"josipa\", \"nikola\", \"vinko\", \"filipa\"]\t[\"josipa\", \"filipa\", \"marina\", \"nikola\"]\t\"vinko\"\n",
    "#### [\"mislav\", \"stanko\", \"mislav\", \"ana\"]\t[\"stanko\", \"ana\", \"mislav\"]\t\"mislav\"\n",
    "\n",
    "## 입출력 예 설명\n",
    "### 예제 #1\n",
    "#### \"leo\"는 참여자 명단에는 있지만, 완주자 명단에는 없기 때문에 완주하지 못했습니다.\n",
    "\n",
    "### 예제 #2\n",
    "#### \"vinko\"는 참여자 명단에는 있지만, 완주자 명단에는 없기 때문에 완주하지 못했습니다.\n",
    "\n",
    "### 예제 #3\n",
    "#### \"mislav\"는 참여자 명단에는 두 명이 있지만, 완주자 명단에는 한 명밖에 없기 때문에 한명은 완주하지 못했습니다.\n",
    "\n"
   ]
  },
  {
   "cell_type": "code",
   "execution_count": null,
   "id": "305ae0a0",
   "metadata": {},
   "outputs": [],
   "source": []
  },
  {
   "cell_type": "markdown",
   "id": "d259af46",
   "metadata": {},
   "source": [
    "## 내가 푼 풀이"
   ]
  },
  {
   "cell_type": "code",
   "execution_count": 1,
   "id": "b0078368",
   "metadata": {},
   "outputs": [
    {
     "name": "stdout",
     "output_type": "stream",
     "text": [
      "leo\n",
      "mislav\n"
     ]
    }
   ],
   "source": [
    "def solution(participant, completion):\n",
    "    pp = participant[:]\n",
    "    if len(set(participant)-set(completion)) != 0 :\n",
    "        return ''.join(set(participant)-set(completion))\n",
    "    else :\n",
    "        for i, j in zip(sorted(participant), sorted(completion)):\n",
    "            if i != j :\n",
    "                return i\n",
    "            \n",
    "print(solution([\"leo\", \"kiki\", \"eden\"], [\"eden\", \"kiki\"]))\n",
    "print(solution([\"mislav\", \"stanko\", \"mislav\", \"ana\"], [\"stanko\", \"ana\", \"mislav\"]))"
   ]
  },
  {
   "cell_type": "code",
   "execution_count": null,
   "id": "db159735",
   "metadata": {},
   "outputs": [],
   "source": []
  },
  {
   "cell_type": "markdown",
   "id": "0687f5df",
   "metadata": {},
   "source": [
    "## 다른 사람 풀이"
   ]
  },
  {
   "cell_type": "markdown",
   "id": "d3e2e823",
   "metadata": {},
   "source": [
    "### Counter함수 이용"
   ]
  },
  {
   "cell_type": "code",
   "execution_count": 2,
   "id": "b9e16377",
   "metadata": {},
   "outputs": [
    {
     "name": "stdout",
     "output_type": "stream",
     "text": [
      "leo\n",
      "mislav\n"
     ]
    }
   ],
   "source": [
    "import collections\n",
    "\n",
    "\n",
    "def solution(participant, completion):\n",
    "    answer = collections.Counter(participant) - collections.Counter(completion)\n",
    "    return list(answer.keys())[0]\n",
    "\n",
    "print(solution([\"leo\", \"kiki\", \"eden\"], [\"eden\", \"kiki\"]))\n",
    "print(solution([\"mislav\", \"stanko\", \"mislav\", \"ana\"], [\"stanko\", \"ana\", \"mislav\"]))"
   ]
  },
  {
   "cell_type": "code",
   "execution_count": null,
   "id": "6f4f7cd8",
   "metadata": {},
   "outputs": [],
   "source": []
  },
  {
   "cell_type": "code",
   "execution_count": 3,
   "id": "5af5be69",
   "metadata": {},
   "outputs": [
    {
     "name": "stdout",
     "output_type": "stream",
     "text": [
      "leo\n",
      "mislav\n"
     ]
    }
   ],
   "source": [
    "def solution(participant, completion):\n",
    "    participant.sort()\n",
    "    completion.sort()\n",
    "    for p,c in zip(participant, completion):\n",
    "        if p != c:\n",
    "            return p\n",
    "    return participant.pop()\n",
    "\n",
    "print(solution([\"leo\", \"kiki\", \"eden\"], [\"eden\", \"kiki\"]))\n",
    "print(solution([\"mislav\", \"stanko\", \"mislav\", \"ana\"], [\"stanko\", \"ana\", \"mislav\"]))"
   ]
  },
  {
   "cell_type": "code",
   "execution_count": null,
   "id": "2e711b5a",
   "metadata": {},
   "outputs": [],
   "source": []
  }
 ],
 "metadata": {
  "kernelspec": {
   "display_name": "Python 3 (ipykernel)",
   "language": "python",
   "name": "python3"
  },
  "language_info": {
   "codemirror_mode": {
    "name": "ipython",
    "version": 3
   },
   "file_extension": ".py",
   "mimetype": "text/x-python",
   "name": "python",
   "nbconvert_exporter": "python",
   "pygments_lexer": "ipython3",
   "version": "3.9.12"
  }
 },
 "nbformat": 4,
 "nbformat_minor": 5
}
