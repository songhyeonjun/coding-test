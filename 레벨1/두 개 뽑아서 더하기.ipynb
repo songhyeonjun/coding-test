{
 "cells": [
  {
   "cell_type": "markdown",
   "id": "6c1266ca",
   "metadata": {},
   "source": [
    "## 문제 설명\n",
    "#### 정수 배열 numbers가 주어집니다. \n",
    "#### numbers에서 서로 다른 인덱스에 있는 두 개의 수를 뽑아 더해서 만들 수 있는 \n",
    "\n",
    "#### 모든 수를 배열에 오름차순으로 담아 return 하도록 solution 함수를 완성해주세요.\n",
    "\n",
    "## 제한사항\n",
    "#### numbers의 길이는 2 이상 100 이하입니다.\n",
    "#### numbers의 모든 수는 0 이상 100 이하입니다.\n",
    "### 입출력 예\n",
    "#### numbers\tresult\n",
    "#### [2,1,3,4,1]\t[2,3,4,5,6,7]\n",
    "#### [5,0,2,7]\t[2,5,7,9,12]\n",
    "\n",
    "## 입출력 예 설명\n",
    "### 입출력 예 #1\n",
    "\n",
    "#### 2 = 1 + 1 입니다. (1이 numbers에 두 개 있습니다.)\n",
    "#### 3 = 2 + 1 입니다.\n",
    "#### 4 = 1 + 3 입니다.\n",
    "#### 5 = 1 + 4 = 2 + 3 입니다.\n",
    "#### 6 = 2 + 4 입니다.\n",
    "#### 7 = 3 + 4 입니다.\n",
    "#### 따라서 [2,3,4,5,6,7] 을 return 해야 합니다.\n",
    "### 입출력 예 #2\n",
    "\n",
    "#### 2 = 0 + 2 입니다.\n",
    "#### 5 = 5 + 0 입니다.\n",
    "#### 7 = 0 + 7 = 5 + 2 입니다.\n",
    "#### 9 = 2 + 7 입니다.\n",
    "#### 12 = 5 + 7 입니다.\n",
    "#### 따라서 [2,5,7,9,12] 를 return 해야 합니다."
   ]
  },
  {
   "cell_type": "code",
   "execution_count": null,
   "id": "0bdc3b7b",
   "metadata": {},
   "outputs": [],
   "source": []
  },
  {
   "cell_type": "markdown",
   "id": "df1a1a9e",
   "metadata": {},
   "source": [
    "## 내가 푼 풀이"
   ]
  },
  {
   "cell_type": "code",
   "execution_count": 2,
   "id": "c8e7e351",
   "metadata": {},
   "outputs": [
    {
     "name": "stdout",
     "output_type": "stream",
     "text": [
      "[2, 3, 4, 5, 6, 7]\n"
     ]
    }
   ],
   "source": [
    "def solution(numbers):\n",
    "    answer = []\n",
    "    for i, j in enumerate(numbers) :\n",
    "        for a, b in enumerate(numbers) : ## enumerate를 이용 순서가 같으면 패스\n",
    "            if i == a :\n",
    "                continue\n",
    "            answer.append(j + b)\n",
    "        \n",
    "    return sorted(list(set(answer)))\n",
    "print(solution([2,1,3,4,1]))"
   ]
  },
  {
   "cell_type": "code",
   "execution_count": null,
   "id": "72f89d25",
   "metadata": {},
   "outputs": [],
   "source": []
  },
  {
   "cell_type": "markdown",
   "id": "eba91cf1",
   "metadata": {},
   "source": [
    "## 다른 사람 풀이"
   ]
  },
  {
   "cell_type": "code",
   "execution_count": 5,
   "id": "097b01d8",
   "metadata": {},
   "outputs": [
    {
     "name": "stdout",
     "output_type": "stream",
     "text": [
      "[2, 3, 4, 5, 6, 7]\n"
     ]
    }
   ],
   "source": [
    "def solution(numbers):\n",
    "    answer = []\n",
    "    for i in range(len(numbers)):\n",
    "        for j in range(i+1, len(numbers)):\n",
    "            answer.append(numbers[i] + numbers[j])\n",
    "    return sorted(list(set(answer)))\n",
    "print(solution([2,1,3,4,1]))"
   ]
  },
  {
   "cell_type": "code",
   "execution_count": null,
   "id": "8963414f",
   "metadata": {},
   "outputs": [],
   "source": []
  },
  {
   "cell_type": "code",
   "execution_count": 6,
   "id": "693f8180",
   "metadata": {},
   "outputs": [
    {
     "name": "stdout",
     "output_type": "stream",
     "text": [
      "[2, 3, 4, 5, 6, 7]\n"
     ]
    }
   ],
   "source": [
    "from itertools import combinations # 하나의 리스트에서 모든 조합을 구하기\n",
    "\n",
    "\n",
    "\n",
    "\n",
    "def solution(numbers):\n",
    "    answer = []\n",
    "    l = list(combinations(numbers, 2))\n",
    "\n",
    "    for i in l:\n",
    "        answer.append(i[0]+i[1])\n",
    "    answer = list(set(answer))\n",
    "    answer.sort()\n",
    "\n",
    "    return answer\n",
    "print(solution([2,1,3,4,1]))"
   ]
  }
 ],
 "metadata": {
  "kernelspec": {
   "display_name": "Python 3 (ipykernel)",
   "language": "python",
   "name": "python3"
  },
  "language_info": {
   "codemirror_mode": {
    "name": "ipython",
    "version": 3
   },
   "file_extension": ".py",
   "mimetype": "text/x-python",
   "name": "python",
   "nbconvert_exporter": "python",
   "pygments_lexer": "ipython3",
   "version": "3.9.12"
  }
 },
 "nbformat": 4,
 "nbformat_minor": 5
}
