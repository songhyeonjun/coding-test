{
 "cells": [
  {
   "cell_type": "markdown",
   "id": "ceedde91",
   "metadata": {},
   "source": [
    "## 문제 설명\n",
    "#### 주어진 숫자 중 3개의 수를 더했을 때 소수가 되는 경우의 개수를 구하려고 합니다. \n",
    "#### 숫자들이 들어있는 배열 nums가 매개변수로 주어질 때, \n",
    "#### nums에 있는 숫자들 중 서로 다른 3개를 골라 더했을 때 소수가 되는 경우의 개수를 return 하도록 solution 함수를 완성해주세요.\n",
    "\n",
    "## 제한사항\n",
    "#### nums에 들어있는 숫자의 개수는 3개 이상 50개 이하입니다.\n",
    "#### nums의 각 원소는 1 이상 1,000 이하의 자연수이며, 중복된 숫자가 들어있지 않습니다.\n",
    "\n",
    "### 입출력 예\n",
    "#### nums\tresult\n",
    "#### [1,2,3,4]\t1\n",
    "#### [1,2,7,6,4]\t4\n",
    "\n",
    "## 입출력 예 설명\n",
    "### 입출력 예 #1\n",
    "#### [1,2,4]를 이용해서 7을 만들 수 있습니다.\n",
    "\n",
    "### 입출력 예 #2\n",
    "### [1,2,4]를 이용해서 7을 만들 수 있습니다.\n",
    "#### [1,4,6]을 이용해서 11을 만들 수 있습니다.\n",
    "#### [2,4,7]을 이용해서 13을 만들 수 있습니다.\n",
    "#### [4,6,7]을 이용해서 17을 만들 수 있습니다."
   ]
  },
  {
   "cell_type": "code",
   "execution_count": null,
   "id": "785121ff",
   "metadata": {},
   "outputs": [],
   "source": []
  },
  {
   "cell_type": "markdown",
   "id": "c5fb7d34",
   "metadata": {},
   "source": [
    "## 내가 푼 풀이"
   ]
  },
  {
   "cell_type": "code",
   "execution_count": 1,
   "id": "5af182c3",
   "metadata": {},
   "outputs": [
    {
     "name": "stdout",
     "output_type": "stream",
     "text": [
      "4\n"
     ]
    }
   ],
   "source": [
    "def solution(nums):\n",
    "    answer = 0\n",
    "    sum = []\n",
    "    for i in range(len(nums)) :\n",
    "        for j in range(i+1, len(nums)) :\n",
    "            for n in range(j+1, len(nums)) :\n",
    "                sum.append((nums[i] + nums[j] + nums[n]))\n",
    "\n",
    "    for k in sum :\n",
    "        a = []\n",
    "        for i in range(2, k+1) :\n",
    "            if k % i == 0 :\n",
    "                a.append(k)\n",
    "        if len(a) == 1 :\n",
    "            answer +=1\n",
    "    return answer\n",
    "\n",
    "\n",
    "\n",
    "print(solution([1,2,7,6,4]))"
   ]
  },
  {
   "cell_type": "code",
   "execution_count": null,
   "id": "0136911c",
   "metadata": {},
   "outputs": [],
   "source": []
  },
  {
   "cell_type": "markdown",
   "id": "23f5ba08",
   "metadata": {},
   "source": [
    "## 다른 사람 풀이"
   ]
  },
  {
   "cell_type": "markdown",
   "id": "91154591",
   "metadata": {},
   "source": [
    "### cominations 함수 이용"
   ]
  },
  {
   "cell_type": "code",
   "execution_count": 6,
   "id": "99534c5f",
   "metadata": {},
   "outputs": [
    {
     "name": "stdout",
     "output_type": "stream",
     "text": [
      "4\n"
     ]
    }
   ],
   "source": [
    "def solution(nums):\n",
    "    from itertools import combinations as cb\n",
    "    answer = 0\n",
    "    for a in cb(nums, 3): # 3개의 모든 조합 구하기\n",
    "        cand = sum(a) # 만든 조합을 더하기\n",
    "        for j in range(2, cand): #  \n",
    "            if cand%j==0:\n",
    "                break\n",
    "        else:\n",
    "            answer += 1\n",
    "    return answer\n",
    "print(solution([1,2,7,6,4]))"
   ]
  },
  {
   "cell_type": "code",
   "execution_count": null,
   "id": "0444fb69",
   "metadata": {},
   "outputs": [],
   "source": []
  },
  {
   "cell_type": "markdown",
   "id": "9c7c991e",
   "metadata": {},
   "source": [
    "### 기본적인 소수판별 알고리즘에 판별 범위를 x의 제곱근으로 축소시킨"
   ]
  },
  {
   "cell_type": "code",
   "execution_count": 7,
   "id": "7483abc3",
   "metadata": {},
   "outputs": [
    {
     "name": "stdout",
     "output_type": "stream",
     "text": [
      "4\n"
     ]
    }
   ],
   "source": [
    "from itertools import combinations\n",
    "def prime_number(x):\n",
    "    answer = 0\n",
    "    for i in range(1,int(x**0.5)+1): # **0.5 는 루트(sqrt)와 같은 의미\n",
    "        if x%i==0:\n",
    "            answer+=1\n",
    "    return 1 if answer==1 else 0\n",
    "\n",
    "def solution(nums):\n",
    "    return sum([prime_number(sum(c)) for c in combinations(nums,3)])\n",
    "print(solution([1,2,7,6,4]))"
   ]
  },
  {
   "cell_type": "code",
   "execution_count": null,
   "id": "bb5cab7d",
   "metadata": {},
   "outputs": [],
   "source": []
  }
 ],
 "metadata": {
  "kernelspec": {
   "display_name": "Python 3 (ipykernel)",
   "language": "python",
   "name": "python3"
  },
  "language_info": {
   "codemirror_mode": {
    "name": "ipython",
    "version": 3
   },
   "file_extension": ".py",
   "mimetype": "text/x-python",
   "name": "python",
   "nbconvert_exporter": "python",
   "pygments_lexer": "ipython3",
   "version": "3.9.12"
  }
 },
 "nbformat": 4,
 "nbformat_minor": 5
}
