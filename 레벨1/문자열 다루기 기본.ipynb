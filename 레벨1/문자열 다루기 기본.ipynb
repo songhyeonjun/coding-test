{
 "cells": [
  {
   "cell_type": "markdown",
   "id": "13db49e4",
   "metadata": {},
   "source": [
    "## 문제 설명\n",
    "### 문자열 s의 길이가 4 혹은 6이고, 숫자로만 구성돼있는지 확인해주는 함수, solution을 완성하세요. 예를 들어 s가 \"a234\"이면 False를 리턴하고 \"1234\"라면 True를 리턴하면 됩니다.\n",
    "\n",
    "## 제한 사항\n",
    "### s는 길이 1 이상, 길이 8 이하인 문자열입니다.\n",
    "### s는 영문 알파벳 대소문자 또는 0부터 9까지 숫자로 이루어져 있습니다.\n",
    "\n",
    "### 입출력 예\n",
    "#### s\treturn\n",
    "#### \"a234\"\tfalse\n",
    "#### \"1234\"\ttrue"
   ]
  },
  {
   "cell_type": "code",
   "execution_count": null,
   "id": "9cf1e270",
   "metadata": {},
   "outputs": [],
   "source": []
  },
  {
   "cell_type": "markdown",
   "id": "48bc65b3",
   "metadata": {},
   "source": [
    "## 내가 푼 풀이"
   ]
  },
  {
   "cell_type": "code",
   "execution_count": 1,
   "id": "f53c26fc",
   "metadata": {},
   "outputs": [
    {
     "name": "stdout",
     "output_type": "stream",
     "text": [
      "True\n"
     ]
    }
   ],
   "source": [
    "def solution(s):\n",
    "    if len(s) == 4 or len(s) == 6 :\n",
    "        try :\n",
    "            int(s)\n",
    "            return True\n",
    "        except :\n",
    "            return False\n",
    "    else :\n",
    "        return False\n",
    "print(solution('1234'))"
   ]
  },
  {
   "cell_type": "code",
   "execution_count": null,
   "id": "539295fb",
   "metadata": {},
   "outputs": [],
   "source": []
  },
  {
   "cell_type": "code",
   "execution_count": 4,
   "id": "e6b26c73",
   "metadata": {},
   "outputs": [
    {
     "name": "stdout",
     "output_type": "stream",
     "text": [
      "True\n",
      "False\n"
     ]
    }
   ],
   "source": [
    "def solution(s):\n",
    "    for i in list(s) :\n",
    "        if i == \"0\" :\n",
    "            continue\n",
    "        elif i == \"1\" :\n",
    "            continue\n",
    "        elif i == \"2\" :\n",
    "            continue\n",
    "        elif i == \"3\" :\n",
    "            continue\n",
    "        elif i == \"4\" :\n",
    "            continue\n",
    "        elif i == \"5\" :\n",
    "            continue\n",
    "        elif i == \"6\" :\n",
    "            continue\n",
    "        elif i == \"7\" :\n",
    "            continue\n",
    "        elif i == \"8\" :\n",
    "            continue\n",
    "        elif i == \"9\" :\n",
    "            continue\n",
    "        else :\n",
    "            return False\n",
    "    return True\n",
    "print(solution('1234'))\n",
    "print(solution('123ddd'))\n"
   ]
  },
  {
   "cell_type": "code",
   "execution_count": null,
   "id": "92ebf370",
   "metadata": {},
   "outputs": [],
   "source": []
  },
  {
   "cell_type": "code",
   "execution_count": 5,
   "id": "07f23de4",
   "metadata": {},
   "outputs": [
    {
     "name": "stdout",
     "output_type": "stream",
     "text": [
      "True\n",
      "False\n"
     ]
    }
   ],
   "source": [
    "def solution(s):\n",
    "    a = ''\n",
    "    for i in s :\n",
    "        if 64 < ord(i) < 91 or 95 < ord(i) < 123 :\n",
    "            a = False\n",
    "        else :\n",
    "            a = True\n",
    "    return a\n",
    "print(solution('1234'))\n",
    "print(solution('123ddd'))\n"
   ]
  },
  {
   "cell_type": "code",
   "execution_count": null,
   "id": "7320c0b0",
   "metadata": {},
   "outputs": [],
   "source": []
  },
  {
   "cell_type": "markdown",
   "id": "930084d8",
   "metadata": {},
   "source": [
    "## 다른 사람 풀이"
   ]
  },
  {
   "cell_type": "code",
   "execution_count": 2,
   "id": "35ab0f8f",
   "metadata": {},
   "outputs": [
    {
     "name": "stdout",
     "output_type": "stream",
     "text": [
      "False\n",
      "True\n"
     ]
    }
   ],
   "source": [
    "def alpha_string46(s):\n",
    "    return s.isdigit() and len(s) in (4, 6) \n",
    "\n",
    "\n",
    "print( alpha_string46(\"a234\") )\n",
    "print( alpha_string46(\"1234\") )"
   ]
  },
  {
   "cell_type": "markdown",
   "id": "c38f0bf4",
   "metadata": {},
   "source": [
    "### isdigit() 문자열이 '숫자'로만 이루어져있는지 확인하는 함수\n",
    "### isdigit() 은 음수를 뜻하는 '-', 소수점을 뜻하는 '.' 이것들을 숫자가 아닌 문자로 판단을 하기 때문에실수나 음수를 판단하지 못한다."
   ]
  },
  {
   "cell_type": "code",
   "execution_count": null,
   "id": "6fef2376",
   "metadata": {},
   "outputs": [],
   "source": []
  },
  {
   "cell_type": "code",
   "execution_count": 3,
   "id": "3691739d",
   "metadata": {},
   "outputs": [
    {
     "name": "stdout",
     "output_type": "stream",
     "text": [
      "False\n",
      "True\n"
     ]
    }
   ],
   "source": [
    "def alpha_string46(s):\n",
    "    import re\n",
    "    return bool(re.match(\"^(\\d{4}|\\d{6})$\", s))\n",
    "\n",
    "\n",
    "# 아래는 테스트로 출력해 보기 위한 코드입니다.\n",
    "print( alpha_string46(\"a234\") )\n",
    "print( alpha_string46(\"1234\") )"
   ]
  },
  {
   "cell_type": "markdown",
   "id": "1c78b840",
   "metadata": {},
   "source": [
    "### 정규표현식 이용"
   ]
  },
  {
   "cell_type": "code",
   "execution_count": null,
   "id": "c80a2e0e",
   "metadata": {},
   "outputs": [],
   "source": []
  }
 ],
 "metadata": {
  "kernelspec": {
   "display_name": "Python 3 (ipykernel)",
   "language": "python",
   "name": "python3"
  },
  "language_info": {
   "codemirror_mode": {
    "name": "ipython",
    "version": 3
   },
   "file_extension": ".py",
   "mimetype": "text/x-python",
   "name": "python",
   "nbconvert_exporter": "python",
   "pygments_lexer": "ipython3",
   "version": "3.9.12"
  }
 },
 "nbformat": 4,
 "nbformat_minor": 5
}
