{
 "cells": [
  {
   "cell_type": "markdown",
   "id": "1b81b912",
   "metadata": {},
   "source": [
    "## 문제 설명\n",
    "#### 두 정수 X, Y의 임의의 자리에서 공통으로 나타나는 정수 k(0 ≤ k ≤ 9)들을 이용하여 만들 수 있는 가장 큰 정수를 두 수의 짝꿍이라 합니다\n",
    "#### (단, 공통으로 나타나는 정수 중 서로 짝지을 수 있는 숫자만 사용합니다). \n",
    "#### X, Y의 짝꿍이 존재하지 않으면, 짝꿍은 -1입니다. X, Y의 짝꿍이 0으로만 구성되어 있다면, 짝꿍은 0입니다.\n",
    "\n",
    "#### 예를 들어, X = 3403이고 Y = 13203이라면, X와 Y의 짝꿍은 X와 Y에서 공통으로 나타나는 3, 0, 3으로 만들 수 있는 가장 큰 정수인 330입니다. \n",
    "#### 다른 예시로 X = 5525이고 Y = 1255이면 X와 Y의 짝꿍은 X와 Y에서 공통으로 나타나는 2, 5, 5로 만들 수 있는 가장 큰 정수인 552입니다\n",
    "#### (X에는 5가 3개, Y에는 5가 2개 나타나므로 남는 5 한 개는 짝 지을 수 없습니다.)\n",
    "#### 두 정수 X, Y가 주어졌을 때, X, Y의 짝꿍을 return하는 solution 함수를 완성해주세요.\n",
    "\n",
    "## 제한사항\n",
    "#### 3 ≤ X, Y의 길이(자릿수) ≤ 3,000,000입니다.\n",
    "#### X, Y는 0으로 시작하지 않습니다.\n",
    "#### X, Y의 짝꿍은 상당히 큰 정수일 수 있으므로, 문자열로 반환합니다.\n",
    "\n",
    "### 입출력 예\n",
    "#### X\tY\tresult\n",
    "#### \"100\"\t\"2345\"\t\"-1\"\n",
    "#### \"100\"\t\"203045\"\t\"0\"\n",
    "#### \"100\"\t\"123450\"\t\"10\"\n",
    "#### \"12321\"\t\"42531\"\t\"321\"\n",
    "#### \"5525\"\t\"1255\"\t\"552\"\n",
    "\n",
    "## 입출력 예 설명\n",
    "\n",
    "### 입출력 예 #1\n",
    "#### X, Y의 짝꿍은 존재하지 않습니다. 따라서 \"-1\"을 return합니다.\n",
    "\n",
    "### 입출력 예 #2\n",
    "#### X, Y의 공통된 숫자는 0으로만 구성되어 있기 때문에, 두 수의 짝꿍은 정수 0입니다. 따라서 \"0\"을 return합니다.\n",
    "\n",
    "### 입출력 예 #3\n",
    "#### X, Y의 짝꿍은 10이므로, \"10\"을 return합니다.\n",
    "\n",
    "### 입출력 예 #4\n",
    "#### X, Y의 짝꿍은 321입니다. 따라서 \"321\"을 return합니다.\n",
    "\n",
    "### 입출력 예 #5\n",
    "#### 지문에 설명된 예시와 같습니다."
   ]
  },
  {
   "cell_type": "code",
   "execution_count": null,
   "id": "a6940f9a",
   "metadata": {},
   "outputs": [],
   "source": []
  },
  {
   "cell_type": "markdown",
   "id": "76af1395",
   "metadata": {},
   "source": [
    "## 내가 푼 풀이"
   ]
  },
  {
   "cell_type": "code",
   "execution_count": 1,
   "id": "415c38a3",
   "metadata": {},
   "outputs": [
    {
     "name": "stdout",
     "output_type": "stream",
     "text": [
      "321\n",
      "552\n"
     ]
    }
   ],
   "source": [
    "def solution(X, Y):\n",
    "    answer = ''\n",
    "    a = '9876543210'\n",
    "    for i in a :\n",
    "        if X.count(i) > 0 and Y.count(i) > 0 :\n",
    "            for j in range(min(X.count(i), Y.count(i))) :\n",
    "                answer += i\n",
    "    if len(answer) == 0 :\n",
    "        return '-1'\n",
    "    if answer[0] == '0' :\n",
    "        return '0'\n",
    "    return answer\n",
    "\n",
    "print(solution(\"12321\", \"42531\"))\n",
    "print(solution(\"5525\", \"1255\"))"
   ]
  },
  {
   "cell_type": "markdown",
   "id": "c098cb77",
   "metadata": {},
   "source": [
    "### 수정 (for문 하나 줄이기)"
   ]
  },
  {
   "cell_type": "code",
   "execution_count": 5,
   "id": "207ef5ce",
   "metadata": {},
   "outputs": [
    {
     "name": "stdout",
     "output_type": "stream",
     "text": [
      "321\n",
      "552\n"
     ]
    }
   ],
   "source": [
    "def solution(X, Y):\n",
    "    answer = ''\n",
    "    a = '9876543210'\n",
    "    for i in a :\n",
    "        if X.count(i) > 0 and Y.count(i) > 0 :\n",
    "            answer += (i * min(X.count(i), Y.count(i)))\n",
    "    if len(answer) == 0 :\n",
    "        return '-1'\n",
    "    elif answer[0] == '0' :\n",
    "        return '0'\n",
    "    return answer\n",
    "\n",
    "print(solution(\"12321\", \"42531\"))\n",
    "print(solution(\"5525\", \"1255\"))"
   ]
  },
  {
   "cell_type": "code",
   "execution_count": null,
   "id": "c09615bd",
   "metadata": {},
   "outputs": [],
   "source": []
  },
  {
   "cell_type": "markdown",
   "id": "19c4cbe8",
   "metadata": {},
   "source": [
    "## 다른 사람 풀이"
   ]
  },
  {
   "cell_type": "code",
   "execution_count": 2,
   "id": "cf0276ca",
   "metadata": {},
   "outputs": [
    {
     "name": "stdout",
     "output_type": "stream",
     "text": [
      "321\n",
      "552\n"
     ]
    }
   ],
   "source": [
    "def solution(X, Y):\n",
    "    answer = ''\n",
    "\n",
    "    for i in range(9,-1,-1) :\n",
    "        answer += (str(i) * min(X.count(str(i)), Y.count(str(i))))\n",
    "\n",
    "    if answer == '' :\n",
    "        return '-1'\n",
    "    elif len(answer) == answer.count('0'):\n",
    "        return '0'\n",
    "    else :\n",
    "        return answer\n",
    "    \n",
    "print(solution(\"12321\", \"42531\"))\n",
    "print(solution(\"5525\", \"1255\"))"
   ]
  },
  {
   "cell_type": "code",
   "execution_count": null,
   "id": "d49e186f",
   "metadata": {},
   "outputs": [],
   "source": []
  },
  {
   "cell_type": "code",
   "execution_count": 3,
   "id": "39347b77",
   "metadata": {},
   "outputs": [
    {
     "name": "stdout",
     "output_type": "stream",
     "text": [
      "321\n",
      "552\n"
     ]
    }
   ],
   "source": [
    "def solution(X, Y):\n",
    "    xList = list(X.count(str(x)) for x in range(10))\n",
    "    yList = list(Y.count(str(y)) for y in range(10))\n",
    "    answer = \"\"\n",
    "    for i in range(9, -1, -1):\n",
    "        answer += str(i) * min(xList[i], yList[i])\n",
    "\n",
    "    if answer == \"\":\n",
    "        return \"-1\"\n",
    "    elif answer[0] == \"0\" and answer[len(answer) - 1] == \"0\":\n",
    "        return \"0\"\n",
    "    else:\n",
    "        return answer\n",
    "\n",
    "print(solution(\"12321\", \"42531\"))\n",
    "print(solution(\"5525\", \"1255\"))"
   ]
  },
  {
   "cell_type": "code",
   "execution_count": null,
   "id": "e099447a",
   "metadata": {},
   "outputs": [],
   "source": []
  }
 ],
 "metadata": {
  "kernelspec": {
   "display_name": "Python 3 (ipykernel)",
   "language": "python",
   "name": "python3"
  },
  "language_info": {
   "codemirror_mode": {
    "name": "ipython",
    "version": 3
   },
   "file_extension": ".py",
   "mimetype": "text/x-python",
   "name": "python",
   "nbconvert_exporter": "python",
   "pygments_lexer": "ipython3",
   "version": "3.9.12"
  }
 },
 "nbformat": 4,
 "nbformat_minor": 5
}
