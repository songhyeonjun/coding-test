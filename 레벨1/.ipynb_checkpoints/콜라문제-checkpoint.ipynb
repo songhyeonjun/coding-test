{
 "cells": [
  {
   "cell_type": "markdown",
   "id": "a5115be1",
   "metadata": {},
   "source": [
    "####  오래전 유행했던 콜라 문제가 있습니다. 콜라 문제의 지문은 다음과 같습니다.\n",
    "\n",
    "#### 정답은 아무에게도 말하지 마세요.\n",
    "\n",
    "## 콜라 빈 병 2개를 가져다주면 콜라 1병을 주는 마트가 있다. 빈 병 20개를 가져다주면 몇 병을 받을 수 있는가?\n",
    "\n",
    "## 단, 보유 중인 빈 병이 2개 미만이면, 콜라를 받을 수 없다.\n",
    "\n",
    "#### 문제를 풀던 상빈이는 콜라 문제의 완벽한 해답을 찾았습니다. \n",
    "#### 상빈이가 푼 방법은 아래 그림과 같습니다. 우선 콜라 빈 병 20병을 가져가서 10병을 받습니다. \n",
    "#### 받은 10병을 모두 마신 뒤, 가져가서 5병을 받습니다. 5병 중 4병을 모두 마신 뒤 가져가서 2병을 받고, \n",
    "#### 또 2병을 모두 마신 뒤 가져가서 1병을 받습니다. 받은 1병과 5병을 받았을 때 남은 1병을 모두 마신 뒤 가져가면 1병을 또 받을 수 있습니다. 이 경우 상빈이는 총 10 + 5 + 2 + 1 + 1 = 19병의 콜라를 받을 수 있습니다.\n",
    "\n",
    "#### 문제를 열심히 풀던 상빈이는 일반화된 콜라 문제를 생각했습니다. \n",
    "### 이 문제는 빈 병 a개를 가져다주면 콜라 b병을 주는 마트가 있을 때, 빈 병 n개를 가져다주면 몇 병을 받을 수 있는지 계산하는 문제입니다. \n",
    "#### 기존 콜라 문제와 마찬가지로, 보유 중인 빈 병이 a개 미만이면, 추가적으로 빈 병을 받을 순 없습니다. \n",
    "#### 상빈이는 열심히 고심했지만, 일반화된 콜라 문제의 답을 찾을 수 없었습니다. 상빈이를 도와, \n",
    "#### 일반화된 콜라 문제를 해결하는 프로그램을 만들어 주세요.\n",
    "\n",
    "#### 콜라를 받기 위해 마트에 주어야 하는 병 수 a, 빈 병 a개를 가져다 주면 마트가 주는 콜라 병 수 b, \n",
    "#### 상빈이가 가지고 있는 빈 병의 개수 n이 매개변수로 주어집니다. 상빈이가 받을 수 있는 콜라의 병 수를 return 하도록 \n",
    "#### solution 함수를 작성해주세요.\n",
    "\n",
    "## 제한사항\n",
    "#### 1 ≤ b < a ≤ n ≤ 1,000,000\n",
    "#### 정답은 항상 int 범위를 넘지 않게 주어집니다.\n",
    "\n",
    "### 입출력 예\n",
    "#### a\tb\tn\tresult\n",
    "#### 2\t1\t20\t19\n",
    "#### 3\t1\t20\t9\n",
    "\n",
    "## 입출력 예 설명\n",
    "### 입출력 예 #1\n",
    "\n",
    "#### 본문에서 설명한 예시입니다.\n",
    "### 입출력 예 #2\n",
    "\n",
    "#### 빈 병 20개 중 18개를 마트에 가져가서, 6병의 콜라를 받습니다. 이때 상빈이가 가지고 있는 콜라 병의 수는 8(20 – 18 + 6 = 8)개 입니다.\n",
    "#### 빈 병 8개 중 6개를 마트에 가져가서, 2병의 콜라를 받습니다. 이때 상빈이가 가지고 있는 콜라 병의 수는 4(8 – 6 + 2 = 4)개 입니다.\n",
    "#### 빈 병 4 개중 3개를 마트에 가져가서, 1병의 콜라를 받습니다. 이때 상빈이가 가지고 있는 콜라 병의 수는 2(4 – 3 + 1 = 2)개 입니다.\n",
    "#### 3번의 교환 동안 상빈이는 9(6 + 2 + 1 = 9)병의 콜라를 받았습니다."
   ]
  },
  {
   "cell_type": "code",
   "execution_count": null,
   "id": "0556b7b1",
   "metadata": {},
   "outputs": [],
   "source": []
  },
  {
   "cell_type": "markdown",
   "id": "eece0985",
   "metadata": {},
   "source": [
    "## 내가 푼 풀이"
   ]
  },
  {
   "cell_type": "code",
   "execution_count": 1,
   "id": "632c2631",
   "metadata": {},
   "outputs": [
    {
     "name": "stdout",
     "output_type": "stream",
     "text": [
      "19\n"
     ]
    }
   ],
   "source": [
    "def solution(a, b, n):\n",
    "    answer = 0\n",
    "    while(n >= a) : # 보유 중인 빈 병이 a개 미만이면, 추가적으로 빈 병을 받을 순 없다.\n",
    "        mod = n % a # 교환하고 남은 콜라 수\n",
    "        n = (n // a) * b # 마트에서 교환한 콜라수\n",
    "        answer += n \n",
    "        n += mod # 마트에서 교환한 콜라와 가지고 있는 콜라를 더한다.\n",
    "        \n",
    "    return answer\n",
    "\n",
    "print(solution(2, 1, 20)) "
   ]
  },
  {
   "cell_type": "code",
   "execution_count": null,
   "id": "2f214bc8",
   "metadata": {},
   "outputs": [],
   "source": []
  },
  {
   "cell_type": "markdown",
   "id": "f561ab55",
   "metadata": {},
   "source": [
    "## 다른 사람 풀이"
   ]
  },
  {
   "cell_type": "code",
   "execution_count": 2,
   "id": "63b6c45d",
   "metadata": {},
   "outputs": [
    {
     "name": "stdout",
     "output_type": "stream",
     "text": [
      "19\n"
     ]
    }
   ],
   "source": [
    "def solution(a, b, n):\n",
    "    answer = 0\n",
    "\n",
    "    num = n\n",
    "    while num >= a:\n",
    "        cnt = num // a\n",
    "        num -= (cnt * a)\n",
    "        num += (cnt * b)\n",
    "        answer += (cnt * b)\n",
    "\n",
    "\n",
    "    return answer\n",
    "print(solution(2, 1, 20))"
   ]
  },
  {
   "cell_type": "code",
   "execution_count": null,
   "id": "5950537c",
   "metadata": {},
   "outputs": [],
   "source": []
  },
  {
   "cell_type": "code",
   "execution_count": 4,
   "id": "e4286bf4",
   "metadata": {},
   "outputs": [
    {
     "name": "stdout",
     "output_type": "stream",
     "text": [
      "19\n"
     ]
    }
   ],
   "source": [
    "def solution(a, b, n):\n",
    "    answer = 0\n",
    "    while n >= a:\n",
    "        answer += (n // a) * b\n",
    "        n = (n // a) * b + (n % a)\n",
    "    return answer\n",
    "print(solution(2, 1, 20))"
   ]
  },
  {
   "cell_type": "code",
   "execution_count": null,
   "id": "a9fa96bf",
   "metadata": {},
   "outputs": [],
   "source": []
  }
 ],
 "metadata": {
  "kernelspec": {
   "display_name": "Python 3 (ipykernel)",
   "language": "python",
   "name": "python3"
  },
  "language_info": {
   "codemirror_mode": {
    "name": "ipython",
    "version": 3
   },
   "file_extension": ".py",
   "mimetype": "text/x-python",
   "name": "python",
   "nbconvert_exporter": "python",
   "pygments_lexer": "ipython3",
   "version": "3.9.12"
  }
 },
 "nbformat": 4,
 "nbformat_minor": 5
}
