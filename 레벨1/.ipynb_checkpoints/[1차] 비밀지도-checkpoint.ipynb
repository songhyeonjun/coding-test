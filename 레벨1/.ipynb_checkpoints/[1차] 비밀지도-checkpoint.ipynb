{
 "cells": [
  {
   "cell_type": "markdown",
   "id": "abd26a98",
   "metadata": {},
   "source": [
    "## 문제 설명\n",
    "### 비밀지도\n",
    "#### 네오는 평소 프로도가 비상금을 숨겨놓는 장소를 알려줄 비밀지도를 손에 넣었다. \n",
    "#### 그런데 이 비밀지도는 숫자로 암호화되어 있어 위치를 확인하기 위해서는 암호를 해독해야 한다. \n",
    "#### 다행히 지도 암호를 해독할 방법을 적어놓은 메모도 함께 발견했다.\n",
    "\n",
    "#### 지도는 한 변의 길이가 n인 정사각형 배열 형태로, 각 칸은 \"공백\"(\" \") 또는 \"벽\"(\"#\") 두 종류로 이루어져 있다.\n",
    "#### 전체 지도는 두 장의 지도를 겹쳐서 얻을 수 있다. \n",
    "#### 각각 \"지도 1\"과 \"지도 2\"라고 하자. 지도 1 또는 지도 2 중 어느 하나라도 벽인 부분은 전체 지도에서도 벽이다. \n",
    "#### 지도 1과 지도 2에서 모두 공백인 부분은 전체 지도에서도 공백이다.\n",
    "#### \"지도 1\"과 \"지도 2\"는 각각 정수 배열로 암호화되어 있다.\n",
    "#### 암호화된 배열은 지도의 각 가로줄에서 벽 부분을 1, 공백 부분을 0으로 부호화했을 때 얻어지는 이진수에 해당하는 값의 배열이다.\n",
    "\n",
    "### 네오가 프로도의 비상금을 손에 넣을 수 있도록, 비밀지도의 암호를 해독하는 작업을 도와줄 프로그램을 작성하라.\n",
    "\n",
    "### 입력 형식\n",
    "#### 입력으로 지도의 한 변 크기 n 과 2개의 정수 배열 arr1, arr2가 들어온다.\n",
    "\n",
    "#### 1 ≦ n ≦ 16\n",
    "#### arr1, arr2는 길이 n인 정수 배열로 주어진다.\n",
    "#### 정수 배열의 각 원소 x를 이진수로 변환했을 때의 길이는 n 이하이다. 즉, 0 ≦ x ≦ 2n - 1을 만족한다.\n",
    "\n",
    "### 출력 형식\n",
    "#### 원래의 비밀지도를 해독하여 '#', 공백으로 구성된 문자열 배열로 출력하라.\n",
    "\n",
    "### 입출력 예제\n",
    "#### 매개변수\t값\n",
    "#### n\t5\n",
    "#### arr1\t[9, 20, 28, 18, 11]\n",
    "#### arr2\t[30, 1, 21, 17, 28]\n",
    "#### 출력\t[\"#####\",\"# # #\", \"### #\", \"# ##\", \"#####\"]\n",
    "#### 매개변수\t값\n",
    "#### n\t6\n",
    "#### arr1\t[46, 33, 33 ,22, 31, 50]\n",
    "#### arr2\t[27 ,56, 19, 14, 14, 10]\n",
    "#### 출력\t[\"######\", \"### #\", \"## ##\", \" #### \", \" #####\", \"### # \"]"
   ]
  },
  {
   "cell_type": "code",
   "execution_count": null,
   "id": "67b82f04",
   "metadata": {},
   "outputs": [],
   "source": []
  },
  {
   "cell_type": "markdown",
   "id": "83e0db12",
   "metadata": {},
   "source": [
    "## 내가 푼 풀이"
   ]
  },
  {
   "cell_type": "code",
   "execution_count": 10,
   "id": "449f957c",
   "metadata": {},
   "outputs": [
    {
     "name": "stdout",
     "output_type": "stream",
     "text": [
      "['#####', '# # #', '### #', '#  ##', '#####']\n"
     ]
    }
   ],
   "source": [
    "def solution(n, arr1, arr2):\n",
    "    answer = []\n",
    "    arr1_password = []\n",
    "    arr2_password = []\n",
    "    output = []\n",
    "    \n",
    "    for i, j in zip(arr1, arr2) :\n",
    "        password1 = []\n",
    "        password2 = []\n",
    "        while i > 0 : # 2진수 변환\n",
    "            a, mod = divmod(i, 2)\n",
    "            i = a\n",
    "            password1.append(mod)\n",
    "    \n",
    "        for i in range(n+1) : # arr1 암호를 passwoed1에 삽입\n",
    "            if len(password1) == n :\n",
    "                break\n",
    "            password1.append(0)\n",
    "    \n",
    "        password1.reverse()\n",
    "    \n",
    "        arr1_password.append(password1)\n",
    "    \n",
    "        while j > 0 : # arr2 2진수 변환 \n",
    "            a, mod = divmod(j, 2)\n",
    "            j = a\n",
    "            password2.append(mod)\n",
    "        for i in range(n+1) : # arr1 암호를 passwoed1에 삽입\n",
    "            if len(password2) == n :\n",
    "                break\n",
    "            password2.append(0)\n",
    "        password2.reverse()\n",
    "    \n",
    "        arr2_password.append(password2)\n",
    "\n",
    "    for i, j in zip(arr1_password, arr2_password) :\n",
    "        test = []\n",
    "        for m in range(n) :\n",
    "            if i[m] + j[m] == 2 or i[m] + j[m] == 1 : # 합이 1이나 2면 1 삽입\n",
    "                test.append(1)\n",
    "            else :\n",
    "                test.append(0)\n",
    "        answer.append(test)\n",
    "        \n",
    "    for i in answer :\n",
    "        answer_str = \"\"\n",
    "        for m in range(n) :\n",
    "            answer_str += str(i[m])\n",
    "        output.append(answer_str.replace(\"1\", \"#\").replace(\"0\", \" \")) # 1을 #, 0을 공백으로 삽입\n",
    "    return output\n",
    "\n",
    "print(solution(5, [9, 20, 28, 18, 11], [30, 1, 21, 17, 28]))"
   ]
  },
  {
   "cell_type": "code",
   "execution_count": null,
   "id": "c3fcef13",
   "metadata": {},
   "outputs": [],
   "source": []
  },
  {
   "cell_type": "code",
   "execution_count": 20,
   "id": "5566a3ee",
   "metadata": {},
   "outputs": [
    {
     "name": "stdout",
     "output_type": "stream",
     "text": [
      "['#####', '# # #', '### #', '#  ##', '#####']\n"
     ]
    }
   ],
   "source": [
    "def solution(n, arr1, arr2):\n",
    "    answer = []\n",
    "    for i, j in zip(arr1, arr2) : \n",
    "        a12 = str(bin(i|j)[2:]) # 비트연산자 이용\n",
    "        answer.append(a12.replace('1', '#').replace('0', ' '))\n",
    "    return answer\n",
    "print(solution(5, [9, 20, 28, 18, 11], [30, 1, 21, 17, 28]))"
   ]
  },
  {
   "cell_type": "code",
   "execution_count": null,
   "id": "f4f8406e",
   "metadata": {},
   "outputs": [],
   "source": []
  },
  {
   "cell_type": "markdown",
   "id": "cfdf8d9f",
   "metadata": {},
   "source": [
    "## 다른 사람 풀이"
   ]
  },
  {
   "cell_type": "markdown",
   "id": "6d7005e6",
   "metadata": {},
   "source": [
    "### 비트연산자 이용"
   ]
  },
  {
   "cell_type": "code",
   "execution_count": 5,
   "id": "8babba6a",
   "metadata": {},
   "outputs": [
    {
     "name": "stdout",
     "output_type": "stream",
     "text": [
      "['#####', '# # #', '### #', '#  ##', '#####']\n"
     ]
    }
   ],
   "source": [
    "def solution(n, arr1, arr2):\n",
    "    answer = []\n",
    "    for i,j in zip(arr1,arr2):\n",
    "        a12 = str(bin(i|j)[2:])\n",
    "        a12=a12.rjust(n,'0')\n",
    "        a12=a12.replace('1','#')\n",
    "        a12=a12.replace('0',' ')\n",
    "        answer.append(a12)\n",
    "    return answer\n",
    "print(solution(5, [9, 20, 28, 18, 11], [30, 1, 21, 17, 28]))"
   ]
  },
  {
   "cell_type": "code",
   "execution_count": null,
   "id": "80840d09",
   "metadata": {},
   "outputs": [],
   "source": []
  },
  {
   "cell_type": "code",
   "execution_count": 11,
   "id": "42fb0858",
   "metadata": {},
   "outputs": [
    {
     "name": "stdout",
     "output_type": "stream",
     "text": [
      "['#####', '# # #', '### #', '#  ##', '#####']\n"
     ]
    }
   ],
   "source": [
    "def solution(n, arr1, arr2) :\n",
    "    result = []\n",
    "\n",
    "    for j in range(0,len(arr1)) :\n",
    "        ret = ''\n",
    "        num = arr1[j] | arr2[j]\n",
    "\n",
    "        for i in range(0, n) :\n",
    "            if num % 2 == 0 :\n",
    "                ret = ' ' + ret\n",
    "\n",
    "            else : \n",
    "                ret = '#' + ret\n",
    "\n",
    "            num = int(num / 2)\n",
    "\n",
    "        result.append(ret)\n",
    "\n",
    "    return result\n",
    "print(solution(5, [9, 20, 28, 18, 11], [30, 1, 21, 17, 28]))"
   ]
  },
  {
   "cell_type": "code",
   "execution_count": null,
   "id": "e852b7dd",
   "metadata": {},
   "outputs": [],
   "source": []
  }
 ],
 "metadata": {
  "kernelspec": {
   "display_name": "Python 3 (ipykernel)",
   "language": "python",
   "name": "python3"
  },
  "language_info": {
   "codemirror_mode": {
    "name": "ipython",
    "version": 3
   },
   "file_extension": ".py",
   "mimetype": "text/x-python",
   "name": "python",
   "nbconvert_exporter": "python",
   "pygments_lexer": "ipython3",
   "version": "3.9.12"
  }
 },
 "nbformat": 4,
 "nbformat_minor": 5
}
