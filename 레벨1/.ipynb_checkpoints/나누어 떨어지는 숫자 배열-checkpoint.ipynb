{
 "cells": [
  {
   "cell_type": "markdown",
   "id": "33b1e150",
   "metadata": {},
   "source": [
    "## 문제 설명\n",
    "### array의 각 element 중 divisor로 나누어 떨어지는 값을 오름차순으로 정렬한 배열을 반환하는 함수, solution을 작성해주세요.\n",
    "### divisor로 나누어 떨어지는 element가 하나도 없다면 배열에 -1을 담아 반환하세요.\n",
    "\n",
    "## 제한사항\n",
    "### arr은 자연수를 담은 배열입니다.\n",
    "### 정수 i, j에 대해 i ≠ j 이면 arr[i] ≠ arr[j] 입니다.\n",
    "### divisor는 자연수입니다.\n",
    "### array는 길이 1 이상인 배열입니다.\n",
    "\n",
    "## 입출력 예\n",
    "### arr\tdivisor\treturn\n",
    "### [5, 9, 7, 10]\t5\t[5, 10]\n",
    "### [2, 36, 1, 3]\t1\t[1, 2, 3, 36]\n",
    "### [3,2,6]\t10\t[-1]\n",
    "## 입출력 예 설명\n",
    "\n",
    "### 입출력 예#1\n",
    "#### arr의 원소 중 5로 나누어 떨어지는 원소는 5와 10입니다. 따라서 [5, 10]을 리턴합니다.\n",
    "\n",
    "### 입출력 예#2\n",
    "#### arr의 모든 원소는 1으로 나누어 떨어집니다. 원소를 오름차순으로 정렬해 [1, 2, 3, 36]을 리턴합니다.\n",
    "\n",
    "### 입출력 예#3\n",
    "#### 3, 2, 6은 10으로 나누어 떨어지지 않습니다. 나누어 떨어지는 원소가 없으므로 [-1]을 리턴합니다."
   ]
  },
  {
   "cell_type": "code",
   "execution_count": null,
   "id": "29262df2",
   "metadata": {},
   "outputs": [],
   "source": []
  },
  {
   "cell_type": "markdown",
   "id": "859a7a2b",
   "metadata": {},
   "source": [
    "## 내가 푼 풀이"
   ]
  },
  {
   "cell_type": "code",
   "execution_count": 2,
   "id": "46bccb09",
   "metadata": {},
   "outputs": [
    {
     "name": "stdout",
     "output_type": "stream",
     "text": [
      "[5, 10]\n"
     ]
    }
   ],
   "source": [
    "def solution(arr, divisor):\n",
    "    answer = []\n",
    "    arr.sort()\n",
    "    for i in arr :\n",
    "        if i % divisor == 0 :\n",
    "            answer.append(i)\n",
    "    if answer == [] :\n",
    "        answer.append(-1)\n",
    "    return answer\n",
    "\n",
    "print(solution([5, 9, 7, 10], 5))"
   ]
  },
  {
   "cell_type": "code",
   "execution_count": null,
   "id": "be9aa9c2",
   "metadata": {},
   "outputs": [],
   "source": []
  },
  {
   "cell_type": "markdown",
   "id": "9bec1962",
   "metadata": {},
   "source": [
    "## 다른 사람 풀이"
   ]
  },
  {
   "cell_type": "code",
   "execution_count": 4,
   "id": "79948e91",
   "metadata": {},
   "outputs": [
    {
     "name": "stdout",
     "output_type": "stream",
     "text": [
      "[5, 10]\n"
     ]
    }
   ],
   "source": [
    "def solution(arr, divisor): return sorted([n for n in arr if n%divisor == 0]) or [-1]\n",
    "print(solution([5, 9, 7, 10], 5))"
   ]
  },
  {
   "cell_type": "code",
   "execution_count": null,
   "id": "6499f7ae",
   "metadata": {},
   "outputs": [],
   "source": []
  },
  {
   "cell_type": "code",
   "execution_count": 5,
   "id": "f1820238",
   "metadata": {},
   "outputs": [
    {
     "name": "stdout",
     "output_type": "stream",
     "text": [
      "[5, 10]\n"
     ]
    }
   ],
   "source": [
    "def solution(arr, divisor):\n",
    "    arr = [x for x in arr if x % divisor == 0];\n",
    "    arr.sort();\n",
    "    return arr if len(arr) != 0 else [-1];\n",
    "\n",
    "print(solution([5, 9, 7, 10], 5))"
   ]
  },
  {
   "cell_type": "code",
   "execution_count": null,
   "id": "2b9c0da8",
   "metadata": {},
   "outputs": [],
   "source": []
  }
 ],
 "metadata": {
  "kernelspec": {
   "display_name": "Python 3 (ipykernel)",
   "language": "python",
   "name": "python3"
  },
  "language_info": {
   "codemirror_mode": {
    "name": "ipython",
    "version": 3
   },
   "file_extension": ".py",
   "mimetype": "text/x-python",
   "name": "python",
   "nbconvert_exporter": "python",
   "pygments_lexer": "ipython3",
   "version": "3.9.12"
  }
 },
 "nbformat": 4,
 "nbformat_minor": 5
}
