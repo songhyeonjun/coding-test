{
 "cells": [
  {
   "cell_type": "markdown",
   "id": "ad7fa56b",
   "metadata": {},
   "source": [
    "## 문제 설명\n",
    "### 자연수 n을 뒤집어 각 자리 숫자를 원소로 가지는 배열 형태로 리턴해주세요. 예를들어 n이 12345이면 [5,4,3,2,1]을 리턴합니다.\n",
    "\n",
    "## 제한 조건\n",
    "### n은 10,000,000,000이하인 자연수입니다.\n",
    "\n",
    "### 입출력 예\n",
    "#### n\treturn\n",
    "#### 12345\t[5,4,3,2,1]"
   ]
  },
  {
   "cell_type": "code",
   "execution_count": null,
   "id": "54791d9b",
   "metadata": {},
   "outputs": [],
   "source": []
  },
  {
   "cell_type": "markdown",
   "id": "92eed62b",
   "metadata": {},
   "source": [
    "## 내가 한 풀이"
   ]
  },
  {
   "cell_type": "code",
   "execution_count": 1,
   "id": "89294a78",
   "metadata": {},
   "outputs": [
    {
     "name": "stdout",
     "output_type": "stream",
     "text": [
      "[5, 4, 3, 2, 1]\n"
     ]
    }
   ],
   "source": [
    "def solution(n):\n",
    "    answer = []\n",
    "    while(n>0) :\n",
    "        answer.append(n % 10)\n",
    "        n = n // 10\n",
    "    return answer\n",
    "\n",
    "print(solution(12345))"
   ]
  },
  {
   "cell_type": "code",
   "execution_count": null,
   "id": "3eaa55f4",
   "metadata": {},
   "outputs": [],
   "source": []
  },
  {
   "cell_type": "markdown",
   "id": "2468c25c",
   "metadata": {},
   "source": [
    "## 다른 사람 풀이"
   ]
  },
  {
   "cell_type": "code",
   "execution_count": 2,
   "id": "e60b4884",
   "metadata": {},
   "outputs": [
    {
     "name": "stdout",
     "output_type": "stream",
     "text": [
      "[5, 4, 3, 2, 1]\n"
     ]
    }
   ],
   "source": [
    "def digit_reverse(n):\n",
    "    return list(map(int, reversed(str(n))))\n",
    "\n",
    "print(digit_reverse(12345))"
   ]
  },
  {
   "cell_type": "code",
   "execution_count": 3,
   "id": "b7f7abb8",
   "metadata": {},
   "outputs": [
    {
     "data": {
      "text/plain": [
       "'12345'"
      ]
     },
     "execution_count": 3,
     "metadata": {},
     "output_type": "execute_result"
    }
   ],
   "source": [
    "str(12345)"
   ]
  },
  {
   "cell_type": "markdown",
   "id": "bae29ff0",
   "metadata": {},
   "source": [
    "### 요소를 뒤집음"
   ]
  },
  {
   "cell_type": "code",
   "execution_count": 16,
   "id": "0d7a4707",
   "metadata": {},
   "outputs": [
    {
     "data": {
      "text/plain": [
       "<reversed at 0x21281141a90>"
      ]
     },
     "execution_count": 16,
     "metadata": {},
     "output_type": "execute_result"
    }
   ],
   "source": [
    "reversed(str(12345))"
   ]
  },
  {
   "cell_type": "markdown",
   "id": "1fbe5d7e",
   "metadata": {},
   "source": [
    "### 요소를 정수로 변환"
   ]
  },
  {
   "cell_type": "code",
   "execution_count": 10,
   "id": "738257fa",
   "metadata": {},
   "outputs": [
    {
     "data": {
      "text/plain": [
       "<map at 0x212ffc08a90>"
      ]
     },
     "execution_count": 10,
     "metadata": {},
     "output_type": "execute_result"
    }
   ],
   "source": [
    "map(int, reversed(str(123345)))"
   ]
  },
  {
   "cell_type": "markdown",
   "id": "f827c367",
   "metadata": {},
   "source": [
    "### 리스트로 변환"
   ]
  },
  {
   "cell_type": "code",
   "execution_count": 8,
   "id": "576dec4d",
   "metadata": {},
   "outputs": [
    {
     "data": {
      "text/plain": [
       "[5, 4, 3, 2, 1]"
      ]
     },
     "execution_count": 8,
     "metadata": {},
     "output_type": "execute_result"
    }
   ],
   "source": [
    "list(map(int, reversed(str(12345))))"
   ]
  },
  {
   "cell_type": "code",
   "execution_count": null,
   "id": "bcd617ca",
   "metadata": {},
   "outputs": [],
   "source": []
  },
  {
   "cell_type": "code",
   "execution_count": 17,
   "id": "5f04829a",
   "metadata": {},
   "outputs": [
    {
     "name": "stdout",
     "output_type": "stream",
     "text": [
      "결과 : [5, 4, 3, 2, 1]\n"
     ]
    }
   ],
   "source": [
    "def digit_reverse(n):\n",
    "    return [int(i) for i in str(n)][::-1]\n",
    "\n",
    "print(\"결과 : {}\".format(digit_reverse(12345)));"
   ]
  },
  {
   "cell_type": "code",
   "execution_count": 20,
   "id": "17f7a1a4",
   "metadata": {},
   "outputs": [
    {
     "data": {
      "text/plain": [
       "[5, 4, 3, 2, 1]"
      ]
     },
     "execution_count": 20,
     "metadata": {},
     "output_type": "execute_result"
    }
   ],
   "source": [
    "[int(i) for i in str(12345)][::-1]"
   ]
  },
  {
   "cell_type": "code",
   "execution_count": null,
   "id": "b8c80392",
   "metadata": {},
   "outputs": [],
   "source": []
  }
 ],
 "metadata": {
  "kernelspec": {
   "display_name": "Python 3 (ipykernel)",
   "language": "python",
   "name": "python3"
  },
  "language_info": {
   "codemirror_mode": {
    "name": "ipython",
    "version": 3
   },
   "file_extension": ".py",
   "mimetype": "text/x-python",
   "name": "python",
   "nbconvert_exporter": "python",
   "pygments_lexer": "ipython3",
   "version": "3.9.12"
  }
 },
 "nbformat": 4,
 "nbformat_minor": 5
}
