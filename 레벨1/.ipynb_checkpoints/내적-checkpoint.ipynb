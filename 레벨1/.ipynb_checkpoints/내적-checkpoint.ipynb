{
 "cells": [
  {
   "cell_type": "markdown",
   "id": "06e9f8ac",
   "metadata": {},
   "source": [
    "## 문제 설명\n",
    "### 길이가 같은 두 1차원 정수 배열 a, b가 매개변수로 주어집니다. a와 b의 내적을 return 하도록 solution 함수를 완성해주세요.\n",
    "\n",
    "### 이때, a와 b의 내적은 a[0]*b[0] + a[1]*b[1] + ... + a[n-1]*b[n-1] 입니다. (n은 a, b의 길이)\n",
    "\n",
    "## 제한사항\n",
    "### a, b의 길이는 1 이상 1,000 이하입니다.\n",
    "### a, b의 모든 수는 -1,000 이상 1,000 이하입니다.\n",
    "\n",
    "## 입출력 예\n",
    "### a\tb\tresult\n",
    "### [1,2,3,4]\t[-3,-1,0,2]\t3\n",
    "### [-1,0,1]\t[1,0,-1]\t-2\n",
    "\n",
    "### 입출력 예 설명\n",
    "### 입출력 예 #1\n",
    "\n",
    "#### a와 b의 내적은 1*(-3) + 2*(-1) + 3*0 + 4*2 = 3 입니다.\n",
    "### 입출력 예 #2\n",
    "\n",
    "#### a와 b의 내적은 (-1)*1 + 0*0 + 1*(-1) = -2 입니다."
   ]
  },
  {
   "cell_type": "code",
   "execution_count": null,
   "id": "9f7c7ca8",
   "metadata": {},
   "outputs": [],
   "source": []
  },
  {
   "cell_type": "markdown",
   "id": "530ab508",
   "metadata": {},
   "source": [
    "## 내가 푼 풀이"
   ]
  },
  {
   "cell_type": "code",
   "execution_count": 1,
   "id": "e8d0680b",
   "metadata": {},
   "outputs": [
    {
     "name": "stdout",
     "output_type": "stream",
     "text": [
      "3\n"
     ]
    }
   ],
   "source": [
    "def solution(a, b):\n",
    "    answer = 0\n",
    "    for n in range(len(a)) :\n",
    "        answer += a[n] * b[n]\n",
    "    return answer\n",
    "\n",
    "print(solution([1,2,3,4], [-3,-1,0,2]))"
   ]
  },
  {
   "cell_type": "code",
   "execution_count": null,
   "id": "3f7a7a2a",
   "metadata": {},
   "outputs": [],
   "source": []
  },
  {
   "cell_type": "markdown",
   "id": "bf1cbd99",
   "metadata": {},
   "source": [
    "## 다른 사람 풀이"
   ]
  },
  {
   "cell_type": "code",
   "execution_count": 2,
   "id": "4989605d",
   "metadata": {},
   "outputs": [
    {
     "name": "stdout",
     "output_type": "stream",
     "text": [
      "3\n"
     ]
    }
   ],
   "source": [
    "def solution(a, b):\n",
    "\n",
    "    return sum([x*y for x, y in zip(a,b)])\n",
    "\n",
    "print(solution([1,2,3,4], [-3,-1,0,2]))"
   ]
  },
  {
   "cell_type": "code",
   "execution_count": null,
   "id": "b9c33bef",
   "metadata": {},
   "outputs": [],
   "source": []
  },
  {
   "cell_type": "code",
   "execution_count": 3,
   "id": "701ee2a4",
   "metadata": {},
   "outputs": [
    {
     "name": "stdout",
     "output_type": "stream",
     "text": [
      "3\n"
     ]
    }
   ],
   "source": [
    "def solution(a, b):\n",
    "    c = []\n",
    "    for i in range(len(a)):\n",
    "        c.append(a[i]*b[i])\n",
    "    return sum(c)\n",
    "\n",
    "print(solution([1,2,3,4], [-3,-1,0,2]))"
   ]
  },
  {
   "cell_type": "code",
   "execution_count": null,
   "id": "4c3c70c3",
   "metadata": {},
   "outputs": [],
   "source": []
  }
 ],
 "metadata": {
  "kernelspec": {
   "display_name": "Python 3 (ipykernel)",
   "language": "python",
   "name": "python3"
  },
  "language_info": {
   "codemirror_mode": {
    "name": "ipython",
    "version": 3
   },
   "file_extension": ".py",
   "mimetype": "text/x-python",
   "name": "python",
   "nbconvert_exporter": "python",
   "pygments_lexer": "ipython3",
   "version": "3.9.12"
  }
 },
 "nbformat": 4,
 "nbformat_minor": 5
}
