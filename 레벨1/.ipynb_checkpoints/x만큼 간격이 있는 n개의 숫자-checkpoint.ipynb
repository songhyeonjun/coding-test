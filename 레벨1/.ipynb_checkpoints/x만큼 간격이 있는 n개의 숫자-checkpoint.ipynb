{
 "cells": [
  {
   "cell_type": "markdown",
   "id": "97647ae3",
   "metadata": {},
   "source": [
    "## 문제 설명\n",
    "### 함수 solution은 정수 x와 자연수 n을 입력 받아, x부터 시작해 x씩 증가하는 숫자를 n개 지니는 리스트를 리턴해야 합니다. 다음 제한 조건을 보고, 조건을 만족하는 함수, solution을 완성해주세요.\n",
    "\n",
    "## 제한 조건\n",
    "### x는 -10000000 이상, 10000000 이하인 정수입니다.\n",
    "### n은 1000 이하인 자연수입니다.\n",
    "### 입출력 예\n",
    "#### x\tn\tanswer\n",
    "#### 2\t5\t[2,4,6,8,10]\n",
    "#### 4\t3\t[4,8,12]\n",
    "#### -4\t2\t[-4, -8]"
   ]
  },
  {
   "cell_type": "code",
   "execution_count": null,
   "id": "ceea3ea6",
   "metadata": {},
   "outputs": [],
   "source": []
  },
  {
   "cell_type": "markdown",
   "id": "598aa36f",
   "metadata": {},
   "source": [
    "## 내가 푼 풀이"
   ]
  },
  {
   "cell_type": "code",
   "execution_count": 1,
   "id": "301b67ed",
   "metadata": {},
   "outputs": [
    {
     "name": "stdout",
     "output_type": "stream",
     "text": [
      "[-4, -8]\n"
     ]
    }
   ],
   "source": [
    "def solution(x, n):\n",
    "    answer = []\n",
    "    for i in range (1,n+1):\n",
    "        answer.append(x*i)  \n",
    "    return answer\n",
    "\n",
    "print(solution(-4, 2))"
   ]
  },
  {
   "cell_type": "code",
   "execution_count": null,
   "id": "9bd7ab78",
   "metadata": {},
   "outputs": [],
   "source": []
  },
  {
   "cell_type": "markdown",
   "id": "a91a054e",
   "metadata": {},
   "source": [
    "## 다른 사람 풀이"
   ]
  },
  {
   "cell_type": "code",
   "execution_count": 2,
   "id": "16095f75",
   "metadata": {},
   "outputs": [
    {
     "name": "stdout",
     "output_type": "stream",
     "text": [
      "[2, 4, 6, 8, 10]\n"
     ]
    }
   ],
   "source": [
    "def number_generator(x, n):\n",
    "    # 함수를 완성하세요\n",
    "    return [i * x + x for i in range(n)]\n",
    "print(number_generator(2, 5))"
   ]
  },
  {
   "cell_type": "code",
   "execution_count": null,
   "id": "f06baddc",
   "metadata": {},
   "outputs": [],
   "source": []
  },
  {
   "cell_type": "code",
   "execution_count": 3,
   "id": "02886d83",
   "metadata": {},
   "outputs": [
    {
     "name": "stdout",
     "output_type": "stream",
     "text": [
      "[2, 4, 6, 8, 10]\n"
     ]
    }
   ],
   "source": [
    "def number_generator(x, n):\n",
    "    # 함수를 완성하세요\n",
    "    return [i for i in range(x, x*n+1, x)]\n",
    "\n",
    "# 아래는 테스트로 출력해 보기 위한 코드입니다.\n",
    "print(number_generator(2,5))"
   ]
  },
  {
   "cell_type": "code",
   "execution_count": null,
   "id": "e391115c",
   "metadata": {},
   "outputs": [],
   "source": []
  }
 ],
 "metadata": {
  "kernelspec": {
   "display_name": "Python 3 (ipykernel)",
   "language": "python",
   "name": "python3"
  },
  "language_info": {
   "codemirror_mode": {
    "name": "ipython",
    "version": 3
   },
   "file_extension": ".py",
   "mimetype": "text/x-python",
   "name": "python",
   "nbconvert_exporter": "python",
   "pygments_lexer": "ipython3",
   "version": "3.9.12"
  }
 },
 "nbformat": 4,
 "nbformat_minor": 5
}
