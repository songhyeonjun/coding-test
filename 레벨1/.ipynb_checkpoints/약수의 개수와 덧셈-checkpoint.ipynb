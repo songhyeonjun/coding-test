{
 "cells": [
  {
   "cell_type": "markdown",
   "id": "c4d975c8",
   "metadata": {},
   "source": [
    "## 문제 설명\n",
    "### 두 정수 left와 right가 매개변수로 주어집니다. left부터 right까지의 모든 수들 중에서, 약수의 개수가 짝수인 수는 더하고, 약수의 개수가 홀수인 수는 뺀 수를 return 하도록 solution 함수를 완성해주세요.\n",
    "\n",
    "## 제한사항\n",
    "### 1 ≤ left ≤ right ≤ 1,000\n",
    "\n",
    "## 입출력 예\n",
    "### left\tright\tresult\n",
    "### 13\t17\t43\n",
    "### 24\t27\t52\n",
    "\n",
    "### 입출력 예 설명\n",
    "### 입출력 예 #1\n",
    "\n",
    "#### 다음 표는 13부터 17까지의 수들의 약수를 모두 나타낸 것입니다.\n",
    "#### 수\t약수\t약수의 개수\n",
    "#### 13\t1, 13\t2\n",
    "#### 14\t1, 2, 7, 14\t4\n",
    "#### 115\t1, 3, 5, 15\t4\n",
    "#### 116\t1, 2, 4, 8, 16\t5\n",
    "#### 117\t1, 17\t2\n",
    "#### 1따라서, 13 + 14 + 15 - 16 + 17 = 43을 return 해야 합니다.\n",
    "### 입출력 예 #2\n",
    "\n",
    "#### 1다음 표는 24부터 27까지의 수들의 약수를 모두 나타낸 것입니다.\n",
    "#### 1수\t약수\t약수의 개수\n",
    "#### 124\t1, 2, 3, 4, 6, 8, 12, 24\t8\n",
    "#### 125\t1, 5, 25\t3\n",
    "#### 126\t1, 2, 13, 26\t4\n",
    "#### 127\t1, 3, 9, 27\t4\n",
    "#### 1따라서, 24 - 25 + 26 + 27 = 52를 return 해야 합니다."
   ]
  },
  {
   "cell_type": "code",
   "execution_count": null,
   "id": "895a7870",
   "metadata": {},
   "outputs": [],
   "source": []
  },
  {
   "cell_type": "markdown",
   "id": "25497757",
   "metadata": {},
   "source": [
    "## 내가 푼 풀이"
   ]
  },
  {
   "cell_type": "code",
   "execution_count": 1,
   "id": "74f77dad",
   "metadata": {},
   "outputs": [
    {
     "name": "stdout",
     "output_type": "stream",
     "text": [
      "43\n",
      "52\n"
     ]
    }
   ],
   "source": [
    "def solution(left, right):\n",
    "    answer = 0\n",
    "    for i in range(left, right + 1) :\n",
    "        count = 0\n",
    "        for n in range(1, i+1) :\n",
    "            if i % n == 0 :\n",
    "                count += 1\n",
    "        if count % 2 == 0 :\n",
    "            answer += i\n",
    "        else :\n",
    "            answer -= i\n",
    "    return answer\n",
    "      \n",
    "\n",
    "print(solution(13, 17))\n",
    "print(solution(24, 27))"
   ]
  },
  {
   "cell_type": "code",
   "execution_count": null,
   "id": "c6ce01ac",
   "metadata": {},
   "outputs": [],
   "source": []
  },
  {
   "cell_type": "markdown",
   "id": "ec62f8c2",
   "metadata": {},
   "source": [
    "## 다른 사람 풀이"
   ]
  },
  {
   "cell_type": "markdown",
   "id": "4103b398",
   "metadata": {},
   "source": [
    "### 제곱수의 약수는 홀수개"
   ]
  },
  {
   "cell_type": "code",
   "execution_count": 2,
   "id": "6fb9bdaf",
   "metadata": {},
   "outputs": [
    {
     "name": "stdout",
     "output_type": "stream",
     "text": [
      "43\n",
      "52\n"
     ]
    }
   ],
   "source": [
    "def solution(left, right):\n",
    "    answer = 0\n",
    "    for i in range(left,right+1):\n",
    "        if int(i**0.5)==i**0.5:\n",
    "            answer -= i\n",
    "        else:\n",
    "            answer += i\n",
    "    return answer\n",
    "print(solution(13, 17))\n",
    "print(solution(24, 27))"
   ]
  },
  {
   "cell_type": "code",
   "execution_count": null,
   "id": "dab6a2f4",
   "metadata": {},
   "outputs": [],
   "source": []
  },
  {
   "cell_type": "markdown",
   "id": "464d7044",
   "metadata": {},
   "source": [
    "### math.sqrt(x) 함수는 x의 제곱근을 반환"
   ]
  },
  {
   "cell_type": "code",
   "execution_count": 5,
   "id": "cdbc928d",
   "metadata": {},
   "outputs": [
    {
     "name": "stdout",
     "output_type": "stream",
     "text": [
      "43\n",
      "52\n"
     ]
    }
   ],
   "source": [
    "import math\n",
    "\n",
    "def solution(left, right):\n",
    "    answer = 0\n",
    "    for i in range(left, right + 1, 1):\n",
    "        sqrt = math.sqrt(i)\n",
    "        if int(sqrt) == sqrt:\n",
    "            answer -= i\n",
    "        else:\n",
    "            answer += i\n",
    "\n",
    "    return answer\n",
    "print(solution(13, 17))\n",
    "print(solution(24, 27))"
   ]
  },
  {
   "cell_type": "code",
   "execution_count": null,
   "id": "7c2d8c11",
   "metadata": {},
   "outputs": [],
   "source": []
  }
 ],
 "metadata": {
  "kernelspec": {
   "display_name": "Python 3 (ipykernel)",
   "language": "python",
   "name": "python3"
  },
  "language_info": {
   "codemirror_mode": {
    "name": "ipython",
    "version": 3
   },
   "file_extension": ".py",
   "mimetype": "text/x-python",
   "name": "python",
   "nbconvert_exporter": "python",
   "pygments_lexer": "ipython3",
   "version": "3.9.12"
  }
 },
 "nbformat": 4,
 "nbformat_minor": 5
}
