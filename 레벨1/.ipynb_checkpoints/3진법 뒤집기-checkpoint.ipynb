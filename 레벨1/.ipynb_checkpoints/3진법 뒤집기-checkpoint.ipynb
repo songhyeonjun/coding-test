{
 "cells": [
  {
   "cell_type": "markdown",
   "id": "74a35d3a",
   "metadata": {},
   "source": [
    "## 문제 설명\n",
    "#### 자연수 n이 매개변수로 주어집니다. n을 3진법 상에서 앞뒤로 뒤집은 후, \n",
    "#### 이를 다시 10진법으로 표현한 수를 return 하도록 solution 함수를 완성해주세요.\n",
    "\n",
    "## 제한사항\n",
    "#### n은 1 이상 100,000,000 이하인 자연수입니다.\n",
    "\n",
    "## 입출력 예\n",
    "#### n\tresult\n",
    "#### 45\t7\n",
    "#### 125\t229\n",
    "\n",
    "### 입출력 예 설명\n",
    "### 입출력 예 #1\n",
    "\n",
    "#### 답을 도출하는 과정은 다음과 같습니다.\n",
    "#### n (10진법)\tn (3진법)\t앞뒤 반전(3진법)\t10진법으로 표현\n",
    "#### 45\t1200\t0021\t7\n",
    "#### 따라서 7을 return 해야 합니다.\n",
    "### 입출력 예 #2\n",
    "\n",
    "#### 답을 도출하는 과정은 다음과 같습니다.\n",
    "#### n (10진법)\tn (3진법)\t앞뒤 반전(3진법)\t10진법으로 표현\n",
    "#### 125\t11122\t22111\t229\n",
    "#### 따라서 229를 return 해야 합니다."
   ]
  },
  {
   "cell_type": "code",
   "execution_count": null,
   "id": "e0a67630",
   "metadata": {},
   "outputs": [],
   "source": []
  },
  {
   "cell_type": "markdown",
   "id": "94ec1a05",
   "metadata": {},
   "source": [
    "## 내가 푼 풀이"
   ]
  },
  {
   "cell_type": "code",
   "execution_count": 2,
   "id": "a986e29c",
   "metadata": {},
   "outputs": [
    {
     "name": "stdout",
     "output_type": "stream",
     "text": [
      "229\n"
     ]
    }
   ],
   "source": [
    "def solution(n):\n",
    "    rev_base = ''\n",
    "    while n > 0:\n",
    "        n, mod = divmod(n, 3)\n",
    "        rev_base += str(mod) # 나머지값을 하나씩 쌓는다\n",
    "    return int(rev_base, 3) # \n",
    "print(solution(125))"
   ]
  },
  {
   "cell_type": "code",
   "execution_count": null,
   "id": "296ea8bb",
   "metadata": {},
   "outputs": [],
   "source": []
  },
  {
   "cell_type": "markdown",
   "id": "5576fe9f",
   "metadata": {},
   "source": [
    "## 다른 사람 풀이"
   ]
  },
  {
   "cell_type": "code",
   "execution_count": 4,
   "id": "9745a426",
   "metadata": {},
   "outputs": [
    {
     "name": "stdout",
     "output_type": "stream",
     "text": [
      "229\n"
     ]
    }
   ],
   "source": [
    "def solution(n):\n",
    "    tmp = ''\n",
    "    while n:\n",
    "        tmp += str(n % 3)\n",
    "        n = n // 3\n",
    "\n",
    "    answer = int(tmp, 3)\n",
    "    return answer\n",
    "print(solution(125))"
   ]
  },
  {
   "cell_type": "code",
   "execution_count": null,
   "id": "a122bbdd",
   "metadata": {},
   "outputs": [],
   "source": []
  },
  {
   "cell_type": "code",
   "execution_count": 5,
   "id": "da4d0994",
   "metadata": {},
   "outputs": [
    {
     "name": "stdout",
     "output_type": "stream",
     "text": [
      "22111\n",
      "229\n"
     ]
    }
   ],
   "source": [
    "def solution(n):\n",
    "    answer = 0\n",
    "    cnt = 1\n",
    "    a = ''\n",
    "    while n>0:\n",
    "        a+=str(n%3)\n",
    "        n = n//3\n",
    "    print(a)\n",
    "    for b in range(len(a),0,-1):\n",
    "        answer += (int(a[b-1])*cnt)\n",
    "        cnt *= 3\n",
    "    return answer\n",
    "print(solution(125))"
   ]
  },
  {
   "cell_type": "code",
   "execution_count": null,
   "id": "e04575de",
   "metadata": {},
   "outputs": [],
   "source": []
  }
 ],
 "metadata": {
  "kernelspec": {
   "display_name": "Python 3 (ipykernel)",
   "language": "python",
   "name": "python3"
  },
  "language_info": {
   "codemirror_mode": {
    "name": "ipython",
    "version": 3
   },
   "file_extension": ".py",
   "mimetype": "text/x-python",
   "name": "python",
   "nbconvert_exporter": "python",
   "pygments_lexer": "ipython3",
   "version": "3.9.12"
  }
 },
 "nbformat": 4,
 "nbformat_minor": 5
}
