{
 "cells": [
  {
   "cell_type": "markdown",
   "id": "e8b6a2b0",
   "metadata": {},
   "source": [
    "## 문제 설명\n",
    "#### 머쓱이는 태어난 지 11개월 된 조카를 돌보고 있습니다. \n",
    "#### 조카는 아직 \"aya\", \"ye\", \"woo\", \"ma\" 네 가지 발음과 네 가지 발음을 조합해서 만들 수 있는 발음밖에 하지 못하고 연속해서 같은 발음을 하는 것을 어려워합니다. \n",
    "#### 문자열 배열 babbling이 매개변수로 주어질 때, 머쓱이의 조카가 발음할 수 있는 단어의 개수를 return하도록 solution 함수를 완성해주세요.\n",
    "\n",
    "## 제한사항\n",
    "#### 1 ≤ babbling의 길이 ≤ 100\n",
    "#### 1 ≤ babbling[i]의 길이 ≤ 30\n",
    "#### 문자열은 알파벳 소문자로만 이루어져 있습니다.\n",
    "\n",
    "### 입출력 예\n",
    "#### babbling\tresult\n",
    "#### [\"aya\", \"yee\", \"u\", \"maa\"]\t1\n",
    "#### [\"ayaye\", \"uuu\", \"yeye\", \"yemawoo\", \"ayaayaa\"]\t2\n",
    "\n",
    "## 입출력 예 설명\n",
    "### 입출력 예 #1\n",
    "#### [\"aya\", \"yee\", \"u\", \"maa\"]에서 발음할 수 있는 것은 \"aya\"뿐입니다. 따라서 1을 return합니다.\n",
    "\n",
    "### 입출력 예 #2\n",
    "#### [\"ayaye\", \"uuuma\", \"yeye\", \"yemawoo\", \"ayaayaa\"]에서 발음할 수 있는 것은 \"aya\" + \"ye\" = \"ayaye\", \"ye\" + \"ma\" + \"woo\" = \"yemawoo\"로 2개입니다. \n",
    "#### \"yeye\"는 같은 발음이 연속되므로 발음할 수 없습니다. 따라서 2를 return합니다.\n",
    "\n",
    "## 유의사항\n",
    "#### 네 가지를 붙여 만들 수 있는 발음 이외에는 어떤 발음도 할 수 없는 것으로 규정합니다. \n",
    "#### 예를 들어 \"woowo\"는 \"woo\"는 발음할 수 있지만 \"wo\"를 발음할 수 없기 때문에 할 수 없는 발음입니다."
   ]
  },
  {
   "cell_type": "code",
   "execution_count": null,
   "id": "8eb2a17e",
   "metadata": {},
   "outputs": [],
   "source": []
  },
  {
   "cell_type": "markdown",
   "id": "ca2b6998",
   "metadata": {},
   "source": [
    "## 내가 푼 풀이"
   ]
  },
  {
   "cell_type": "code",
   "execution_count": 1,
   "id": "9a5c1763",
   "metadata": {},
   "outputs": [
    {
     "name": "stdout",
     "output_type": "stream",
     "text": [
      "1\n",
      "2\n"
     ]
    }
   ],
   "source": [
    "def solution(babbling):\n",
    "    a = [\"aya\", \"ye\", \"woo\", \"ma\"]\n",
    "    answer = 0\n",
    "    for i in range(len(babbling)) :\n",
    "        for j in range(len(a)) :\n",
    "            if a[j] + a[j] in babbling[i] : # 같은 발음이 연속으로 발음할 수 없음\n",
    "                continue\n",
    "            if a[j] in babbling[i] : # 발음할 수 있는 단어가 babbling안에 있으면\n",
    "                babbling[i] = babbling[i].replace(a[j], '1') # 1로 변경 (단어를 지우면 새로운 단어가 생성될 수 있음 ex) myea -> 'ye'지움)\n",
    "    for i in babbling : \n",
    "        if i.isdigit() : # i 안에 숫자만 있으면 answer에 +1 \n",
    "            answer += 1  # isdigit() 문자열안에 숫자만 있으면 True 반환\n",
    "    return answer\n",
    "\n",
    "print(solution([\"aya\", \"yee\", \"u\", \"maa\"]))\n",
    "print(solution([\"ayaye\", \"uuu\", \"yeye\", \"yemawoo\", \"ayaayaa\"]))"
   ]
  },
  {
   "cell_type": "code",
   "execution_count": null,
   "id": "8a4f6ca8",
   "metadata": {},
   "outputs": [],
   "source": []
  },
  {
   "cell_type": "markdown",
   "id": "dda05f1c",
   "metadata": {},
   "source": [
    "## 다른 사람 풀이"
   ]
  },
  {
   "cell_type": "code",
   "execution_count": 2,
   "id": "2e092454",
   "metadata": {},
   "outputs": [
    {
     "name": "stdout",
     "output_type": "stream",
     "text": [
      "1\n",
      "2\n"
     ]
    }
   ],
   "source": [
    "def solution(babbling):\n",
    "    answer = 0\n",
    "    for i in babbling:\n",
    "        for j in ['aya','ye','woo','ma']:\n",
    "            if j*2 not in i:\n",
    "                i=i.replace(j,' ')\n",
    "        if len(i.strip())==0:\n",
    "            answer +=1\n",
    "    return answer\n",
    "print(solution([\"aya\", \"yee\", \"u\", \"maa\"]))\n",
    "print(solution([\"ayaye\", \"uuu\", \"yeye\", \"yemawoo\", \"ayaayaa\"]))"
   ]
  },
  {
   "cell_type": "code",
   "execution_count": null,
   "id": "a179ae36",
   "metadata": {},
   "outputs": [],
   "source": []
  },
  {
   "cell_type": "code",
   "execution_count": 3,
   "id": "80e57849",
   "metadata": {},
   "outputs": [
    {
     "name": "stdout",
     "output_type": "stream",
     "text": [
      "1\n",
      "2\n"
     ]
    }
   ],
   "source": [
    "def solution(babbling):\n",
    "    n = [\"aya\", \"ye\", \"woo\", \"ma\"]\n",
    "    for k, i in enumerate(babbling):\n",
    "        for j in n:\n",
    "            if j*2 in i:break\n",
    "            babbling[k]=babbling[k].replace(j, \" \")\n",
    "        babbling[k]=babbling[k].replace(\" \", \"\")\n",
    "    return babbling.count(\"\")\n",
    "print(solution([\"aya\", \"yee\", \"u\", \"maa\"]))\n",
    "print(solution([\"ayaye\", \"uuu\", \"yeye\", \"yemawoo\", \"ayaayaa\"]))"
   ]
  },
  {
   "cell_type": "code",
   "execution_count": null,
   "id": "856b4e0d",
   "metadata": {},
   "outputs": [],
   "source": []
  }
 ],
 "metadata": {
  "kernelspec": {
   "display_name": "Python 3 (ipykernel)",
   "language": "python",
   "name": "python3"
  },
  "language_info": {
   "codemirror_mode": {
    "name": "ipython",
    "version": 3
   },
   "file_extension": ".py",
   "mimetype": "text/x-python",
   "name": "python",
   "nbconvert_exporter": "python",
   "pygments_lexer": "ipython3",
   "version": "3.9.12"
  }
 },
 "nbformat": 4,
 "nbformat_minor": 5
}
