{
 "cells": [
  {
   "cell_type": "markdown",
   "id": "20546a2f",
   "metadata": {},
   "source": [
    "## 단어 s의 가운데 글자를 반환하는 함수, solution을 만들어 보세요. 단어의 길이가 짝수라면 가운데 두글자를 반환하면 됩니다.\n",
    "\n",
    "## 재한사항\n",
    "### s는 길이가 1 이상, 100이하인 스트링입니다.\n",
    "### 입출력 예\n",
    "#### s\treturn\n",
    "#### \"abcde\"\t\"c\"\n",
    "#### \"qwer\"\t\"we\""
   ]
  },
  {
   "cell_type": "code",
   "execution_count": null,
   "id": "edf27dff",
   "metadata": {},
   "outputs": [],
   "source": []
  },
  {
   "cell_type": "markdown",
   "id": "4895f02f",
   "metadata": {},
   "source": [
    "## 내가 푼 풀이"
   ]
  },
  {
   "cell_type": "code",
   "execution_count": 1,
   "id": "491cd680",
   "metadata": {},
   "outputs": [
    {
     "name": "stdout",
     "output_type": "stream",
     "text": [
      "sd\n"
     ]
    }
   ],
   "source": [
    "def solution(s):\n",
    "    if len(s) % 2 == 1 :\n",
    "        answer = s[len(s) // 2]\n",
    "    else :\n",
    "        answer = s[len(s) // 2 - 1 : len(s) // 2 + 1]\n",
    "    return answer\n",
    "\n",
    "print(solution('asdf'))"
   ]
  },
  {
   "cell_type": "code",
   "execution_count": null,
   "id": "c129ead3",
   "metadata": {},
   "outputs": [],
   "source": []
  },
  {
   "cell_type": "markdown",
   "id": "e215d09c",
   "metadata": {},
   "source": [
    "## 다른 사람 풀이"
   ]
  },
  {
   "cell_type": "code",
   "execution_count": 2,
   "id": "c9150f55",
   "metadata": {},
   "outputs": [
    {
     "name": "stdout",
     "output_type": "stream",
     "text": [
      "w\n",
      "df\n"
     ]
    }
   ],
   "source": [
    "def string_middle(str):\n",
    "    return str[(len(str)-1)//2:len(str)//2+1]\n",
    "\n",
    "print(string_middle(\"power\"))\n",
    "print(string_middle(\"asdfgh\"))"
   ]
  },
  {
   "cell_type": "code",
   "execution_count": null,
   "id": "c59ba431",
   "metadata": {},
   "outputs": [],
   "source": []
  },
  {
   "cell_type": "code",
   "execution_count": 3,
   "id": "fe519451",
   "metadata": {},
   "outputs": [
    {
     "name": "stdout",
     "output_type": "stream",
     "text": [
      "w\n"
     ]
    }
   ],
   "source": [
    "def string_middle(str):\n",
    "    a = len(str)\n",
    "    if a % 2 == 0 :\n",
    "        a = (a-2) / 2\n",
    "    else :\n",
    "        a = (a-1) / 2\n",
    "    return str[int(a) : -int(a)]\n",
    "print(string_middle(\"power\"))"
   ]
  }
 ],
 "metadata": {
  "kernelspec": {
   "display_name": "Python 3 (ipykernel)",
   "language": "python",
   "name": "python3"
  },
  "language_info": {
   "codemirror_mode": {
    "name": "ipython",
    "version": 3
   },
   "file_extension": ".py",
   "mimetype": "text/x-python",
   "name": "python",
   "nbconvert_exporter": "python",
   "pygments_lexer": "ipython3",
   "version": "3.9.12"
  }
 },
 "nbformat": 4,
 "nbformat_minor": 5
}
