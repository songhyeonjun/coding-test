{
 "cells": [
  {
   "cell_type": "markdown",
   "id": "905b5620",
   "metadata": {},
   "source": [
    "## 문제 설명\n",
    "#### 주어진 숫자 중 3개의 수를 더했을 때 소수가 되는 경우의 개수를 구하려고 합니다. \n",
    "#### 숫자들이 들어있는 배열 nums가 매개변수로 주어질 때, \n",
    "#### nums에 있는 숫자들 중 서로 다른 3개를 골라 더했을 때 소수가 되는 경우의 개수를 return 하도록 solution 함수를 완성해주세요.\n",
    "\n",
    "## 제한사항\n",
    "#### nums에 들어있는 숫자의 개수는 3개 이상 50개 이하입니다.\n",
    "#### nums의 각 원소는 1 이상 1,000 이하의 자연수이며, 중복된 숫자가 들어있지 않습니다.\n",
    "\n",
    "### 입출력 예\n",
    "#### nums\tresult\n",
    "#### [1,2,3,4]\t1\n",
    "#### [1,2,7,6,4]\t4\n",
    "\n",
    "## 입출력 예 설명\n",
    "### 입출력 예 #1\n",
    "#### [1,2,4]를 이용해서 7을 만들 수 있습니다.\n",
    "\n",
    "### 입출력 예 #2\n",
    "### [1,2,4]를 이용해서 7을 만들 수 있습니다.\n",
    "#### [1,4,6]을 이용해서 11을 만들 수 있습니다.\n",
    "#### [2,4,7]을 이용해서 13을 만들 수 있습니다.\n",
    "#### [4,6,7]을 이용해서 17을 만들 수 있습니다."
   ]
  },
  {
   "cell_type": "code",
   "execution_count": null,
   "id": "1ae6f0c8",
   "metadata": {},
   "outputs": [],
   "source": []
  },
  {
   "cell_type": "markdown",
   "id": "927d53a6",
   "metadata": {},
   "source": [
    "## 내가 푼 풀이"
   ]
  },
  {
   "cell_type": "code",
   "execution_count": 1,
   "id": "d6acc276",
   "metadata": {},
   "outputs": [
    {
     "name": "stdout",
     "output_type": "stream",
     "text": [
      "4\n"
     ]
    }
   ],
   "source": [
    "def solution(nums):\n",
    "    answer = 0\n",
    "    sum = []\n",
    "    for i in range(len(nums)) :\n",
    "        for j in range(i+1, len(nums)) :\n",
    "            for n in range(j+1, len(nums)) :\n",
    "                sum.append((nums[i] + nums[j] + nums[n]))\n",
    "\n",
    "    for k in sum :\n",
    "        a = []\n",
    "        for i in range(2, k+1) :\n",
    "            if k % i == 0 :\n",
    "                a.append(k)\n",
    "        if len(a) == 1 :\n",
    "            answer +=1\n",
    "    return answer\n",
    "\n",
    "\n",
    "\n",
    "print(solution([1,2,7,6,4]))"
   ]
  },
  {
   "cell_type": "code",
   "execution_count": null,
   "id": "aa88fafa",
   "metadata": {},
   "outputs": [],
   "source": []
  },
  {
   "cell_type": "markdown",
   "id": "50576d50",
   "metadata": {},
   "source": [
    "## 다른 사람 풀이"
   ]
  },
  {
   "cell_type": "markdown",
   "id": "f33da13f",
   "metadata": {},
   "source": [
    "### cominations 함수 이용"
   ]
  },
  {
   "cell_type": "code",
   "execution_count": 6,
   "id": "59063a0a",
   "metadata": {},
   "outputs": [
    {
     "name": "stdout",
     "output_type": "stream",
     "text": [
      "4\n"
     ]
    }
   ],
   "source": [
    "def solution(nums):\n",
    "    from itertools import combinations as cb\n",
    "    answer = 0\n",
    "    for a in cb(nums, 3): # 3개의 모든 조합 구하기\n",
    "        cand = sum(a)\n",
    "        for j in range(2, cand):\n",
    "            if cand%j==0:\n",
    "                break\n",
    "        else:\n",
    "            answer += 1\n",
    "    return answer\n",
    "print(solution([1,2,7,6,4]))"
   ]
  },
  {
   "cell_type": "code",
   "execution_count": null,
   "id": "7f28db1d",
   "metadata": {},
   "outputs": [],
   "source": []
  }
 ],
 "metadata": {
  "kernelspec": {
   "display_name": "Python 3 (ipykernel)",
   "language": "python",
   "name": "python3"
  },
  "language_info": {
   "codemirror_mode": {
    "name": "ipython",
    "version": 3
   },
   "file_extension": ".py",
   "mimetype": "text/x-python",
   "name": "python",
   "nbconvert_exporter": "python",
   "pygments_lexer": "ipython3",
   "version": "3.9.12"
  }
 },
 "nbformat": 4,
 "nbformat_minor": 5
}
