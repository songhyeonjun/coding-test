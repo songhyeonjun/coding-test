{
 "cells": [
  {
   "cell_type": "markdown",
   "id": "03ac497d",
   "metadata": {},
   "source": [
    "## 문제 설명\n",
    "### 새로 생긴 놀이기구는 인기가 매우 많아 줄이 끊이질 않습니다. \n",
    "### 이 놀이기구의 원래 이용료는 price원 인데, 놀이기구를 N 번 째 이용한다면 원래 이용료의 N배를 받기로 하였습니다. \n",
    "### 즉, 처음 이용료가 100이었다면 2번째에는 200, 3번째에는 300으로 요금이 인상됩니다.\n",
    "### 놀이기구를 count번 타게 되면 현재 자신이 가지고 있는 금액에서 얼마가 모자라는지를 return 하도록 solution 함수를 완성하세요.\n",
    "### 단, 금액이 부족하지 않으면 0을 return 하세요.\n",
    "\n",
    "## 제한사항\n",
    "### 놀이기구의 이용료 price : 1 ≤ price ≤ 2,500, price는 자연수\n",
    "### 처음 가지고 있던 금액 money : 1 ≤ money ≤ 1,000,000,000, money는 자연수\n",
    "### 놀이기구의 이용 횟수 count : 1 ≤ count ≤ 2,500, count는 자연수\n",
    "\n",
    "</br>\n",
    "\n",
    "### 입출력 예\n",
    "#### price\tmoney\tcount\tresult\n",
    "#### 3\t20\t4\t10\n",
    "### 입출력 예 설명\n",
    "### 입출력 예 #1\n",
    "#### 이용금액이 3인 놀이기구를 4번 타고 싶은 고객이 현재 가진 금액이 20이라면, 총 필요한 놀이기구의 이용 금액은 30 (= 3+6+9+12) 이 되어 10만큼 부족하므로 10을 return 합니다."
   ]
  },
  {
   "cell_type": "code",
   "execution_count": null,
   "id": "c8a4222a",
   "metadata": {},
   "outputs": [],
   "source": []
  },
  {
   "cell_type": "markdown",
   "id": "ff98a99e",
   "metadata": {},
   "source": [
    "## 내가 푼 풀이"
   ]
  },
  {
   "cell_type": "code",
   "execution_count": 1,
   "id": "8a9e74e1",
   "metadata": {},
   "outputs": [
    {
     "name": "stdout",
     "output_type": "stream",
     "text": [
      "10\n"
     ]
    }
   ],
   "source": [
    "def solution(price, money, count):\n",
    "    result = 0\n",
    "    for i in range(count+1) :\n",
    "        result += price*i\n",
    "        \n",
    "    if result > money :\n",
    "        return result - money\n",
    "    else :\n",
    "        return 0\n",
    "\n",
    "print(solution(3, 20, 4))"
   ]
  },
  {
   "cell_type": "code",
   "execution_count": null,
   "id": "1332aabe",
   "metadata": {},
   "outputs": [],
   "source": []
  },
  {
   "cell_type": "markdown",
   "id": "eabf2e27",
   "metadata": {},
   "source": [
    "## 다른 사람 풀이"
   ]
  },
  {
   "cell_type": "markdown",
   "id": "ea21dbd0",
   "metadata": {},
   "source": [
    "### 산술평균이용"
   ]
  },
  {
   "cell_type": "code",
   "execution_count": 2,
   "id": "f740e72f",
   "metadata": {},
   "outputs": [
    {
     "name": "stdout",
     "output_type": "stream",
     "text": [
      "10\n"
     ]
    }
   ],
   "source": [
    "def solution(price, money, count):\n",
    "    return max(0,price*(count+1)*count//2-money)\n",
    "print(solution(3, 20, 4))"
   ]
  },
  {
   "cell_type": "code",
   "execution_count": null,
   "id": "5a78a8b0",
   "metadata": {},
   "outputs": [],
   "source": []
  },
  {
   "cell_type": "code",
   "execution_count": 3,
   "id": "15defb85",
   "metadata": {},
   "outputs": [
    {
     "name": "stdout",
     "output_type": "stream",
     "text": [
      "10\n"
     ]
    }
   ],
   "source": [
    "def solution(price, money, count):\n",
    "    return abs(min(money - sum([price*i for i in range(1,count+1)]),0))\n",
    "print(solution(3, 20, 4))"
   ]
  },
  {
   "cell_type": "code",
   "execution_count": null,
   "id": "91d1f1ac",
   "metadata": {},
   "outputs": [],
   "source": []
  }
 ],
 "metadata": {
  "kernelspec": {
   "display_name": "Python 3 (ipykernel)",
   "language": "python",
   "name": "python3"
  },
  "language_info": {
   "codemirror_mode": {
    "name": "ipython",
    "version": 3
   },
   "file_extension": ".py",
   "mimetype": "text/x-python",
   "name": "python",
   "nbconvert_exporter": "python",
   "pygments_lexer": "ipython3",
   "version": "3.9.12"
  }
 },
 "nbformat": 4,
 "nbformat_minor": 5
}
