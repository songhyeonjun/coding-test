{
 "cells": [
  {
   "cell_type": "markdown",
   "id": "dc8d4571",
   "metadata": {},
   "source": [
    "## 문제 설명\n",
    "#### 수포자는 수학을 포기한 사람의 준말입니다. \n",
    "####  수포자 삼인방은 모의고사에 수학 문제를 전부 찍으려 합니다. \n",
    "#### 수포자는 1번 문제부터 마지막 문제까지 다음과 같이 찍습니다.\n",
    "\n",
    "#### 1번 수포자가 찍는 방식: 1, 2, 3, 4, 5, 1, 2, 3, 4, 5, ...\n",
    "#### 2번 수포자가 찍는 방식: 2, 1, 2, 3, 2, 4, 2, 5, 2, 1, 2, 3, 2, 4, 2, 5, ...\n",
    "#### 3번 수포자가 찍는 방식: 3, 3, 1, 1, 2, 2, 4, 4, 5, 5, 3, 3, 1, 1, 2, 2, 4, 4, 5, 5, ...\n",
    "\n",
    "#### 1번 문제부터 마지막 문제까지의 정답이 순서대로 들은 배열 answers가 주어졌을 때, \n",
    "#### 가장 많은 문제를 맞힌 사람이 누구인지 배열에 담아 return 하도록 solution 함수를 작성해주세요.\n",
    "\n",
    "## 제한 조건\n",
    "#### 시험은 최대 10,000 문제로 구성되어있습니다.\n",
    "#### 문제의 정답은 1, 2, 3, 4, 5중 하나입니다.\n",
    "#### 가장 높은 점수를 받은 사람이 여럿일 경우, return하는 값을 오름차순 정렬해주세요.\n",
    "\n",
    "### 입출력 예\n",
    "#### answers\treturn\n",
    "#### [1,2,3,4,5]\t[1]\n",
    "#### [1,3,2,4,2]\t[1,2,3]\n",
    "\n",
    "## 출력 예 설명\n",
    "### 입출력 예 #1\n",
    "\n",
    "#### 수포자 1은 모든 문제를 맞혔습니다.\n",
    "#### 수포자 2는 모든 문제를 틀렸습니다.\n",
    "#### 수포자 3은 모든 문제를 틀렸습니다.\n",
    "#### 따라서 가장 문제를 많이 맞힌 사람은 수포자 1입니다.\n",
    "\n",
    "### 입출력 예 #2\n",
    "\n",
    "#### 모든 사람이 2문제씩을 맞췄습니다."
   ]
  },
  {
   "cell_type": "code",
   "execution_count": null,
   "id": "2b099c26",
   "metadata": {},
   "outputs": [],
   "source": []
  },
  {
   "cell_type": "markdown",
   "id": "598ec6c9",
   "metadata": {},
   "source": [
    "## 풀이"
   ]
  },
  {
   "cell_type": "markdown",
   "id": "8e12ba23",
   "metadata": {},
   "source": [
    "### enumerate를 이용해 j 값과 찍은 숫자가 같은 경우 맞춘 횟수를 올려준다.\n",
    "\n",
    "### enumerate를 이용해 가장 많이 맞춘 횟수의 값들을 리스트에 넣어준다."
   ]
  },
  {
   "cell_type": "code",
   "execution_count": 13,
   "id": "e5b50882",
   "metadata": {},
   "outputs": [
    {
     "name": "stdout",
     "output_type": "stream",
     "text": [
      "[1]\n"
     ]
    }
   ],
   "source": [
    "def solution(answers):\n",
    "    supo1 = [1,2,3,4,5]\n",
    "    supo2 = [2,1,2,3,2,4,2,5]\n",
    "    supo3 = [3,3,1,1,2,2,4,4,5,5]\n",
    "    score = [0, 0, 0]\n",
    "    result = []\n",
    "\n",
    "    for i, j in enumerate(answers):\n",
    "        # print(j, supo1[i%len(supo1)])\n",
    "        # print(j, supo2[i%len(supo2)])\n",
    "        # print(j, supo3[i%len(supo3)])\n",
    "        \n",
    "        if j == supo1[i%len(supo1)]:\n",
    "            score[0] += 1\n",
    "        if j == supo2[i%len(supo2)]:\n",
    "            score[1] += 1\n",
    "        if j == supo3[i%len(supo3)]:\n",
    "            score[2] += 1\n",
    "\n",
    "    for i, s in enumerate(score):\n",
    "        if s == max(score):\n",
    "            result.append(i+1)\n",
    "\n",
    "    return result\n",
    "\n",
    "print(solution([1,2,3,4,5]))\n"
   ]
  },
  {
   "cell_type": "code",
   "execution_count": null,
   "id": "8b2cb3b4",
   "metadata": {},
   "outputs": [],
   "source": []
  },
  {
   "cell_type": "code",
   "execution_count": 7,
   "id": "6b40ccf1",
   "metadata": {},
   "outputs": [
    {
     "name": "stdout",
     "output_type": "stream",
     "text": [
      "[1]\n"
     ]
    }
   ],
   "source": [
    "def solution(answers):\n",
    "    p = [[1, 2, 3, 4, 5],\n",
    "         [2, 1, 2, 3, 2, 4, 2, 5],\n",
    "         [3, 3, 1, 1, 2, 2, 4, 4, 5, 5]]\n",
    "    s = [0] * len(p)\n",
    "\n",
    "    for q, a in enumerate(answers):\n",
    "        for i, v in enumerate(p):\n",
    "            if a == v[q % len(v)]:\n",
    "                s[i] += 1\n",
    "    return [i + 1 for i, v in enumerate(s) if v == max(s)]\n",
    "print(solution([1,2,3,4,5]))"
   ]
  },
  {
   "cell_type": "code",
   "execution_count": null,
   "id": "06e1386a",
   "metadata": {},
   "outputs": [],
   "source": []
  }
 ],
 "metadata": {
  "kernelspec": {
   "display_name": "Python 3 (ipykernel)",
   "language": "python",
   "name": "python3"
  },
  "language_info": {
   "codemirror_mode": {
    "name": "ipython",
    "version": 3
   },
   "file_extension": ".py",
   "mimetype": "text/x-python",
   "name": "python",
   "nbconvert_exporter": "python",
   "pygments_lexer": "ipython3",
   "version": "3.9.12"
  }
 },
 "nbformat": 4,
 "nbformat_minor": 5
}
