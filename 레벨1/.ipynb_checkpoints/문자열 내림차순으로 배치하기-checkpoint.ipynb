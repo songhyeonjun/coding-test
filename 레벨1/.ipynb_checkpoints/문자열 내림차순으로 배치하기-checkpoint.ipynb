{
 "cells": [
  {
   "cell_type": "markdown",
   "id": "58cc0725",
   "metadata": {},
   "source": [
    "## 문제 설명\n",
    "### 문자열 s에 나타나는 문자를 큰것부터 작은 순으로 정렬해 새로운 문자열을 리턴하는 함수, solution을 완성해주세요.\n",
    "### s는 영문 대소문자로만 구성되어 있으며, 대문자는 소문자보다 작은 것으로 간주합니다.\n",
    "\n",
    "## 제한 사항\n",
    "### str은 길이 1 이상인 문자열입니다.\n",
    "### 입출력 예\n",
    "### s\treturn\n",
    "#### \"Zbcdefg\"\t\"gfedcbZ\""
   ]
  },
  {
   "cell_type": "code",
   "execution_count": null,
   "id": "ca535cf3",
   "metadata": {},
   "outputs": [],
   "source": []
  },
  {
   "cell_type": "markdown",
   "id": "69f8718f",
   "metadata": {},
   "source": [
    "## 내가 푼 풀이"
   ]
  },
  {
   "cell_type": "code",
   "execution_count": 1,
   "id": "cbc96b39",
   "metadata": {},
   "outputs": [
    {
     "name": "stdout",
     "output_type": "stream",
     "text": [
      "gfedcbZ\n"
     ]
    }
   ],
   "source": [
    "def solution(s):\n",
    "    n = ''\n",
    "    answer = list(s)\n",
    "    answer.sort(reverse = True)\n",
    "    for i in answer :\n",
    "      n += i\n",
    "    return n\n",
    "print(solution('Zbcdefg'))"
   ]
  },
  {
   "cell_type": "code",
   "execution_count": null,
   "id": "dac278ab",
   "metadata": {},
   "outputs": [],
   "source": []
  },
  {
   "cell_type": "markdown",
   "id": "3ccbc633",
   "metadata": {},
   "source": [
    "## 다른 사람 풀이"
   ]
  },
  {
   "cell_type": "code",
   "execution_count": 3,
   "id": "7e669623",
   "metadata": {},
   "outputs": [
    {
     "name": "stdout",
     "output_type": "stream",
     "text": [
      "gfedcbZ\n"
     ]
    }
   ],
   "source": [
    "def solution(s):\n",
    "    return ''.join(sorted(s, reverse=True))\n",
    "\n",
    "print(solution('Zbcdefg'))"
   ]
  },
  {
   "cell_type": "code",
   "execution_count": null,
   "id": "6850163f",
   "metadata": {},
   "outputs": [],
   "source": []
  },
  {
   "cell_type": "code",
   "execution_count": 5,
   "id": "4e4bff5b",
   "metadata": {},
   "outputs": [
    {
     "name": "stdout",
     "output_type": "stream",
     "text": [
      "gfedcbZ\n"
     ]
    }
   ],
   "source": [
    "def solution(s):\n",
    "    s = list(s)\n",
    "    s.sort(reverse = True)\n",
    "    answer = \"\"\n",
    "    for i in s:\n",
    "        answer = answer + i\n",
    "    return answer\n",
    "\n",
    "print(solution('Zbcdefg'))"
   ]
  }
 ],
 "metadata": {
  "kernelspec": {
   "display_name": "Python 3 (ipykernel)",
   "language": "python",
   "name": "python3"
  },
  "language_info": {
   "codemirror_mode": {
    "name": "ipython",
    "version": 3
   },
   "file_extension": ".py",
   "mimetype": "text/x-python",
   "name": "python",
   "nbconvert_exporter": "python",
   "pygments_lexer": "ipython3",
   "version": "3.9.12"
  }
 },
 "nbformat": 4,
 "nbformat_minor": 5
}
