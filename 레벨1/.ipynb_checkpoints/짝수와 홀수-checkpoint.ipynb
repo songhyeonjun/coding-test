{
 "cells": [
  {
   "cell_type": "markdown",
   "id": "f8c100fd",
   "metadata": {},
   "source": [
    "## 문제 설명\n",
    " - 정수 num이 짝수일 경우 \"Even\"을 반환하고 홀수인 경우 \"Odd\"를 반환하는 함수, solution을 완성해주세요.\n",
    "\n",
    "## 제한 조건\n",
    " - num은 int 범위의 정수입니다.\n",
    " - 0은 짝수입니다.\n",
    "\n",
    "## 입출력 예\n",
    "\n",
    "|num|return|\n",
    "|----|---|\n",
    "|3|\"Odd\"|\t\n",
    "|4|\"Even\"|\n",
    "\n"
   ]
  },
  {
   "cell_type": "markdown",
   "id": "f2e3f639",
   "metadata": {},
   "source": [
    "## 내가 한 풀이"
   ]
  },
  {
   "cell_type": "code",
   "execution_count": 2,
   "id": "563d3f5f",
   "metadata": {},
   "outputs": [
    {
     "name": "stdout",
     "output_type": "stream",
     "text": [
      "Odd\n",
      "Even\n"
     ]
    }
   ],
   "source": [
    "def solution(num):\n",
    "    if num % 2 == 0 :\n",
    "        answer = 'Even'\n",
    "    else :\n",
    "        answer = 'Odd'    \n",
    "    return answer\n",
    "\n",
    "print(solution(3))\n",
    "print(solution(4))"
   ]
  },
  {
   "cell_type": "markdown",
   "id": "0a220425",
   "metadata": {},
   "source": []
  },
  {
   "cell_type": "markdown",
   "id": "6a5cfb02",
   "metadata": {},
   "source": [
    "## 다른 사람 풀이\n",
    "\n",
    "### num % 2가 거짓(0)이라면 num % 2 ==0 (거짓) and Odd 가 되므로, </br>둘 다 참이어야하는 조건에 맞지 않기 때문에 or Even으로 해서 둘 중에 하나라도 참일 때 가능한 Even이 출력되며 ,</br> num%2가 1(참)이면 and 조건이 성립되어 Odd가 출력"
   ]
  },
  {
   "cell_type": "code",
   "execution_count": 3,
   "id": "81a6bfc1",
   "metadata": {},
   "outputs": [
    {
     "name": "stdout",
     "output_type": "stream",
     "text": [
      "결과 : Odd\n",
      "결과 : Even\n"
     ]
    }
   ],
   "source": [
    "def evenOrOdd(num):\n",
    "    if (num%2):\n",
    "        return \"Odd\"\n",
    "    else:\n",
    "        return \"Even\"\n",
    "\n",
    "print(\"결과 : \" + evenOrOdd(3))\n",
    "print(\"결과 : \" + evenOrOdd(2))"
   ]
  },
  {
   "cell_type": "code",
   "execution_count": null,
   "id": "42591d09",
   "metadata": {},
   "outputs": [],
   "source": []
  },
  {
   "cell_type": "markdown",
   "id": "16a749ed",
   "metadata": {},
   "source": [
    "### & 연산자로 비트 연산한 후 그 수가 [\"Even\", \"Odd\"] 배열의 인덱스가 됨"
   ]
  },
  {
   "cell_type": "code",
   "execution_count": 4,
   "id": "5846aee7",
   "metadata": {},
   "outputs": [
    {
     "name": "stdout",
     "output_type": "stream",
     "text": [
      "결과 : Odd\n",
      "결과 : Even\n"
     ]
    }
   ],
   "source": [
    "def evenOrOdd(num):\n",
    "    return [\"Even\", \"Odd\"][num & 1]\n",
    "\n",
    "#아래는 테스트로 출력해 보기 위한 코드입니다.\n",
    "print(\"결과 : \" + evenOrOdd(3))\n",
    "print(\"결과 : \" + evenOrOdd(2))"
   ]
  },
  {
   "cell_type": "code",
   "execution_count": null,
   "id": "a8fc91f6",
   "metadata": {},
   "outputs": [],
   "source": []
  }
 ],
 "metadata": {
  "kernelspec": {
   "display_name": "Python 3 (ipykernel)",
   "language": "python",
   "name": "python3"
  },
  "language_info": {
   "codemirror_mode": {
    "name": "ipython",
    "version": 3
   },
   "file_extension": ".py",
   "mimetype": "text/x-python",
   "name": "python",
   "nbconvert_exporter": "python",
   "pygments_lexer": "ipython3",
   "version": "3.9.12"
  }
 },
 "nbformat": 4,
 "nbformat_minor": 5
}
