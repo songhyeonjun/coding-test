{
 "cells": [
  {
   "cell_type": "markdown",
   "id": "334c1766",
   "metadata": {},
   "source": [
    "##문제 설명\n",
    "#### 어떤 문장의 각 알파벳을 일정한 거리만큼 밀어서 다른 알파벳으로 바꾸는 암호화 방식을 시저 암호라고 합니다. \n",
    "#### 예를 들어 \"AB\"는 1만큼 밀면 \"BC\"가 되고, 3만큼 밀면 \"DE\"가 됩니다. \"z\"는 1만큼 밀면 \"a\"가 됩니다. \n",
    "#### 문자열 s와 거리 n을 입력받아 s를 n만큼 민 암호문을 만드는 함수, solution을 완성해 보세요.\n",
    "\n",
    "## 제한 조건\n",
    "#### 공백은 아무리 밀어도 공백입니다.\n",
    "#### s는 알파벳 소문자, 대문자, 공백으로만 이루어져 있습니다.\n",
    "#### s의 길이는 8000이하입니다.\n",
    "#### n은 1 이상, 25이하인 자연수입니다.\n",
    "### 입출력 예\n",
    "#### s\tn\tresult\n",
    "#### \"AB\"\t1\t\"BC\"\n",
    "#### \"z\"\t1\t\"a\"\n",
    "#### \"a B z\"\t4\t\"e F d\""
   ]
  },
  {
   "cell_type": "code",
   "execution_count": null,
   "id": "230e61cb",
   "metadata": {},
   "outputs": [],
   "source": []
  },
  {
   "cell_type": "code",
   "execution_count": 1,
   "id": "c5aea1bd",
   "metadata": {},
   "outputs": [
    {
     "name": "stdout",
     "output_type": "stream",
     "text": [
      "BC\n",
      "a\n",
      "e F d\n"
     ]
    }
   ],
   "source": [
    "def solution(s, n):\n",
    "    s = list(s)\n",
    "    for i in range(len(s)):\n",
    "        if s[i].isupper(): # 만약 값이 대문자면\n",
    "            s[i] = chr((ord(s[i]) - ord('A') + n) % 26 + ord('A')) # chr() : 문자로 변환,  ord() : 아스키코드로 변환\n",
    "        elif s[i].islower():                       #  s[i]번째 값을 아스키코드로 변환 후 아스키 코드 대문자 A값과 빼고 n을 더한다\n",
    "                                                    #  그 값을 26과 나눠 나머지 값을 대문자 A의 아스키코드와 더한다\n",
    "            s[i] = chr((ord(s[i]) - ord('a') + n) % 26 + ord('a'))\n",
    "\n",
    "    return \"\".join(s)\n",
    "\n",
    "print(solution(\"AB\", 1))\n",
    "print(solution(\"z\", 1))\n",
    "print(solution(\"a B z\", 4))"
   ]
  },
  {
   "cell_type": "code",
   "execution_count": null,
   "id": "910af8e7",
   "metadata": {},
   "outputs": [],
   "source": []
  },
  {
   "cell_type": "markdown",
   "id": "ccdc284f",
   "metadata": {},
   "source": [
    "### ord(), chr() 함수를 사용하지 않고"
   ]
  },
  {
   "cell_type": "code",
   "execution_count": 3,
   "id": "00973e86",
   "metadata": {},
   "outputs": [
    {
     "name": "stdout",
     "output_type": "stream",
     "text": [
      "BC\n",
      "a\n",
      "e F d\n"
     ]
    },
    {
     "name": "stderr",
     "output_type": "stream",
     "text": [
      "<>:8: SyntaxWarning: \"is\" with a literal. Did you mean \"==\"?\n",
      "<>:8: SyntaxWarning: \"is\" with a literal. Did you mean \"==\"?\n",
      "C:\\Users\\user\\AppData\\Local\\Temp\\ipykernel_8148\\35404028.py:8: SyntaxWarning: \"is\" with a literal. Did you mean \"==\"?\n",
      "  if i is \" \":\n"
     ]
    }
   ],
   "source": [
    "def caesar(s, n):\n",
    "    lower_list = \"abcdefghijklmnopqrstuvwxyz\"\n",
    "    upper_list = \"ABCDEFGHIJKLMNOPQRSTUVWXYZ\"\n",
    "\n",
    "    result = []\n",
    "\n",
    "    for i in s:\n",
    "        if i is \" \":\n",
    "            result.append(\" \")\n",
    "        elif i.islower() is True:\n",
    "            new_ = lower_list.find(i) + n\n",
    "            result.append(lower_list[new_ % 26])\n",
    "        else:\n",
    "            new_ = upper_list.find(i) + n\n",
    "            result.append(upper_list[new_ % 26])\n",
    "    return \"\".join(result)\n",
    "print(solution(\"AB\", 1))\n",
    "print(solution(\"z\", 1))\n",
    "print(solution(\"a B z\", 4))"
   ]
  },
  {
   "cell_type": "code",
   "execution_count": null,
   "id": "cdd74fa7",
   "metadata": {},
   "outputs": [],
   "source": []
  }
 ],
 "metadata": {
  "kernelspec": {
   "display_name": "Python 3 (ipykernel)",
   "language": "python",
   "name": "python3"
  },
  "language_info": {
   "codemirror_mode": {
    "name": "ipython",
    "version": 3
   },
   "file_extension": ".py",
   "mimetype": "text/x-python",
   "name": "python",
   "nbconvert_exporter": "python",
   "pygments_lexer": "ipython3",
   "version": "3.9.12"
  }
 },
 "nbformat": 4,
 "nbformat_minor": 5
}
