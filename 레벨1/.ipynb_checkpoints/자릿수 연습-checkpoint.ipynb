{
 "cells": [
  {
   "cell_type": "markdown",
   "id": "10a81b68",
   "metadata": {},
   "source": [
    "# 문제 설명\n",
    "### 자연수 N이 주어지면, N의 각 자릿수의 합을 구해서 return 하는 solution 함수를 만들어 주세요.\n",
    "### 예를들어 N = 123이면 1 + 2 + 3 = 6을 return 하면 됩니다.\n",
    "\n",
    "### 제한사항\n",
    "#### N의 범위 : 100,000,000 이하의 자연수"
   ]
  },
  {
   "cell_type": "markdown",
   "id": "a015dd57",
   "metadata": {},
   "source": [
    "### 입출력 예\n",
    "#### N\tanswer\n",
    "#### 123\t6\n",
    "#### 987\t24\n",
    "### 입출력 예 설명\n",
    "### 입출력 예 #1\n",
    "### 문제의 예시와 같습니다.\n",
    "\n",
    "### 입출력 예 #2\n",
    "#### 9 + 8 + 7 = 24이므로 24를 return 하면 됩니다."
   ]
  },
  {
   "cell_type": "markdown",
   "id": "690e7e95",
   "metadata": {},
   "source": [
    "## 내 풀이"
   ]
  },
  {
   "cell_type": "code",
   "execution_count": 1,
   "id": "8f3773a9",
   "metadata": {},
   "outputs": [
    {
     "name": "stdout",
     "output_type": "stream",
     "text": [
      "6\n"
     ]
    }
   ],
   "source": [
    "def solution(n):\n",
    "    answer = 0\n",
    "    while n > 0 :\n",
    "        answer += n % 10\n",
    "        n = n // 10\n",
    "    return answer\n",
    "\n",
    "print(solution(123))"
   ]
  },
  {
   "cell_type": "code",
   "execution_count": null,
   "id": "f217f340",
   "metadata": {},
   "outputs": [],
   "source": []
  },
  {
   "cell_type": "markdown",
   "id": "8a00898f",
   "metadata": {},
   "source": [
    "## 다른 사람 풀이"
   ]
  },
  {
   "cell_type": "markdown",
   "id": "cee0fdb5",
   "metadata": {},
   "source": [
    "### 재귀함수 이용"
   ]
  },
  {
   "cell_type": "code",
   "execution_count": 2,
   "id": "b5a4eaa0",
   "metadata": {},
   "outputs": [
    {
     "name": "stdout",
     "output_type": "stream",
     "text": [
      "결과 : 6\n"
     ]
    }
   ],
   "source": [
    "def sum_digit(number):\n",
    "    if number < 10:\n",
    "        return number;\n",
    "    return (number % 10) + sum_digit(number // 10) \n",
    "\n",
    "# 아래는 테스트로 출력해 보기 위한 코드입니다.\n",
    "print(\"결과 : {}\".format(sum_digit(123)));"
   ]
  },
  {
   "cell_type": "markdown",
   "id": "3e3bbec7",
   "metadata": {},
   "source": [
    "### list sum 사용"
   ]
  },
  {
   "cell_type": "code",
   "execution_count": 3,
   "id": "83a70988",
   "metadata": {},
   "outputs": [
    {
     "name": "stdout",
     "output_type": "stream",
     "text": [
      "결과 : 6\n"
     ]
    }
   ],
   "source": [
    "def sum_digit(number):\n",
    "    return sum([int(i) for i in str(number)])\n",
    "# 아래는 테스트로 출력해 보기 위한 코드입니다.\n",
    "print(\"결과 : {}\".format(sum_digit(123)));"
   ]
  },
  {
   "cell_type": "code",
   "execution_count": null,
   "id": "ead92e91",
   "metadata": {},
   "outputs": [],
   "source": []
  }
 ],
 "metadata": {
  "kernelspec": {
   "display_name": "Python 3 (ipykernel)",
   "language": "python",
   "name": "python3"
  },
  "language_info": {
   "codemirror_mode": {
    "name": "ipython",
    "version": 3
   },
   "file_extension": ".py",
   "mimetype": "text/x-python",
   "name": "python",
   "nbconvert_exporter": "python",
   "pygments_lexer": "ipython3",
   "version": "3.9.12"
  }
 },
 "nbformat": 4,
 "nbformat_minor": 5
}
