{
 "cells": [
  {
   "cell_type": "markdown",
   "id": "77c54cb1",
   "metadata": {},
   "source": [
    "## 문제 설명\n",
    "#### 문자열로 구성된 리스트 strings와, 정수 n이 주어졌을 때, 각 문자열의 인덱스 n번째 글자를 기준으로 오름차순 정렬하려 합니다. \n",
    "#### 예를 들어 strings가 [\"sun\", \"bed\", \"car\"]이고 n이 1이면 각 단어의 인덱스 1의 문자 \"u\", \"e\", \"a\"로 strings를 정렬합니다.\n",
    "\n",
    "## 제한 조건\n",
    "#### strings는 길이 1 이상, 50이하인 배열입니다.\n",
    "#### strings의 원소는 소문자 알파벳으로 이루어져 있습니다.\n",
    "#### strings의 원소는 길이 1 이상, 100이하인 문자열입니다.\n",
    "#### 모든 strings의 원소의 길이는 n보다 큽니다.\n",
    "#### 인덱스 1의 문자가 같은 문자열이 여럿 일 경우, 사전순으로 앞선 문자열이 앞쪽에 위치합니다.\n",
    "\n",
    "### 입출력 예\n",
    "#### strings\tn\treturn\n",
    "#### [\"sun\", \"bed\", \"car\"]\t1\t[\"car\", \"bed\", \"sun\"]\n",
    "#### [\"abce\", \"abcd\", \"cdx\"]\t2\t[\"abcd\", \"abce\", \"cdx\"]\n",
    "\n",
    "### 입출력 예 설명\n",
    "### 입출력 예 1\n",
    "#### \"sun\", \"bed\", \"car\"의 1번째 인덱스 값은 각각 \"u\", \"e\", \"a\" 입니다. 이를 기준으로 strings를 정렬하면 [\"car\", \"bed\", \"sun\"] 입니다.\n",
    "\n",
    "### 입출력 예 2\n",
    "#### \"abce\"와 \"abcd\", \"cdx\"의 2번째 인덱스 값은 \"c\", \"c\", \"x\"입니다. \n",
    "#### 따라서 정렬 후에는 \"cdx\"가 가장 뒤에 위치합니다. \n",
    "#### \"abce\"와 \"abcd\"는 사전순으로 정렬하면 \"abcd\"가 우선하므로, 답은 [\"abcd\", \"abce\", \"cdx\"] 입니다."
   ]
  },
  {
   "cell_type": "code",
   "execution_count": null,
   "id": "14bc6ba4",
   "metadata": {},
   "outputs": [],
   "source": []
  },
  {
   "cell_type": "markdown",
   "id": "ad516255",
   "metadata": {},
   "source": [
    "## 내가 푼 풀이"
   ]
  },
  {
   "cell_type": "code",
   "execution_count": 1,
   "id": "08be8a8e",
   "metadata": {},
   "outputs": [
    {
     "name": "stdout",
     "output_type": "stream",
     "text": [
      "['car', 'bed', 'sun']\n"
     ]
    }
   ],
   "source": [
    "def solution(strings, n):\n",
    "    answer = []\n",
    "    a = []\n",
    "    for i in strings :\n",
    "        a.append(i[n] + i)\n",
    "    for i in sorted(a) :\n",
    "        answer.append(i[1:])\n",
    "    return answer\n",
    "\n",
    "print(solution([\"sun\", \"bed\", \"car\"], 1))"
   ]
  },
  {
   "cell_type": "code",
   "execution_count": null,
   "id": "60903b16",
   "metadata": {},
   "outputs": [],
   "source": []
  },
  {
   "cell_type": "markdown",
   "id": "8fd6ebdc",
   "metadata": {},
   "source": [
    "## 다른 사람 풀이"
   ]
  },
  {
   "cell_type": "code",
   "execution_count": 2,
   "id": "ac4b9f22",
   "metadata": {},
   "outputs": [
    {
     "name": "stdout",
     "output_type": "stream",
     "text": [
      "['car', 'bed', 'sun']\n"
     ]
    }
   ],
   "source": [
    "def strange_sort(strings, n):\n",
    "    '''strings의 문자열들을 n번째 글자를 기준으로 정렬해서 return하세요'''\n",
    "    return sorted(strings, key=lambda x: x[n])\n",
    "\n",
    "strings = [\"sun\", \"bed\", \"car\"] \n",
    "print(strange_sort(strings, 1))"
   ]
  },
  {
   "cell_type": "code",
   "execution_count": null,
   "id": "e32d5dda",
   "metadata": {},
   "outputs": [],
   "source": []
  },
  {
   "cell_type": "code",
   "execution_count": 3,
   "id": "5570c45f",
   "metadata": {},
   "outputs": [
    {
     "name": "stdout",
     "output_type": "stream",
     "text": [
      "['car', 'bed', 'sun']\n"
     ]
    }
   ],
   "source": [
    "def strange_sort(strings, n):\n",
    "    def sortkey(x):\n",
    "        return x[n]\n",
    "    strings.sort(key=sortkey)\n",
    "    return strings\n",
    "\n",
    "# 아래는 테스트로 출력해 보기 위한 코드입니다.\n",
    "print( strange_sort([\"sun\", \"bed\", \"car\"], 1) )"
   ]
  },
  {
   "cell_type": "code",
   "execution_count": null,
   "id": "4457296b",
   "metadata": {},
   "outputs": [],
   "source": []
  }
 ],
 "metadata": {
  "kernelspec": {
   "display_name": "Python 3 (ipykernel)",
   "language": "python",
   "name": "python3"
  },
  "language_info": {
   "codemirror_mode": {
    "name": "ipython",
    "version": 3
   },
   "file_extension": ".py",
   "mimetype": "text/x-python",
   "name": "python",
   "nbconvert_exporter": "python",
   "pygments_lexer": "ipython3",
   "version": "3.9.12"
  }
 },
 "nbformat": 4,
 "nbformat_minor": 5
}
