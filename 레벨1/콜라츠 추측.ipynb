{
 "cells": [
  {
   "cell_type": "markdown",
   "id": "b97684d5",
   "metadata": {},
   "source": [
    "## 문제 설명\n",
    "### 1937년 Collatz란 사람에 의해 제기된 이 추측은, 주어진 수가 1이 될 때까지 다음 작업을 반복하면, 모든 수를 1로 만들 수 있다는 추측입니다. 작업은 다음과 같습니다.\n",
    "\n",
    "#### 1-1. 입력된 수가 짝수라면 2로 나눕니다. \n",
    "#### 1-2. 입력된 수가 홀수라면 3을 곱하고 1을 더합니다. \n",
    "#### 2. 결과로 나온 수에 같은 작업을 1이 될 때까지 반복합니다. \n",
    "#### 예를 들어, 주어진 수가 6이라면 6 → 3 → 10 → 5 → 16 → 8 → 4 → 2 → 1 이 되어 총 8번 만에 1이 됩니다. 위 작업을 몇 번이나 반복해야 하는지 반환하는 함수, solution을 완성해 주세요. 단, 주어진 수가 1인 경우에는 0을, 작업을 500번 반복할 때까지 1이 되지 않는다면 –1을 반환해 주세요.\n",
    "\n",
    "### 제한 사항\n",
    "#### 입력된 수, num은 1 이상 8,000,000 미만인 정수입니다.\n",
    "### 입출력 예\n",
    "#### n\tresult\n",
    "#### 6\t8\n",
    "#### 16\t4\n",
    "#### 626331\t-1\n",
    "\n",
    "### 입출력 예 설명\n",
    "### 입출력 예 #1\n",
    "#### 문제의 설명과 같습니다.\n",
    "\n",
    "### 입출력 예 #2\n",
    "#### 16 → 8 → 4 → 2 → 1 이 되어 총 4번 만에 1이 됩니다.\n",
    "\n",
    "### 입출력 예 #3\n",
    "#### 626331은 500번을 시도해도 1이 되지 못하므로 -1을 리턴해야 합니다."
   ]
  },
  {
   "cell_type": "code",
   "execution_count": null,
   "id": "df41e72f",
   "metadata": {},
   "outputs": [],
   "source": []
  },
  {
   "cell_type": "markdown",
   "id": "e6c00cee",
   "metadata": {},
   "source": [
    "## 내가 푼 풀이"
   ]
  },
  {
   "cell_type": "code",
   "execution_count": 1,
   "id": "dccff3da",
   "metadata": {},
   "outputs": [
    {
     "name": "stdout",
     "output_type": "stream",
     "text": [
      "0\n"
     ]
    }
   ],
   "source": [
    "def solution(num) :\n",
    "    if num == 1 :\n",
    "        return 0\n",
    "    for i in range(500) :\n",
    "        if num % 2 == 0 :\n",
    "            num = num / 2\n",
    "            if num == 1 :\n",
    "                break\n",
    "        else :\n",
    "            num = num * 3 + 1\n",
    "            if num == 1 :\n",
    "                break\n",
    "    if i >= 499 :\n",
    "        return -1\n",
    "    else :\n",
    "        return i + 1\n",
    "\n",
    "print(solution(1))"
   ]
  },
  {
   "cell_type": "code",
   "execution_count": null,
   "id": "f4d36b80",
   "metadata": {},
   "outputs": [],
   "source": []
  },
  {
   "cell_type": "markdown",
   "id": "f5275d81",
   "metadata": {},
   "source": [
    "## 다른 사람 풀이"
   ]
  },
  {
   "cell_type": "code",
   "execution_count": 3,
   "id": "d76c9222",
   "metadata": {},
   "outputs": [
    {
     "name": "stdout",
     "output_type": "stream",
     "text": [
      "0\n"
     ]
    }
   ],
   "source": [
    "def collatz(num):\n",
    "    if num == 1 :\n",
    "        return 0\n",
    "    for i in range(500):\n",
    "        num = num / 2 if num % 2 == 0 else num*3 + 1\n",
    "        if num == 1:\n",
    "            return i + 1\n",
    "    return -1\n",
    "\n",
    "# 아래는 테스트로 출력해 보기 위한 코드입니다.\n",
    "print(collatz(1))"
   ]
  },
  {
   "cell_type": "code",
   "execution_count": null,
   "id": "337f82df",
   "metadata": {},
   "outputs": [],
   "source": []
  },
  {
   "cell_type": "code",
   "execution_count": 5,
   "id": "363e567c",
   "metadata": {},
   "outputs": [
    {
     "name": "stdout",
     "output_type": "stream",
     "text": [
      "8\n"
     ]
    }
   ],
   "source": [
    "def collatz(num):\n",
    "    if num == 1 :\n",
    "        return 0 \n",
    "    answer = 0\n",
    "    while num!=1:\n",
    "        if num%2==0:\n",
    "            num=num/2\n",
    "        else:\n",
    "            num=3*num+1\n",
    "        answer=answer+1\n",
    "\n",
    "        if answer>=500:\n",
    "            return -1\n",
    "\n",
    "    return answer\n",
    "\n",
    "\n",
    "# 아래는 테스트로 출력해 보기 위한 코드입니다.\n",
    "print(collatz(6))"
   ]
  },
  {
   "cell_type": "code",
   "execution_count": null,
   "id": "8d62e9b6",
   "metadata": {},
   "outputs": [],
   "source": []
  }
 ],
 "metadata": {
  "kernelspec": {
   "display_name": "Python 3 (ipykernel)",
   "language": "python",
   "name": "python3"
  },
  "language_info": {
   "codemirror_mode": {
    "name": "ipython",
    "version": 3
   },
   "file_extension": ".py",
   "mimetype": "text/x-python",
   "name": "python",
   "nbconvert_exporter": "python",
   "pygments_lexer": "ipython3",
   "version": "3.9.12"
  }
 },
 "nbformat": 4,
 "nbformat_minor": 5
}
