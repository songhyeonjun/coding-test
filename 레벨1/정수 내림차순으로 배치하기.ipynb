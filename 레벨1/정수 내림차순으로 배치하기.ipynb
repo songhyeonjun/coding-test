{
 "cells": [
  {
   "cell_type": "markdown",
   "id": "17723a62",
   "metadata": {},
   "source": [
    "## 문제 설명\n",
    "### 함수 solution은 정수 n을 매개변수로 입력받습니다. n의 각 자릿수를 큰것부터 작은 순으로 정렬한 새로운 정수를 리턴해주세요. 예를들어 n이 118372면 873211을 리턴하면 됩니다.\n",
    "\n",
    "## 제한 조건\n",
    "### n은 1이상 8000000000 이하인 자연수입니다.\n",
    "### 입출력 예\n",
    "### n\treturn\n",
    "#### 118372\t873211"
   ]
  },
  {
   "cell_type": "code",
   "execution_count": null,
   "id": "021787ef",
   "metadata": {},
   "outputs": [],
   "source": []
  },
  {
   "cell_type": "markdown",
   "id": "0a63cac9",
   "metadata": {},
   "source": [
    "## 내가 푼 풀이"
   ]
  },
  {
   "cell_type": "code",
   "execution_count": 2,
   "id": "e0b57715",
   "metadata": {},
   "outputs": [
    {
     "name": "stdout",
     "output_type": "stream",
     "text": [
      "877531\n"
     ]
    }
   ],
   "source": [
    "def solution(n):\n",
    "    answer = \"\"\n",
    "    n_list = list(map(int, str(n)))\n",
    "    n_list.sort(reverse = True)\n",
    "    for i in n_list :\n",
    "        answer += str(i)\n",
    "    return int(answer)\n",
    "print(solution(371758))"
   ]
  },
  {
   "cell_type": "code",
   "execution_count": null,
   "id": "075b6168",
   "metadata": {},
   "outputs": [],
   "source": []
  },
  {
   "cell_type": "markdown",
   "id": "ddf2bba7",
   "metadata": {},
   "source": [
    "## 다른 사람 풀이"
   ]
  },
  {
   "cell_type": "code",
   "execution_count": 4,
   "id": "630f6076",
   "metadata": {},
   "outputs": [
    {
     "name": "stdout",
     "output_type": "stream",
     "text": [
      "654321\n"
     ]
    }
   ],
   "source": [
    "def solution(n):\n",
    "    ls = list(str(n))\n",
    "    ls.sort(reverse = True)\n",
    "    return int(\"\".join(ls))\n",
    "\n",
    "print(solution(123456))"
   ]
  },
  {
   "cell_type": "code",
   "execution_count": null,
   "id": "94e3c207",
   "metadata": {},
   "outputs": [],
   "source": []
  },
  {
   "cell_type": "code",
   "execution_count": 5,
   "id": "62a7823e",
   "metadata": {},
   "outputs": [
    {
     "name": "stdout",
     "output_type": "stream",
     "text": [
      "965521\n"
     ]
    }
   ],
   "source": [
    "def solution(n):\n",
    "    return int(\"\".join(sorted(list(str(n)), reverse=True)))\n",
    "print(solution(125965))"
   ]
  }
 ],
 "metadata": {
  "kernelspec": {
   "display_name": "Python 3 (ipykernel)",
   "language": "python",
   "name": "python3"
  },
  "language_info": {
   "codemirror_mode": {
    "name": "ipython",
    "version": 3
   },
   "file_extension": ".py",
   "mimetype": "text/x-python",
   "name": "python",
   "nbconvert_exporter": "python",
   "pygments_lexer": "ipython3",
   "version": "3.9.12"
  }
 },
 "nbformat": 4,
 "nbformat_minor": 5
}
