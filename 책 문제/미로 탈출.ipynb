{
 "cells": [
  {
   "cell_type": "markdown",
   "id": "3c0a7526",
   "metadata": {},
   "source": [
    "## 문제"
   ]
  },
  {
   "cell_type": "markdown",
   "id": "c2cb25f3",
   "metadata": {},
   "source": [
    "#### N x M 크기의 직사각형 형태의 미로에 여러 마리의 괴물이 있어 이를 피해 탈출해야 한다. \n",
    "#### 현재 위치는 (1, 1)이고 미로의 출구는 (N,M)의 위치에 존재하며 한 번에 한 칸씩 이동할 수 있다. \n",
    "#### 괴물이 있는 부분은 0으로, 괴물이 없는 부분은 1로 표시되어 있다. \n",
    "#### 미로는 반드시 탈출할 수 있는 형태로 제시된다. 탈출하기 위해 움직여야 하는 최소 칸의 개수를 구하라. \n",
    "#### 칸을 셀 때는 시작 칸과 마지막 칸을 모두 포함해서 계산한다."
   ]
  },
  {
   "cell_type": "markdown",
   "id": "1004a753",
   "metadata": {},
   "source": [
    "## 입력"
   ]
  },
  {
   "cell_type": "markdown",
   "id": "aeb6a51e",
   "metadata": {},
   "source": [
    "#### 첫째 줄에 두 정수 N, M (4<=N, M<=200)이 주어집니다. 다음 N개의 줄에는 각각 M개의 정수(0 혹은 1)로 미로의 정보가 주어진다. \n",
    "#### 각각의 수들은 공백 없이 붙어서 입력으로 제시된다. 또한 시작 칸과 마지막 칸은 항상 1이다."
   ]
  },
  {
   "cell_type": "markdown",
   "id": "a3678adf",
   "metadata": {},
   "source": [
    "## 출력"
   ]
  },
  {
   "cell_type": "markdown",
   "id": "7bc62a59",
   "metadata": {},
   "source": [
    "#### 첫째 줄에 최소 이동 칸의 개수를 출력한다."
   ]
  },
  {
   "cell_type": "markdown",
   "id": "2b38fd3a",
   "metadata": {},
   "source": [
    "## 입출력 예제"
   ]
  },
  {
   "cell_type": "markdown",
   "id": "c2ffdc1e",
   "metadata": {},
   "source": [
    "```python\n",
    "# 입력\n",
    "5 6\n",
    "101010\n",
    "111111\n",
    "000001\n",
    "111111\n",
    "111111\n",
    "```\n",
    "\n",
    "```python\n",
    "# 출력\n",
    "10\n",
    "```"
   ]
  },
  {
   "cell_type": "code",
   "execution_count": 3,
   "id": "6f2de8e7",
   "metadata": {},
   "outputs": [
    {
     "name": "stdout",
     "output_type": "stream",
     "text": [
      "3 3\n",
      "110\n",
      "010\n",
      "011\n",
      "5\n"
     ]
    }
   ],
   "source": [
    "n, m = map(int, input().split())\n",
    "\n",
    "# 2차원 리스트 맵 입력\n",
    "graph = []\n",
    "for i in range(n) :\n",
    "    graph.append(list(map(int, input())))\n",
    "    \n",
    "# 이동할 네 방향(상, 하, 좌, 우)\n",
    "dx = [-1, 1, 0, 0]\n",
    "dy = [0, 0, -1, 1]\n",
    "\n",
    "from collections import deque\n",
    "def bfs(x, y) :\n",
    "    queue = deque()\n",
    "    queue.append((x, y))\n",
    "    \n",
    "    # 큐가 빌 때까지 반복\n",
    "    while queue :\n",
    "        x, y = queue.popleft()\n",
    "        # 현재 위치에서 네 방향으로의 위치 확인\n",
    "        for i in range(4) :\n",
    "            nx = x + dx[i]\n",
    "            ny = y + dy[i]\n",
    "            \n",
    "            # 미로 찾기공간을 벗어난 경우 무시\n",
    "            if nx < 0 or ny < 0 or nx >= n or ny >= m :\n",
    "                continue\n",
    "            \n",
    "            # 벽인경우 무시\n",
    "            if graph[x][y] == 0 :\n",
    "                continue\n",
    "            \n",
    "            # 해당 노드를 처음 방문하는 경우에만 최단 거리 기록\n",
    "            if graph[nx][ny] == 1 :\n",
    "                graph[nx][ny] = graph[x][y] + 1\n",
    "                queue.append((nx, ny))\n",
    "    # 가장 오른쪽 아래까지의 최단 거리 반환\n",
    "    return graph[n-1][m-1]\n",
    "\n",
    "print(bfs(0,0))"
   ]
  },
  {
   "cell_type": "markdown",
   "id": "47d6e973",
   "metadata": {},
   "source": [
    "## 흐름"
   ]
  },
  {
   "cell_type": "markdown",
   "id": "07351645",
   "metadata": {},
   "source": [
    "https://pythontutor.com/render.html#mode=display"
   ]
  },
  {
   "cell_type": "code",
   "execution_count": null,
   "id": "fd84c700",
   "metadata": {},
   "outputs": [],
   "source": []
  }
 ],
 "metadata": {
  "kernelspec": {
   "display_name": "Python 3 (ipykernel)",
   "language": "python",
   "name": "python3"
  },
  "language_info": {
   "codemirror_mode": {
    "name": "ipython",
    "version": 3
   },
   "file_extension": ".py",
   "mimetype": "text/x-python",
   "name": "python",
   "nbconvert_exporter": "python",
   "pygments_lexer": "ipython3",
   "version": "3.9.12"
  }
 },
 "nbformat": 4,
 "nbformat_minor": 5
}
