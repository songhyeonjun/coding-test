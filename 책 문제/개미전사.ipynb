{
 "cells": [
  {
   "cell_type": "markdown",
   "id": "1b4eca6a",
   "metadata": {},
   "source": [
    "## 문제\n",
    "\n",
    "#### 개미전사는 부족한 식량을 충당하고자 메뚜기 마을의 식량창고를 몰래 공격하려고 한다. 메뚜기 마을에는 여러 개의 식량창고가 있는데 식량창고는 일직선으로 이어져 있다. 각 식량창고에는 정해진 수의 식량을 저장하고 있으며 개미 전사는 식량창고를 선택적으로 약탈하여 식량을 빼앗을 예정이다. 이때 메뚜기 정찰병들은 일직선상에 존재하는 식량창고 중에서 서로 인접한 식량창고가 공격받으면 바로 알아챌 수 있다. 따라서 개미 전사가 정찰병에게 들키지 않고 식량창고를 약탈하기 위해서는 최소한 한 칸 이상 떨어진 식량창고를 약탈해야 한다. 예를 들어 식량창고 4개가 다음과 같이 존재한다고 가정하자.\n",
    "\n",
    "#### {1, 3, 1, 5}\n",
    "#### 이때 개미 전사는 두 번째 식량창고와 네 번째 식량창고를 선택했을 때 최댓값인 총 8개의 식량을 빼앗을 수 있다. 개미 전사는 식량창고가 이렇게 일직선상일 때 최대한 많은 식량을 얻기를 원한다.\n",
    "\n",
    "#### 개미 전사를 위해 식량창고 N개에 대한 정보가 주어졌을 때 얻을 수 있는 식량의 최댓값을 구하는 프로그램을 작성하시오.\n",
    "\n",
    "## 입력 조건\n",
    "- 첫째 줄에 식량창고의 개수 N이 주어진다. (3<=N<=100)\n",
    "- 둘째 줄에 공백으로 구분되어 각 식량창고에 저장된 식량의 개수 K가 주어진다. (0<=K<=1,000)\n",
    "\n",
    "## 출력 조건\n",
    "- 첫째 줄에 개미 전사가 얻을 수 있는 식량의 최댓값을 출력하시오.\n",
    "\n",
    "## 입력 예시\n",
    "> 4 </br> 1 3 1 5\n",
    "\n",
    "## 출력 예시\n",
    "> 8"
   ]
  },
  {
   "cell_type": "markdown",
   "id": "6ef5cfaf",
   "metadata": {},
   "source": [
    "## 내가 풀어본 풀이"
   ]
  },
  {
   "cell_type": "code",
   "execution_count": 2,
   "id": "279c8782",
   "metadata": {},
   "outputs": [
    {
     "name": "stdout",
     "output_type": "stream",
     "text": [
      "4\n",
      "1 3 1 5\n",
      "8\n"
     ]
    }
   ],
   "source": [
    "N = int(input())\n",
    "K = list(map(int, input().split()))\n",
    "\n",
    "answer = 0\n",
    "answer2 = 0\n",
    "\n",
    "# 짝수번째 값을 answer에 더하고 홀수번째 값을 answer2에 저장 후 그 둘 중 높은 값 출력\n",
    "for i in range(N) :\n",
    "    if i % 2 == 0 :\n",
    "        answer += K[i]\n",
    "    else :\n",
    "        answer2 += K[i]\n",
    "        \n",
    "print(max(answer, answer2))"
   ]
  },
  {
   "cell_type": "markdown",
   "id": "7ea3fb82",
   "metadata": {},
   "source": [
    "## 책 풀이"
   ]
  },
  {
   "cell_type": "code",
   "execution_count": 5,
   "id": "e4f1e81b",
   "metadata": {},
   "outputs": [
    {
     "name": "stdout",
     "output_type": "stream",
     "text": [
      "4\n",
      "1 3 1 5\n",
      "8\n"
     ]
    }
   ],
   "source": [
    "N = int(input())\n",
    "K = list(map(int, input().split()))\n",
    "\n",
    "# 앞서 계산된 결과를 저장하기 위한 DP 테이블 초기화\n",
    "d = [0] * 100\n",
    "\n",
    "# 다이나믹 프로그래밍 진행(보텀업)\n",
    "d[0] = K[0]\n",
    "d[1] = max(K[0], K[1])\n",
    "\n",
    "for i in range(2, N) :\n",
    "    d[i] = max(d[i - 1], d[i - 2] + K[i])\n",
    "    \n",
    "print(d[N - 1])"
   ]
  },
  {
   "cell_type": "markdown",
   "id": "cb8cf98d",
   "metadata": {},
   "source": [
    "## 코드 흐름\n",
    "https://pythontutor.com/render.html#mode=display"
   ]
  },
  {
   "cell_type": "code",
   "execution_count": null,
   "id": "ff2be0d4",
   "metadata": {},
   "outputs": [],
   "source": []
  }
 ],
 "metadata": {
  "kernelspec": {
   "display_name": "Python 3 (ipykernel)",
   "language": "python",
   "name": "python3"
  },
  "language_info": {
   "codemirror_mode": {
    "name": "ipython",
    "version": 3
   },
   "file_extension": ".py",
   "mimetype": "text/x-python",
   "name": "python",
   "nbconvert_exporter": "python",
   "pygments_lexer": "ipython3",
   "version": "3.9.12"
  }
 },
 "nbformat": 4,
 "nbformat_minor": 5
}
