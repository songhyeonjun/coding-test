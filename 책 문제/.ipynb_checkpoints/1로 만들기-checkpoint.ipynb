{
 "cells": [
  {
   "cell_type": "markdown",
   "id": "e4afcc44",
   "metadata": {},
   "source": [
    "## 문제\n",
    "---------------\n",
    "#### 정수 X가 주어질 때 정수 X에 사용할 수 있는 연산은 다음과 같이 4가지 이다.\n",
    "#### X가 5로 나누어 떨어지면 5로 나눈다.\n",
    "#### X가 3으로 나누어 떨어지면 3으로 나눈다.\n",
    "#### X가 2로 나누어 떨어지면 2로 나눈다.\n",
    "#### X에서 1을 뺀다.\n",
    "#### 정수가 주어졌을 때, 연산 4개를 적절히 사용해서 1을 만들려고 한다. 연산을 사용하는 횟수의 최솟값을 출력하시오\n",
    "\n",
    "## 입력 조건\n",
    "---------------\n",
    " - 첫째 줄에 정수 X가 주어진다.(1 <= X <= 30,000)\n",
    " \n",
    "## 출력 조건\n",
    "---------------\n",
    " - 첫째 줄에 연산을 하는 횟수의 최솟값을 출력한다.\n",
    " \n",
    "## 입력 예시\n",
    "---------------\n",
    " > 26\n",
    " \n",
    "## 출력 예시\n",
    "---------------\n",
    " > 3"
   ]
  },
  {
   "cell_type": "code",
   "execution_count": null,
   "id": "7bc83a1d",
   "metadata": {},
   "outputs": [],
   "source": []
  },
  {
   "cell_type": "markdown",
   "id": "7205d231",
   "metadata": {},
   "source": [
    "## 풀이"
   ]
  },
  {
   "cell_type": "code",
   "execution_count": 4,
   "id": "2a35153d",
   "metadata": {},
   "outputs": [
    {
     "name": "stdout",
     "output_type": "stream",
     "text": [
      "26\n",
      "3\n"
     ]
    }
   ],
   "source": [
    "X = int(input())\n",
    "\n",
    "# 앞서 계산된 결과를 저장하기 위한 DP 테이블 초기화\n",
    "dp = [0] * 30001\n",
    "\n",
    "# 다이나믹 프로그램 진행\n",
    "for i in range(2, X + 1) :\n",
    "    # 현재의 수에서 1을 빼는 경우\n",
    "    dp[i] = dp[i - 1] + 1\n",
    "    \n",
    "    # 현재의 수가 2로 나누어 떨어지는 경우\n",
    "    if i % 2 == 0 :\n",
    "        dp[i] = min(dp[i], dp[i // 2] + 1)\n",
    "    \n",
    "    # 현재의 수가 3로 나누어 떨어지는 경우\n",
    "    if i % 3 == 0 :\n",
    "        dp[i] = min(dp[i], dp[i // 3] + 1)\n",
    "        \n",
    "    # 현재의 수가 5로 나누어 떨어지는 경우\n",
    "    if i % 5 == 0 :\n",
    "        dp[i] = min(dp[i], dp[i // 5] + 1)\n",
    "        \n",
    "print(dp[X])"
   ]
  },
  {
   "cell_type": "code",
   "execution_count": null,
   "id": "a663a763",
   "metadata": {},
   "outputs": [],
   "source": []
  }
 ],
 "metadata": {
  "kernelspec": {
   "display_name": "Python 3 (ipykernel)",
   "language": "python",
   "name": "python3"
  },
  "language_info": {
   "codemirror_mode": {
    "name": "ipython",
    "version": 3
   },
   "file_extension": ".py",
   "mimetype": "text/x-python",
   "name": "python",
   "nbconvert_exporter": "python",
   "pygments_lexer": "ipython3",
   "version": "3.9.12"
  }
 },
 "nbformat": 4,
 "nbformat_minor": 5
}
