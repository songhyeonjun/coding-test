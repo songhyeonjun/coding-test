{
 "cells": [
  {
   "cell_type": "markdown",
   "id": "f1776da4",
   "metadata": {},
   "source": [
    "## 문제\n",
    "\n",
    "#### 가로의 길이가 N, 세로의 길이가 2인 직사각형 형태의 얇은 바닥이 있다. \n",
    "#### 태일이는 이 얇은 바닥을 1 X 2의 덮개, 2 X 1의 덮개, 2 X 2의 덮개를 이용해 채우고자 한다.\n",
    "#### 이 때 바닥을 채우는 모든 경우의 수를 구하는 프로그램을 작성하시오. \n",
    "#### 예를 들어, 2X3 크기의 바닥을 채우는 경우의 수는 5가지이다.\n",
    "\n",
    "## 입력 조건\n",
    "- 첫째 줄에 N이 주어진다.(1 <= N <= 1,000)\n",
    "\n",
    "## 출력 조건\n",
    "- 첫째 줄에 2 X N 크기의 바닥을 채우는 방법의 수를 796,796으로 나눈 나머지를 출력한다.\n",
    "\n",
    "## 입력 예시\n",
    "> 3\n",
    "\n",
    "## 출력 예시\n",
    "> 5"
   ]
  },
  {
   "cell_type": "code",
   "execution_count": 7,
   "id": "f3983c1c",
   "metadata": {},
   "outputs": [
    {
     "name": "stdout",
     "output_type": "stream",
     "text": [
      "4\n",
      "11\n"
     ]
    }
   ],
   "source": [
    "# 정수 N을 입력\n",
    "N = int(input())\n",
    "\n",
    "# 앞서 계산된 결과를 저장하기 위한 DP 테이블 초기화\n",
    "d = [0] * 1001\n",
    "\n",
    "# 다이나믹 프로그래밍 진행(바텀업)\n",
    "d[1] = 1 # 가로 길이가 1일때 경우의 수\n",
    "d[2] = 3 # 가로 길이가 2일때 경우의 수\n",
    "\n",
    "for i in range(3, N + 1) :\n",
    "    # 타일 최대 길이가 2이기 때문에, 두가지 경우 존재\n",
    "    # 길이가 1 남을땐 경우의 수 1,\n",
    "    # 길이가 2 남을땐 경우의 수 2 -> 따라서 2를 곱함\n",
    "    d[i] = (d[i-1] + d[i - 2] * 2) % 796796\n",
    "print(d[N])"
   ]
  },
  {
   "cell_type": "code",
   "execution_count": null,
   "id": "81be7e1b",
   "metadata": {},
   "outputs": [],
   "source": []
  }
 ],
 "metadata": {
  "kernelspec": {
   "display_name": "Python 3 (ipykernel)",
   "language": "python",
   "name": "python3"
  },
  "language_info": {
   "codemirror_mode": {
    "name": "ipython",
    "version": 3
   },
   "file_extension": ".py",
   "mimetype": "text/x-python",
   "name": "python",
   "nbconvert_exporter": "python",
   "pygments_lexer": "ipython3",
   "version": "3.9.12"
  }
 },
 "nbformat": 4,
 "nbformat_minor": 5
}
