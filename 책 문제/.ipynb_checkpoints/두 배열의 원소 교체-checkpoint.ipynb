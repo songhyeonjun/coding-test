{
 "cells": [
  {
   "cell_type": "markdown",
   "id": "ba0cd27c",
   "metadata": {},
   "source": [
    "## 문제\n",
    "#### 동빈이는 두 개의 배열 A와 B를 가지고 있다. 두 배열은 N개의 원소로 구성되어 있으며, 배열의 원소는 모두 자연수이다. 동빈이는 최대 K 번의 바꿔치기 연산을 수행할 수 있는데, 바꿔치기 연산이란 배열 A에 있는 원소 하나와 배열 B에 있는 원소 하나를 골라서 두 원소를 서로 바꾸는 것을 말한다. 동빈이의 최종 목표는 배열 A의 모든 원소의 합이 최대가 되도록 하는 것이며, 여러분은 동빈이를 도와야한다.\n",
    "\n",
    "#### N, K, 그리고 배열 A와 B의 정보가 주어졌을 때, 최대 K 번의 바꿔치기 연산을 수행하여 만들 수 있는 배열 A의 모든 원소의 합의 최댓값을 출력하는 프로그램을 작성하라.\n",
    "\n",
    "#### 예를 들어 N = 5, K = 3이고, 배열 A와 B가 다음과 같다고 해보자.\n",
    "\n",
    " - 배열 A = [1, 2, 5, 4, 3]\n",
    " - 배열 B = [5, 5, 6, 6, 5]\n",
    "\n",
    "#### 이 경우, 다음과 같이 세 번의 연산을 수행할 수 있다.\n",
    "\n",
    " - 연산 1) 배열 A의 원소 '1'과 배열 B의 원소 '6'을 바꾸기\n",
    " - 연산 2) 배열 A의 원소 '2'와 배열 B의 원소 '6'을 바꾸기\n",
    " - 연산 3) 배열 A의 원소 '3'과 배열 B의 원소 '5'를 바꾸기\n",
    "\n",
    "#### 세 번의 연산 이후 배열 A와 배열 B의 상태는 다음과 같이 구성될 것이다.\n",
    "\n",
    " - 배열 A = [6, 6, 5, 4, 5]\n",
    " - 배열 B = [3, 5, 1, 2, 5]\n",
    "\n",
    "#### 이때 배열 A의 모든 원소의 합은 26이 되며, 이보다 더 합을 크게 만들 수는 없다.\n",
    "\n",
    "## 입력\n",
    "#### 첫 번째 줄: N, K 가 공백으로 구분되어 입력 (1 <= N <= 100,000, 0 <= K <= N)\n",
    "#### 두 번째 줄: 배열 A의 원소들이 공백으로 구분되어 입력 (원소 a < 10,000,000인 자연수)\n",
    "#### 세 번째 줄: 배열 B의 원소들이 공백으로 구분되어 입력 (원소 b < 10,000,000인 자연수)\n",
    "\n",
    "## 출력\n",
    "#### 최대 K번 바꿔치기 연산을 수행해서 가장 최대의 합을 갖는 A의 모든 원소 값의 합을 출력\n",
    "\n",
    "## 입력 예시\n",
    "```python\n",
    "5 3\n",
    "1 2 5 4 3\n",
    "5 5 6 6 5\n",
    "```\n",
    "\n",
    "## 출력 예시\n",
    "> 26"
   ]
  },
  {
   "cell_type": "code",
   "execution_count": 1,
   "id": "08123e8f",
   "metadata": {},
   "outputs": [
    {
     "name": "stdout",
     "output_type": "stream",
     "text": [
      "5 3\n",
      "1 2 5 4 3\n",
      "5 5 6 6 5\n",
      "26\n"
     ]
    }
   ],
   "source": [
    "# 원소와 교체할 수 있는 횟수 입력\n",
    "N, K = map(int, input().split())\n",
    "\n",
    "# 배열 a, b 입력\n",
    "list_a = list(map(int, input().split()))\n",
    "list_b = list(map(int, input().split()))\n",
    "\n",
    "# 배열 a는 오름차순, 배열 b는 내림차순 정렬\n",
    "list_a.sort()\n",
    "list_b.sort(reverse=True)\n",
    "\n",
    "# 배열 a와 b를 비교해서 a[i]가 b[i]보다 작으면 두 원소 교체\n",
    "for i in range(K) :\n",
    "    if list_a[i] < list_b[i] :\n",
    "        list_a[i], list_b[i] = list_b[i], list_a[i]\n",
    "    else : # 배열 a의 원소가 b 원소보다 크거나 같으면 다음걸 확인할 필요없이 종료\n",
    "        break \n",
    "# 배열 a가 가질수 있는 가장 최대의 합 출력\n",
    "print(sum(list_a))"
   ]
  },
  {
   "cell_type": "code",
   "execution_count": null,
   "id": "c870fe13",
   "metadata": {},
   "outputs": [],
   "source": []
  }
 ],
 "metadata": {
  "kernelspec": {
   "display_name": "Python 3 (ipykernel)",
   "language": "python",
   "name": "python3"
  },
  "language_info": {
   "codemirror_mode": {
    "name": "ipython",
    "version": 3
   },
   "file_extension": ".py",
   "mimetype": "text/x-python",
   "name": "python",
   "nbconvert_exporter": "python",
   "pygments_lexer": "ipython3",
   "version": "3.9.12"
  }
 },
 "nbformat": 4,
 "nbformat_minor": 5
}
