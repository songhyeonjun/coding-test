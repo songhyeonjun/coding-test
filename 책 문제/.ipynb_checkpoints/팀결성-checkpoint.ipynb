{
 "cells": [
  {
   "cell_type": "markdown",
   "id": "fcbfd0ff",
   "metadata": {},
   "source": [
    "## 문제\n",
    "#### 학교에서 학생들에게 0번부터 N번까지의 번호를 부여했다. 처음에는 모든 학생이 서로 다른 팀으로 구분되어, 총 N + 1 개의 팀이 존재한다.\n",
    "#### 이때 선생님은 '팀 합치기'연산과 '같은 팀 여부 확인'연산을 사용할 수 있다.\n",
    "\n",
    "1. '팀 합치기' 연산은 두 팀을 합치는 연산이다.\n",
    "2. '같은 팀 여부 확인' 연산은 특정한 두 학생이 같은 팀에 속하는지를 확인하는 연산이다. \n",
    "#### 선생님이 M개의 연산을 수행할 수 있을 때, '같은 팀 여부 확인'연산에 대한 연산 결과를 출력하는 프로그램을 작성하시오.\n",
    "\n",
    "## 입력조건\n",
    "#### 첫째 줄에 N, M이 주어진다. M은 입력으로 주어지는 연산의 개수이다. (1 <= N, M <= 100,000)\n",
    "#### 다음 M개의 줄에는 각각의 연산이 주어진다.\n",
    "#### '팀 합치기' 연산은 0 a b 형태로 주어진다. 이는 a번 학생이 속한 팀과 b번 학생이 속한 팀을 합친다는 의미이다.\n",
    "#### '같은 팀 여부 확인' 연산은 1 a b 형태로 주어진다. 이는 a번 학생과 b번 학생이 같은 팀에 속해 있는지를 확인하는 연산이다.\n",
    "#### a와 b는 N 이하의 양의 정수이다.\n",
    "\n",
    "## 출력조건\n",
    "#### '같은 팀 여부 확인'연산에 대하여 한 줄에 하나씩 YES 혹은 NO로 결과를 출력한다.\n",
    "\n",
    "## 입력 예시\n",
    "> 7 8 </br> 0 1 2 </br> 1 1 7 </br> 0 7 6 </br> 1 7 1 </br> 0 3 7 </br> 0 4 2 </br> 0 1 1 </br> 1 1 1\n",
    "\n",
    "## 출력 예시\n",
    "> NO </br> NO </br> YES"
   ]
  },
  {
   "cell_type": "code",
   "execution_count": null,
   "id": "6afb0c21",
   "metadata": {},
   "outputs": [],
   "source": []
  },
  {
   "cell_type": "code",
   "execution_count": 4,
   "id": "59cb4762",
   "metadata": {},
   "outputs": [
    {
     "name": "stdout",
     "output_type": "stream",
     "text": [
      "7 8\n",
      "0 1 3\n",
      "1 1 7\n",
      "NO\n",
      "--------------------\n",
      "0 7 6\n",
      "1 7 1\n",
      "NO\n",
      "--------------------\n",
      "0 3 7\n",
      "0 4 2\n",
      "0 1 1\n",
      "1 1 1\n",
      "YES\n",
      "--------------------\n"
     ]
    }
   ],
   "source": [
    "def find_parent(parent, x) :\n",
    "    # 루트 노드가 아니라면, 루트 노드를 찾을 때까지 재귀적으로 호출\n",
    "    if parent[x] != x :\n",
    "        return find_parent(parent, parent[x])\n",
    "    return parent[x]\n",
    "\n",
    "# 두 원소가 속한 집합을 합치기\n",
    "def union_parent(parent, a, b) :\n",
    "    a = find_parent(parent, a)\n",
    "\n",
    "    b = find_parent(parent, b)\n",
    "    \n",
    "    if a < b :\n",
    "        parent[b] = a\n",
    "    else :\n",
    "        parent[a] = b\n",
    "        \n",
    "n, m = map(int, input().split())\n",
    "parent = [0] * (n+ 1) # 부모 테이블 초기화\n",
    "\n",
    "# 부모 테이블상에서, 부모를 자기 자신으로 초기화\n",
    "for i in range(1, n + 1) :\n",
    "    parent[i] = i\n",
    "    \n",
    "# 각 연산을 하나씩 확인\n",
    "for i in range(m) :\n",
    "    oper, a, b = map(int, input().split())\n",
    "    # 합집합(union) 연산인 경우\n",
    "    if oper == 0 :\n",
    "        union_parent(parent, a, b)\n",
    "    # 찾기(find) 연산인 경우\n",
    "    elif oper == 1 :\n",
    "        if find_parent(parent, a) == find_parent(parent, b) :\n",
    "            print('YES')\n",
    "            print('-'*20)\n",
    "        else :\n",
    "            print('NO')\n",
    "            print('-'*20)"
   ]
  },
  {
   "cell_type": "code",
   "execution_count": null,
   "id": "ccdf96b9",
   "metadata": {},
   "outputs": [],
   "source": []
  }
 ],
 "metadata": {
  "kernelspec": {
   "display_name": "Python 3 (ipykernel)",
   "language": "python",
   "name": "python3"
  },
  "language_info": {
   "codemirror_mode": {
    "name": "ipython",
    "version": 3
   },
   "file_extension": ".py",
   "mimetype": "text/x-python",
   "name": "python",
   "nbconvert_exporter": "python",
   "pygments_lexer": "ipython3",
   "version": "3.9.12"
  }
 },
 "nbformat": 4,
 "nbformat_minor": 5
}
