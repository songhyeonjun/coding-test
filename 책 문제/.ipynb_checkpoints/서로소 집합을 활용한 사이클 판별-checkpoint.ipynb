{
 "cells": [
  {
   "cell_type": "code",
   "execution_count": 1,
   "id": "5e283a75",
   "metadata": {},
   "outputs": [
    {
     "name": "stdout",
     "output_type": "stream",
     "text": [
      "3 3\n",
      "1 2\n",
      "1 3\n",
      "2 3\n",
      "사이클 발생\n"
     ]
    }
   ],
   "source": [
    "# 특정 원소가 속한 집합을 찾기\n",
    "\n",
    "def find_parent(parent, x) :\n",
    "    # 루트 노드가 아니라면, 루트 노드를 찾을 때까지 재귀적으로 호출\n",
    "    if parent[x] != x :\n",
    "        return find_parent(parent, parent[x])\n",
    "    return parent[x]\n",
    "\n",
    "# 두 원소가 속한 집합을 합치기\n",
    "def union_parent(parent, a, b) :\n",
    "    a = find_parent(parent, a)\n",
    "\n",
    "    b = find_parent(parent, b)\n",
    "    \n",
    "    if a < b :\n",
    "        parent[b] = a\n",
    "    else :\n",
    "        parent[a] = b\n",
    "        \n",
    "# 노드의 개수와 간선(union 연산)의 개수 입력받기\n",
    "v, e = map(int, input().split())\n",
    "parent = [0] * (v + 1) # 부모 테이블 초기화\n",
    "\n",
    "# 부모 테이블상에서, 부모를 자기 자신으로 초기화\n",
    "for i in range(1, v + 1) :\n",
    "    parent[i] = i\n",
    "    \n",
    "# 사이클 발생 여부\n",
    "cycle = False\n",
    "\n",
    "# union 연산을 각각 수행\n",
    "for i in range(e) :\n",
    "    a, b = map(int, input().split())\n",
    "    # 사이클이 발생한 경우 종료\n",
    "    if find_parent(parent, a) == find_parent(parent, b) :\n",
    "        cycle = True\n",
    "        break\n",
    "    # 사이클이 발생하지 않았다면 합집합(union) 수행\n",
    "    else :\n",
    "        union_parent(parent, a, b)\n",
    "        \n",
    "if cycle :\n",
    "    print('사이클 발생')\n",
    "else :\n",
    "    print('사이클 발생 X')"
   ]
  },
  {
   "cell_type": "code",
   "execution_count": null,
   "id": "d0415a41",
   "metadata": {},
   "outputs": [],
   "source": []
  }
 ],
 "metadata": {
  "kernelspec": {
   "display_name": "Python 3 (ipykernel)",
   "language": "python",
   "name": "python3"
  },
  "language_info": {
   "codemirror_mode": {
    "name": "ipython",
    "version": 3
   },
   "file_extension": ".py",
   "mimetype": "text/x-python",
   "name": "python",
   "nbconvert_exporter": "python",
   "pygments_lexer": "ipython3",
   "version": "3.9.12"
  }
 },
 "nbformat": 4,
 "nbformat_minor": 5
}
