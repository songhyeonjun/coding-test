{
 "cells": [
  {
   "cell_type": "markdown",
   "id": "29892388",
   "metadata": {},
   "source": [
    "## 문제\n",
    "------------------------------------\n",
    "#### 하나의 수열에는 다양한 수가 존재한다. 이러한 수는 크기에 상관없이 나열되어 있다.  이 수를 큰 수부터 작은 수의 순서로 정렬해야 한다.\n",
    "#### 수열을 내림차순으로 정렬하는 프로그램을 만드시오\n",
    "\n",
    "## 입력조건\n",
    "------------------------------------\n",
    "#### 첫째 줄에 수열에 속해 있는 수의 개수 N이 주어진다.\n",
    "#### 둘째 줄부터 N + 1번째 줄까지 N개의수가 입력된다. 수의 범위는 1이상 100,000 이하의 자연수이다.\n",
    "\n",
    "## 출력조건\n",
    "------------------------------------\n",
    "#### 입력으로 주어진 수열이 내림차순으로 정렬된 결과를 공백으로 구분하여 출력한다. 동일한 수의 순서는 자유롭게 출력해도 괜찮다.\n",
    "\n",
    "## 입력 예시\n",
    "------------------------------------\n",
    "```\n",
    "3\n",
    "15\n",
    "\n",
    "27\n",
    "12\n",
    "```\n",
    "\n",
    "## 출력 예시\n",
    "------------------------------------\n",
    "\n",
    "> 27 15 12"
   ]
  },
  {
   "cell_type": "code",
   "execution_count": null,
   "id": "e1265f8e",
   "metadata": {},
   "outputs": [],
   "source": []
  },
  {
   "cell_type": "markdown",
   "id": "5dca8a74",
   "metadata": {},
   "source": [
    "## 답안"
   ]
  },
  {
   "cell_type": "code",
   "execution_count": 6,
   "id": "855925ac",
   "metadata": {},
   "outputs": [
    {
     "name": "stdout",
     "output_type": "stream",
     "text": [
      "3\n",
      "15\n",
      "27\n",
      "12\n",
      "27 15 12 "
     ]
    }
   ],
   "source": [
    "N = int(input())\n",
    "\n",
    "arr = []\n",
    "for i in range(N) :\n",
    "    arr.append(int(input()))\n",
    "    \n",
    "# sort() 함수를 이용한 정렬   \n",
    "arr.sort(reverse=True)\n",
    "\n",
    "# sorted() 함수를 이용한 정렬\n",
    "# arr = sorted(arr, reverse=True)\n",
    "\n",
    "# 정렬이 수행된 결과 출력\n",
    "for i in arr :\n",
    "    print(i, end=' ')"
   ]
  },
  {
   "cell_type": "code",
   "execution_count": null,
   "id": "79b3f764",
   "metadata": {},
   "outputs": [],
   "source": []
  }
 ],
 "metadata": {
  "kernelspec": {
   "display_name": "Python 3 (ipykernel)",
   "language": "python",
   "name": "python3"
  },
  "language_info": {
   "codemirror_mode": {
    "name": "ipython",
    "version": 3
   },
   "file_extension": ".py",
   "mimetype": "text/x-python",
   "name": "python",
   "nbconvert_exporter": "python",
   "pygments_lexer": "ipython3",
   "version": "3.9.12"
  }
 },
 "nbformat": 4,
 "nbformat_minor": 5
}
