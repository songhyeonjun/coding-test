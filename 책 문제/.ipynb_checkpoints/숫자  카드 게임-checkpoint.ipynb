{
 "cells": [
  {
   "cell_type": "markdown",
   "id": "23015703",
   "metadata": {},
   "source": [
    "> ## <문제>\n",
    "#### 숫자 카드 게임은 여러 개의 숫자 카드 중에서 가장 높은 숫자가 쓰인 카드 한 장을 뽑는 게임이다. \n",
    "#### 단, 게임의 룰을 지키며 카드를 뽑아야 하고 룰은 다음과 같다.\n",
    "\n",
    "### 1. 숫자가 쓰인 카드들이 N x M 형태로 놓여 있다. 이때 N은 행의 개수를 의미하며, M은 열의 개수를 의미한다.\n",
    "### 2. 먼저 뽑고자 하는 카드가 포함되어 있는 행을 선택한다.\n",
    "### 3. 그다음 선택된 행에 포함된 카드들 중 가장 숫자가 낮은 카드를 뽑아야 한다.\n",
    "### 4. 따라서 처음에 카드를 골라낼 행을 선택할 때, 이후에 해당 행에서 가장 숫자가 낮은 카드를 뽑를 것을 고려하여 최종적으로 가장 높은 숫자의 카드를 뽑을 수 있도록 전략을 세워야 한다.\n",
    "\n",
    "#### 카드들이 N x M 형태로 놓여 있을 때, 게임의 룰에 맞게 카드를 뽑는 프로그램을 만드시오.\n",
    "\n",
    "> ## <입력 조건>\n",
    "#### 첫째 줄에 숫자 카드들이 놓인 행의 개수 N과 열의 개수 M이 공백을 기준으로 하여 각각 자연수로 주어진다. (1 <= N, M <= 100)\n",
    "\n",
    "#### 둘째 줄부터 N개의 줄에 걸쳐 각 카드에 적힌 숫자가 주어진다. 각 숫자는 1 이상 10,000 이하의 자연수이다.\n",
    "\n",
    "> ## <출력 조건>\n",
    "#### 첫째 줄에 게임의 룰에 맞게 선택한 카드에 적힌 숫자를 출력한다.\n",
    "\n",
    "\n",
    "### <입력 예시>      <출력 예시>\n",
    "\n",
    "#### 3 3 &nbsp;&nbsp;&nbsp;&nbsp;&nbsp;&nbsp;&nbsp;&nbsp;&nbsp;&nbsp;&nbsp;&nbsp;&nbsp;&nbsp;&nbsp;&nbsp;&nbsp;&nbsp;&nbsp;&nbsp;&nbsp;&nbsp;&nbsp;&nbsp;2\n",
    "#### 3 1 2\n",
    "#### 4 1 4\n",
    "#### 2 2 2\n",
    "\n",
    "</br>\n",
    "\n",
    "#### 2 4 &nbsp;&nbsp;&nbsp;&nbsp;&nbsp;&nbsp;&nbsp;&nbsp;&nbsp;&nbsp;&nbsp;&nbsp;&nbsp;&nbsp;&nbsp;&nbsp;&nbsp;&nbsp;&nbsp;&nbsp;&nbsp;&nbsp;&nbsp;&nbsp;3\n",
    "#### 7 3 1 8\n",
    "#### 3 3 3 4"
   ]
  },
  {
   "cell_type": "code",
   "execution_count": null,
   "id": "8ea4c9cb",
   "metadata": {},
   "outputs": [],
   "source": []
  },
  {
   "cell_type": "markdown",
   "id": "f81d27b0",
   "metadata": {},
   "source": [
    "## 각 행마다 가장 작은 수를 찾은 뒤 그 수 중에서 가장 큰 수를 찾기"
   ]
  },
  {
   "cell_type": "code",
   "execution_count": 2,
   "id": "32459459",
   "metadata": {},
   "outputs": [
    {
     "name": "stdout",
     "output_type": "stream",
     "text": [
      "3 3\n",
      "3 1 2\n",
      "4 1 4\n",
      "2 2 2\n",
      "2\n"
     ]
    }
   ],
   "source": [
    "n, m = map(int, input().split())\n",
    "answer = 0\n",
    "for i in range(n) :\n",
    "    data = list(map(int, input().split()))\n",
    "    min_num = min(data) # 각 행에 숫자 중 가장 작은 값 넣기\n",
    "    answer = max(answer, min_num) # 그 수 중에서 가장 큰 수\n",
    "print(answer)"
   ]
  },
  {
   "cell_type": "markdown",
   "id": "cbad2604",
   "metadata": {},
   "source": [
    "## 이중 for문 사용"
   ]
  },
  {
   "cell_type": "code",
   "execution_count": 3,
   "id": "82ac39a2",
   "metadata": {},
   "outputs": [
    {
     "name": "stdout",
     "output_type": "stream",
     "text": [
      "3 3\n",
      "3 1 2\n",
      "4 1 2\n",
      "2 2 2\n",
      "2\n"
     ]
    }
   ],
   "source": [
    "n, m = map(int, input().split())\n",
    "answer = 0\n",
    "min_num\n",
    "for i in range(n) :\n",
    "    data = list(map(int, input().split()))\n",
    "    min_num = 10000 # 각 숫자는 1이상의 10,000이하의 자연수\n",
    "    for j in data :\n",
    "        if j <= min_num : # 만약 각 행의 숫자 중 min_num보다 작으면\n",
    "            min_num = j   # min_num 변수 안에 j 값 넣기\n",
    "    if answer < min_num : \n",
    "        answer = min_num\n",
    "print(answer)"
   ]
  },
  {
   "cell_type": "markdown",
   "id": "cb5458c5",
   "metadata": {},
   "source": []
  }
 ],
 "metadata": {
  "kernelspec": {
   "display_name": "Python 3 (ipykernel)",
   "language": "python",
   "name": "python3"
  },
  "language_info": {
   "codemirror_mode": {
    "name": "ipython",
    "version": 3
   },
   "file_extension": ".py",
   "mimetype": "text/x-python",
   "name": "python",
   "nbconvert_exporter": "python",
   "pygments_lexer": "ipython3",
   "version": "3.9.12"
  }
 },
 "nbformat": 4,
 "nbformat_minor": 5
}
