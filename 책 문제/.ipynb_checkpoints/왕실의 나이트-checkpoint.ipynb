{
 "cells": [
  {
   "cell_type": "markdown",
   "id": "748632df",
   "metadata": {},
   "source": [
    "> ## 문제\n",
    "#### 행복 왕국의 왕실 정원은 체스판과 같은 8 × 8 좌표 평면이다.\n",
    "#### 왕실 정원의 특정한 한 칸에 나이트가 서있다.\n",
    "#### 나이트는 매우 충성스러운 신하로서 매일 무술을 연마한다.\n",
    "#### 나이트는 말을 타고 있기 때문에 이동을 할 때는 L자 형태로만 이동할 수 있으며 정원 밖으로는 나갈 수 없다.\n",
    "#### 나이트는 특정 위치에서 다음과 같은 2가지 경우로 이동할 수 있다\n",
    "#### 수평으로 두 칸 이동한 뒤에 수직으로 한 칸 이동하기\n",
    "#### 수직으로 두 칸 이동한 뒤에 수평으로 한 칸 이동하기\n",
    "#### 이처럼 8 × 8 좌표 평면상에서 나이트의 위치가 주어졌을 때 나이트가 이동할 수 있는 경우의 수를 출력하는프로그램을 작성하라.\n",
    "#### 왕실의 정원에서 행 위치를 표현할 때는 1부터 8로 표현하며, 열 위치를 표현할 때는 a 부터 h로 표현한다\n",
    "#### c2에 있을 때 이동할 수 있는 경우의 수는 6가지이다\n",
    "#### a1에 있을 때 이동할 수 있는 경우의 수는 2가지이다\n",
    "> ## 입력 조건\n",
    "#### 첫째 줄에 8x8 좌표 평면상에서 현재 나이트가 위치한 곳의 좌표를 나타내는 두 문자로 구성된 문자열이 입력된다.\n",
    "#### 입력 문자는 a1 처럼 열과 행으로 이뤄진다.\n",
    "> ## 출력 조건\n",
    "#### 첫째 줄에 나이트가 이동할 수 있는 경우의 수를 출력하시오.\n",
    "\n",
    "> ## 입력 예시\n",
    "#### a1\n",
    "\n",
    "> ## 출력 예시\n",
    "#### 2\n",
    "\n",
    "> ## 풀이\n",
    "\n",
    "#### 나이트가 이동할 수 있는 8가지 경로를 모두 탐색하면 됩니다."
   ]
  },
  {
   "cell_type": "code",
   "execution_count": 6,
   "id": "9875dfdb",
   "metadata": {},
   "outputs": [
    {
     "name": "stdout",
     "output_type": "stream",
     "text": [
      "d8\n",
      "8 4\n",
      "4\n"
     ]
    }
   ],
   "source": [
    "# 나이트의 현재 위치\n",
    "Knight_data = input()\n",
    "row = int(Knight_data[1])\n",
    "col = int(ord(Knight_data[0])) - int(ord('a')) + 1\n",
    "print(row, col)\n",
    "\n",
    "# 나이트가 이동할 수 있는 8가지 방향\n",
    "steps = [(-2, 1), (-2, -1), (2, 1), (2, -1), (-1, 2), (-1, -2), (1, 2), (1 ,-2)]\n",
    "\n",
    "# 나이트가 이동할 수 있는 경우의 수\n",
    "count = 0 \n",
    "\n",
    "for i in steps :\n",
    "    row2 = row + i[0]\n",
    "    col2 = col + i[1]\n",
    "    if row2 < 1 or row2 > 8 or col2 < 1 or col2 > 8 :\n",
    "        continue\n",
    "    count += 1\n",
    "\n",
    "print(count)"
   ]
  },
  {
   "cell_type": "code",
   "execution_count": null,
   "id": "2aae4b5a",
   "metadata": {},
   "outputs": [],
   "source": []
  }
 ],
 "metadata": {
  "kernelspec": {
   "display_name": "Python 3 (ipykernel)",
   "language": "python",
   "name": "python3"
  },
  "language_info": {
   "codemirror_mode": {
    "name": "ipython",
    "version": 3
   },
   "file_extension": ".py",
   "mimetype": "text/x-python",
   "name": "python",
   "nbconvert_exporter": "python",
   "pygments_lexer": "ipython3",
   "version": "3.9.12"
  }
 },
 "nbformat": 4,
 "nbformat_minor": 5
}
