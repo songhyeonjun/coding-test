{
 "cells": [
  {
   "cell_type": "markdown",
   "id": "cb516560",
   "metadata": {},
   "source": [
    "## 문제\n",
    "-------------------------------------------------------\n",
    "#### 동빈이네 전자 매장에는 부품이 N개 있다. 각 부품은 정수 형태의 고유한 번호가 있다. 어느 날 손님이 M개의 종류의 부품을 대량으로 구매하겠다며 당일 날 견적서를 요청했다. 동빈이는 때를 놓치지 않고 손님이 문의한 부품 M개 종류를 모두 확인해서 견적서를 작성해야 한다. 이때 가게 안에 부품이 모두 있는지 확인하는 프로그램을 작성해보자.\n",
    "\n",
    "#### 예를 들어 가게의 부품이 총 5개일 때 부품 번호가 다음과 같다고 하자.\n",
    "```python\n",
    "N = 5\n",
    "[8,3, 7, 9, 2]\n",
    "```\n",
    "\n",
    "#### 손님은 총 3개의 부품이 있는지 확인 요청했는데 부품 번호는 다음과 같다.\n",
    "```python\n",
    "M = 3\n",
    "[5, 7, 0]\n",
    "```\n",
    "\n",
    "#### 이때 손님이 요청한 부품 번호의 순서대로 부품을 확인해 부품이 있으면 yes를, 없으면 no를 출력한다. 구분은 공백으로 한다.\n",
    "\n",
    "## 입력 조건\n",
    "-------------------------------------------------------\n",
    "#### 첫째 줄에 정수 N이 주어진다. (1<=N<=1,000,000)\n",
    "#### 둘째 줄에는 공백으로 구분하여 N개의 정수가 주어진다. 이때 정수는 1보다 크고 1,000,000 이하이다.\n",
    "#### 셋째 줄에는 정수 M이 주어진다. (1<=M<=100,000)\n",
    "#### 넷째 줄에는 공백으로 구분하여 M개의 정수가 주어진다. 이때 정수는 1보다 크고 10억 이하이다.\n",
    "\n",
    "## 출력 조건\n",
    "-------------------------------------------------------\n",
    "#### 첫째 줄에 공백으로 구분하여 각 부품이 존재하면 yes를, 없으면 no를 출력한다.\n",
    "\n",
    "## 입력 예시\n",
    "-------------------------------------------------------\n",
    "```\n",
    "5\n",
    "8 3 7 9 2\n",
    "3\n",
    "5 7 9\n",
    "```\n",
    "\n",
    "## 출력 예시\n",
    "-------------------------------------------------------\n",
    "> no yes yes"
   ]
  },
  {
   "cell_type": "code",
   "execution_count": null,
   "id": "f63f9989",
   "metadata": {},
   "outputs": [],
   "source": []
  },
  {
   "cell_type": "markdown",
   "id": "e6387dbf",
   "metadata": {},
   "source": [
    "## 풀이"
   ]
  },
  {
   "cell_type": "markdown",
   "id": "cdc809e5",
   "metadata": {},
   "source": [
    "### 이진 탐색"
   ]
  },
  {
   "cell_type": "code",
   "execution_count": 2,
   "id": "8e1551e5",
   "metadata": {},
   "outputs": [
    {
     "name": "stdout",
     "output_type": "stream",
     "text": [
      "5\n",
      "8 3 7 9 2\n",
      "3\n",
      "5 7 9\n",
      "no yes yes "
     ]
    }
   ],
   "source": [
    "# 가게의 부품 개수\n",
    "N = int(input())\n",
    "# 가게의 부품 번호 공백으로 구분\n",
    "arr = list(map(int, input().split()))\n",
    "arr.sort() # 이진탐색을 수행하기 위해 사전에 정렬 수행\n",
    "# 손님이 문의한 부품 개수\n",
    "M = int(input())\n",
    "# 손님이 문의한 부품 번호 공백으로 구분\n",
    "x = list(map(int, input().split()))\n",
    "\n",
    "# 이진 탐색 소스코드 구현(반복문)\n",
    "def binary_search(arr, target, start, end) :\n",
    "    while start <= end :\n",
    "        mid = (start + end) // 2\n",
    "    \n",
    "        # 찾은 경우 중간점 인덱스 반환\n",
    "        if arr[mid] == target :\n",
    "            return mid\n",
    "        # 중간점의 값보다 찾고자 하는 값이 작은 경우 왼쪽 확인\n",
    "        elif arr[mid] > target :\n",
    "            end = mid - 1\n",
    "        # 중간점의 값보다 찾고자 하는 값이 큰 경우 오른쪽 확인\n",
    "        else :\n",
    "            start = mid + 1\n",
    "\n",
    "    return None\n",
    "\n",
    "# 손님이 확인 요청한 부품 번호를 하나씩 확인\n",
    "for i in x :\n",
    "    # 해당 부품이 존재하는지 확인\n",
    "    result = binary_search(arr, i, 0, N - 1)\n",
    "    \n",
    "    if result != None :\n",
    "        print('yes', end=' ')\n",
    "    else :\n",
    "        print('no', end=' ')"
   ]
  },
  {
   "cell_type": "markdown",
   "id": "f0b1e85d",
   "metadata": {},
   "source": [
    "### 계수 정렬"
   ]
  },
  {
   "cell_type": "code",
   "execution_count": 5,
   "id": "b95a6573",
   "metadata": {},
   "outputs": [
    {
     "name": "stdout",
     "output_type": "stream",
     "text": [
      "5\n",
      "8 3 7 9 2\n",
      "3\n",
      "5 7 9\n",
      "no yes yes "
     ]
    }
   ],
   "source": [
    "# N(가게의 부품 개수) 입력\n",
    "N = int(input())\n",
    "arr = [0] * 1000001\n",
    "\n",
    "# 가게에 있는 전ㅊ체 부품 번호를 입력받아서 기록\n",
    "for i in input().split() :\n",
    "    arr[int(i)] = 1\n",
    "    \n",
    "# M(손님이 확인 용청한 부품 개수) 입력\n",
    "M = int(input())\n",
    "# 손님이 확인 요청한 전체 부품 번호를 공백으로 구분하여 입력\n",
    "x = list(map(int, input().split()))\n",
    "\n",
    "# 손님이 확인 요청한 부품 번호를 하나씩 확인\n",
    "for i in x :\n",
    "    # 해당 부품이 존재하는지 확인\n",
    "    if arr[i] == 1 :\n",
    "        print('yes', end=' ')\n",
    "    else :\n",
    "        print('no', end=' ')"
   ]
  },
  {
   "cell_type": "markdown",
   "id": "31ea76ac",
   "metadata": {},
   "source": [
    "### 집합 자료형"
   ]
  },
  {
   "cell_type": "code",
   "execution_count": 9,
   "id": "2a704c06",
   "metadata": {},
   "outputs": [
    {
     "name": "stdout",
     "output_type": "stream",
     "text": [
      "5\n",
      "8 3 7 9 2\n",
      "{2, 3, 7, 8, 9}\n",
      "3\n",
      "5 7 9\n",
      "no yes yes "
     ]
    }
   ],
   "source": [
    "# N(가게의 부품 개수) 입력\n",
    "N = int(input())\n",
    "\n",
    "# 가게에 있는 전체 부품 번호를 입력받아서 집합(set) 자료형에 기록\n",
    "arr = set(map(int, input().split()))\n",
    "print(arr)\n",
    "# M(손님이 확인 요청한 부품 개수) 입력\n",
    "M = int(input())\n",
    "\n",
    "# 손님이 확인 요청한 전체 부품 번호를 공백으로 구분하여 입력\n",
    "x = list(map(int, input().split()))\n",
    "\n",
    "# 손님이 확인 요청한 부품 번호 확인\n",
    "for i in x :\n",
    "    if i in arr :\n",
    "        print('yes', end=' ')\n",
    "    else :\n",
    "        print('no', end=' ')"
   ]
  },
  {
   "cell_type": "code",
   "execution_count": null,
   "id": "73fcc6a2",
   "metadata": {},
   "outputs": [],
   "source": []
  }
 ],
 "metadata": {
  "kernelspec": {
   "display_name": "Python 3 (ipykernel)",
   "language": "python",
   "name": "python3"
  },
  "language_info": {
   "codemirror_mode": {
    "name": "ipython",
    "version": 3
   },
   "file_extension": ".py",
   "mimetype": "text/x-python",
   "name": "python",
   "nbconvert_exporter": "python",
   "pygments_lexer": "ipython3",
   "version": "3.9.12"
  }
 },
 "nbformat": 4,
 "nbformat_minor": 5
}
