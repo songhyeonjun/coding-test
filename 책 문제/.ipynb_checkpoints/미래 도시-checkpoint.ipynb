{
 "cells": [
  {
   "cell_type": "markdown",
   "id": "02aca82e",
   "metadata": {},
   "source": [
    "## 문제\n",
    "#### 미래 도시에는 1번부터 N번까지의 회사가 있는데 특정 회사끼리는 서로 도로를 통해 연결되어 있다.\n",
    "#### 방문 판매원 A는 현재 1번 회사에 위치해 있으며, X번 회사에 방문해 물건을 판매하고자 한다.\n",
    "#### 미래 도시에서 특정 회사에 도착하기 위한 방법은 회사끼리 연결되어 있는 도로를 이용하는 방법이 유일하다.\n",
    "#### 또한 연결된 2개의 회사는 양방향으로 이동할 수 있다. 공중 미래 도시에서 특정 회사와 다른 회사가 도로로 연결되어 있다면, 정확히 1만큼의 시간으로 이동할 수 있다.\n",
    "#### 또한 오늘 방문 판매원 A는 기대하던 소개팅에도 참석하고자 한다. 소개팅의 상대는 K번 회사에 존재한다.\n",
    "#### 방문 판매원 A는 X번 회사에 가서 물건을 판매하기 전에 먼저 소개팅 상대의 회사에 찾아가서 함께 커피를 마실 예정이다.\n",
    "#### 따라서 방문 판매원 A는 1번 회사에서 출발하여 K번 회사를 방문한 뒤에 X번 회사로 가는 것이 목표다.\n",
    "#### 이때 방문 판매원 A는 가능한 한 빠르게 이동하고자 한다.\n",
    "#### 방문 판매원이 회사 사이를 이동하게 되는 최소 시간을 계산하는 프로그램을 작성하시오.\n",
    "#### 이때 소개팅의 상대방과 커피를 마시는 시간 등은 고려하지 않는다고 가정한다. 예를 들어 $N = 5, X = 4, K = 5$이고  회사 간 도로가 7개면서 각 도로가 다음과 같이 연결되어 있을때를 가정할 수 있다.\n",
    "``` (1번  2번), (1번  3번), (1번  4번), (2번  4번), (3번  4번), (3번  5번), (4번  5번) ```\n",
    "#### 이때 방문 판매원 A가 최종적으로 4번 회사에 가는 경로를 (1번 - 3번 - 5번 - 4번)으로 설정하면, 소개ㅐ팅에서도 참석할 수 있었으며 총 3만큼의 시간으로 이동할 수 있다.\n",
    "#### 따라서 이 경우 최소 이동 시간은 3이다.\n",
    "\n",
    "## 입력 조건\n",
    "- 첫째 줄에 전체 회사의 개수 N과 경로의 개수 M이 공백으로 구분되어 차례대로 주어진다. (1 <= N, M <= 100)\n",
    "- 둘째 줄부터 M + 1번째 줄에는 연결된 두 회사의 번호가 공백으로 구분되어 주어진다.\n",
    "- M + 2번째 줄에는 X와 K가 공백으로 구분되어 차례대로 주어진다. (1 <= K <= 100)\n",
    "\n",
    "## 출력 조건\n",
    "- 첫째 줄에 방문 판매원 A가 K번 회사를 거쳐 X번 회사로 가는 최소 이동 시간을 출력한다.\n",
    "- 만약 X번 회사에 도달할 수 없다면 -1을 출력한다.\n",
    "\n",
    "## 입력 예시1\n",
    "> 5 7 </br>\n",
    "1 2</br>\n",
    "1 3</br>\n",
    "1 4</br>\n",
    "2 4</br>\n",
    "3 4</br>\n",
    "3 5</br>\n",
    "4 5</br>\n",
    "4 5\n",
    "\n",
    "## 출력 예시1\n",
    "> 3\n",
    "\n",
    "## 입력 예시2\n",
    "> 4 2</br>\n",
    "1 3</br>\n",
    "2 4</br>\n",
    "3 4</br>\n",
    "\n",
    "## 출력 예시2\n",
    "> -1"
   ]
  },
  {
   "cell_type": "code",
   "execution_count": null,
   "id": "2aec3aaa",
   "metadata": {},
   "outputs": [],
   "source": []
  },
  {
   "cell_type": "markdown",
   "id": "1d91b612",
   "metadata": {},
   "source": [
    "## 풀이"
   ]
  },
  {
   "cell_type": "code",
   "execution_count": 4,
   "id": "eb03ebaa",
   "metadata": {},
   "outputs": [
    {
     "name": "stdout",
     "output_type": "stream",
     "text": [
      "5 7\n",
      "1 2\n",
      "1 3\n",
      "1 4\n",
      "2 4\n",
      "3 4\n",
      "3 5\n",
      "4 5\n",
      "4 5\n",
      "------------------------------------------------\n",
      "3\n"
     ]
    }
   ],
   "source": [
    "INF = int(1e9) \n",
    "\n",
    "# 노드의 개수 및 간선의 개수를 입력받기\n",
    "n, m = map(int, input().split())\n",
    "\n",
    "# 2차원 리스트(그래프 표현)를 만들고, 모든 값을 무한으로 초기화\n",
    "graph = [[INF] * (n + 1) for _ in range(n + 1)]\n",
    "\n",
    "# 자기 자신에서  자기 자신으로 가는 비용은 0으로 초기화\n",
    "for i in range(1, n  + 1) :\n",
    "    for j in range(1, n + 1) :\n",
    "        if i == j :\n",
    "            graph[i][j] = 0\n",
    "            \n",
    "# 각 간선에 대한 정보를 입력받아, 그 값으로 초기화\n",
    "for _ in range(m) :\n",
    "    # A에서 B로 가는 비용은 1라고 설정\n",
    "    a, b = map(int, input().split())\n",
    "    graph[a][b] = 1\n",
    "    graph[b][a] = 1\n",
    "\n",
    "# 거쳐 갈 노드 X와 최종 목적지 노드 K를 입력받기\n",
    "x, k = map(int, input().split())\n",
    "\n",
    "# 점화식에 따라 플로이드 워셜 알고리즘을 수행\n",
    "for z in range(1, n + 1) :\n",
    "    for i in range(1, n + 1) :\n",
    "        for j in range(1, n + 1) :\n",
    "            graph[i][j] = min(graph[i][j], graph[i][z] + graph[z][j])\n",
    "            \n",
    "# 수행된 결과를 출력\n",
    "distance = graph[1][k] + graph[k][x]\n",
    "print(\"------------------------------------------------\")\n",
    "# 도달할 수 없는 경우, -1을 출력\n",
    "if distance >= INF :\n",
    "    print(\"-1\")\n",
    "# 도달할 수 있다면, 최단 거리를 출력\n",
    "else :\n",
    "    print(distance)"
   ]
  },
  {
   "cell_type": "code",
   "execution_count": null,
   "id": "e8700c40",
   "metadata": {},
   "outputs": [],
   "source": []
  }
 ],
 "metadata": {
  "kernelspec": {
   "display_name": "Python 3 (ipykernel)",
   "language": "python",
   "name": "python3"
  },
  "language_info": {
   "codemirror_mode": {
    "name": "ipython",
    "version": 3
   },
   "file_extension": ".py",
   "mimetype": "text/x-python",
   "name": "python",
   "nbconvert_exporter": "python",
   "pygments_lexer": "ipython3",
   "version": "3.9.12"
  }
 },
 "nbformat": 4,
 "nbformat_minor": 5
}
