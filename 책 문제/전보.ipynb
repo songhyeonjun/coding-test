{
 "cells": [
  {
   "cell_type": "markdown",
   "id": "186cec9d",
   "metadata": {},
   "source": [
    "## 문제\n",
    "#### 어떤 나라에는 N개의 도시가 있다.\n",
    "#### 그리고 각 도시는 보내고자 하는 메시지가 있는 경우, 다른 도시로 전보를 보내서 다른 도시로 해당 메시지를 전송할 수 있다.\n",
    "#### 하지만 X라는 도시에서 Y라는 도시로 전보를 보내고자 한다면, 도시 X에서 Y로 향하는 통로가 설치되어 있어야 한다.\n",
    "#### 예를 들어 X에서 Y로 향하는 통로는 있지만, Y에서 X로 향하는 통로가 없다면 Y는 X로 메시지를 보낼 수 없다.\n",
    "#### 또한 통로를 거쳐 메시지를 보낼 때는 일정 시간이 소요된다.\n",
    "#### 어느 날 C라는 도시에서 위급 상황이 발생했다. 그래서 최대한 많은 도시로 메시지를 보내고자 한다.\n",
    "#### 메시지는 도시 C에서 출발하여 각 도시 사이에 설치된 통로를 거쳐, 최대한 많이 퍼져나갈 것이다.\n",
    "#### 각 도시의 번호와 통로가 설치되어 있는 정보가 주어졌을 때, 도시 C에서 보낸 메시지를 받게 되는 도시의 개수는 총 몇 개이며\n",
    "#### 도시들이 모두 메시지를 받는 데까지 걸리는 시간은 얼마인지 계산하는 프로그램을 작성하시오.\n",
    "\n",
    "## 입력조건\n",
    "- 첫째 줄에 도시의 개수 N, 통로의 개수 M, 메시지를 보내고자 하는 도시 C가 주어진다.\n",
    "</br>$(1\\leq N \\leq 30,000, 1 \\leq M \\leq 200,000, 1 \\leq C \\leq N)$\n",
    "- 둘째 줄부터 M + 1번째 줄에 걸쳐서 통로에 대한 정보, X, Y, Z,가 주어진다. 이는 특정 도시 X에서 다른 특정 도시 Y로 이어지는 통로가 있으며, 메시지가 전달되는 시간이 Z라는 의미다.\n",
    "</br> $(1 \\leq X, Y \\leq N, 1 \\leq Z 1,000)$\n",
    "\n",
    "## 출력조건\n",
    "- 첫째 줄에 도시 C에서 보낸 메시지를 받는 도시의 총 개수와 총 걸리는 시간을 공백으로 구분하여 출력한다.\n",
    "\n",
    "## 입력예시\n",
    "> 3 2 1 </br> 1 2 4 </br> 1 3 2\n",
    "\n",
    "## 출력예시\n",
    "> 2 4"
   ]
  },
  {
   "cell_type": "markdown",
   "id": "02af014b",
   "metadata": {},
   "source": [
    "## 문제 해설\n",
    "> 이 문제를 들여다보면 한 도시에서 다른 도시까지의 최단 거리 문제로 치환할 수 있으므로 다익스트라 알고리즘을 이용해서 풀 수 있다. 또한 N과 M의 범위가 충분히 크기 때문에, **우선순위 큐**를 이용하여 다익스트라 알고리즘을 작성해야 한다."
   ]
  },
  {
   "cell_type": "code",
   "execution_count": 10,
   "id": "5b7c590d",
   "metadata": {},
   "outputs": [
    {
     "name": "stdout",
     "output_type": "stream",
     "text": [
      "3 2 1\n",
      "1 2 4\n",
      "[[], [(2, 4)], [], []]\n",
      "1 3 2\n",
      "[[], [(2, 4), (3, 2)], [], []]\n",
      "====================정답====================\n",
      "2 4\n"
     ]
    }
   ],
   "source": [
    "import heapq\n",
    "\n",
    "INF = int(1e9)\n",
    "\n",
    "# 노드의 개수, 간선의 개수, 시작 노드를 입력받기\n",
    "n, m, start = map(int, input().split())\n",
    "\n",
    "# 각 노드에 연결되어 있는 노드에 대한 정보를 담는 리스트를 만들기\n",
    "graph = [[] for i in range(n + 1)]\n",
    "\n",
    "# 최단 거리 테이블을 모두 무한으로 초기화\n",
    "distance = [INF] * (n + 1)\n",
    "\n",
    "# 모든 간선 정보를 입력받기\n",
    "for _ in range(m) :\n",
    "    x, y, z = map(int, input().split())\n",
    "    # x번 노드에서 y번 노드로 가는 비용이 z라는 의미\n",
    "    graph[x].append((y, z))\n",
    "    print(graph)\n",
    "    \n",
    "def dijkstra(start) :\n",
    "    q = []\n",
    "    # 시작 노드로 가기 위한 최단 경로는 0으로 설정하여, 큐에 삽입\n",
    "    heapq.heappush(q, (0, start))\n",
    "    distance[start] = 0\n",
    "    while q : # 큐가 비어있지 않다면\n",
    "        # 가장 최단 거리가 짧은 노드에 대한 정보를 꺼내기\n",
    "        dist, now = heapq.heappop(q)\n",
    "        if distance[now] < dist :\n",
    "            continue\n",
    "        # 현재 노드와 현결된 다른 인접한 노드들을 확인\n",
    "        for i in graph[now] :\n",
    "            cost = dist + i[1]\n",
    "            # 현재 노드를 거쳐서, 다른 노드로 이동하는 거리가 더 짧은 경우\n",
    "            if cost < distance[i[0]] :\n",
    "                distance[i[0]] = cost\n",
    "                heapq.heappush(q, (cost, i[0]))\n",
    "                \n",
    "# 다익스트라 알고리즘을 수행\n",
    "dijkstra(start)\n",
    "\n",
    "# 도달할 수 있는 노드의 개수\n",
    "count = 0\n",
    "\n",
    "# 도달할 수 있는 노드 중에서, 가장 멀리 있는 노드와의 최단 거리\n",
    "max_distance = 0\n",
    "for d in distance :\n",
    "    # 도달할 수 있는 노드인 경우\n",
    "    if d != INF :\n",
    "        count += 1\n",
    "        max_distance = max(max_distance, d)\n",
    "        \n",
    "# 시작 노드는 제외해야 하므로 count -1을 출력\n",
    "print(\"=\"*20 + \"정답\" + \"=\"*20)\n",
    "print(count - 1, max_distance)"
   ]
  },
  {
   "cell_type": "code",
   "execution_count": null,
   "id": "047c1a66",
   "metadata": {},
   "outputs": [],
   "source": []
  }
 ],
 "metadata": {
  "kernelspec": {
   "display_name": "Python 3 (ipykernel)",
   "language": "python",
   "name": "python3"
  },
  "language_info": {
   "codemirror_mode": {
    "name": "ipython",
    "version": 3
   },
   "file_extension": ".py",
   "mimetype": "text/x-python",
   "name": "python",
   "nbconvert_exporter": "python",
   "pygments_lexer": "ipython3",
   "version": "3.9.12"
  }
 },
 "nbformat": 4,
 "nbformat_minor": 5
}
