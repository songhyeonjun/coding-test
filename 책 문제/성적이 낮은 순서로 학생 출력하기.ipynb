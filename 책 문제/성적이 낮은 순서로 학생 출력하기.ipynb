{
 "cells": [
  {
   "cell_type": "markdown",
   "id": "0e80f5b1",
   "metadata": {},
   "source": [
    "## 문제\n",
    "#### N명의 학생 정보가 있다. 학생 정보는 학생의 이름과 학생의 성적으로 구분된다.\n",
    "#### 각 학생의 이름과 성적 정보가 주어졌을 때 성적이 낮은 순서대로 학생의 이름을 출력하는 프로그램을 작성하시오.\n",
    "\n",
    "## 입력 조건\n",
    "#### 첫 번째 줄에 학생의 수 N이 입력된다. (1 <= N <= 100,000)\n",
    "#### 두 번째 줄부터 N + 1 번째 줄에는 학생의 이름을 나타내는 문자열 A와 학생의 성적을 나타내는 정수 B가 공백으로 구분되어 입력된다.\n",
    "#### 문자열 A의 길이와 학생의 성적은 100 이하의 자연수이다.\n",
    "\n",
    "## 출력 조건\n",
    "#### 모든 학생의 이름을 성적이 낮은 순서대로 출력한다.\n",
    "#### 성적이 동일한 학생들의 순서는 자유롭게 출력해도 괜찮다.\n",
    "\n",
    "## 입력 예시\n",
    "```python\n",
    "2\n",
    "홍길동 96\n",
    "이순신 78\n",
    "```\n",
    "\n",
    "## 출력 예시\n",
    "> 이순신 홍길동"
   ]
  },
  {
   "cell_type": "markdown",
   "id": "1f4530d2",
   "metadata": {},
   "source": [
    "## 풀이"
   ]
  },
  {
   "cell_type": "code",
   "execution_count": 8,
   "id": "f2a23063",
   "metadata": {},
   "outputs": [
    {
     "name": "stdout",
     "output_type": "stream",
     "text": [
      "2\n",
      "홍길동 96\n",
      "이순신 78\n",
      "이순신 홍길동 "
     ]
    }
   ],
   "source": [
    "# 학생의 수 입력\n",
    "N = int(input())\n",
    "\n",
    "# 이름과 성적을 문자열과 정수형으로 입력\n",
    "arr = []\n",
    "for i in range(N) :\n",
    "    data = input().split()\n",
    "    arr.append((data[0], int(data[1])))\n",
    "\n",
    "# key 파라메터 이용하여 오름차순 정렬\n",
    "arr.sort(key = lambda x : x[1])\n",
    "\n",
    "# 모든 학생의 이름을 성적이 낮은 순서대로 출력\n",
    "for i in arr :\n",
    "    print(i[0], end=' ')"
   ]
  },
  {
   "cell_type": "code",
   "execution_count": null,
   "id": "4d94a4cb",
   "metadata": {},
   "outputs": [],
   "source": []
  }
 ],
 "metadata": {
  "kernelspec": {
   "display_name": "Python 3 (ipykernel)",
   "language": "python",
   "name": "python3"
  },
  "language_info": {
   "codemirror_mode": {
    "name": "ipython",
    "version": 3
   },
   "file_extension": ".py",
   "mimetype": "text/x-python",
   "name": "python",
   "nbconvert_exporter": "python",
   "pygments_lexer": "ipython3",
   "version": "3.9.12"
  }
 },
 "nbformat": 4,
 "nbformat_minor": 5
}
